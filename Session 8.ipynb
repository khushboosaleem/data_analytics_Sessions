{
 "cells": [
  {
   "cell_type": "code",
   "execution_count": 5,
   "id": "fdd6d2a9-c344-43f8-8019-419898b5381f",
   "metadata": {},
   "outputs": [
    {
     "name": "stdout",
     "output_type": "stream",
     "text": [
      "you are welcome\n"
     ]
    }
   ],
   "source": [
    "visa = \"valid\"\n",
    "account_statement = 5000001\n",
    "\n",
    "if visa == \"valid\":\n",
    "    if account_statement > 5000000:\n",
    "        print(\"you are welcome\")\n",
    "    else:\n",
    "        print(\"your account statement is poor\")\n",
    "else:\n",
    "    print(\"deport\")"
   ]
  },
  {
   "cell_type": "code",
   "execution_count": 7,
   "id": "ca1446f3-5884-469c-b02f-c6fa6834f600",
   "metadata": {},
   "outputs": [
    {
     "name": "stdout",
     "output_type": "stream",
     "text": [
      "your account statement is poor\n"
     ]
    }
   ],
   "source": [
    "visa = \"valid\"\n",
    "account_statement = 4000001\n",
    "\n",
    "if visa == \"valid\":\n",
    "    if account_statement > 5000000:\n",
    "        print(\"you are welcome\")\n",
    "    else:\n",
    "        print(\"your account statement is poor\")\n",
    "else:\n",
    "    print(\"deport\")"
   ]
  },
  {
   "cell_type": "code",
   "execution_count": 11,
   "id": "d78ae8bc-71ab-4806-bd32-fa7a62eebf82",
   "metadata": {},
   "outputs": [
    {
     "name": "stdout",
     "output_type": "stream",
     "text": [
      "deport\n"
     ]
    }
   ],
   "source": [
    "visa = \"invalid\"\n",
    "account_statement = 5000001\n",
    "purpose = \"education\"\n",
    "admission_letter = True\n",
    "job_recommendation = False\n",
    "traveling = True\n",
    "\n",
    "if visa == \"valid\":\n",
    "    if account_statement > 5000000:\n",
    "        if purpose == \"education\":\n",
    "            print(\"you are welcome for education\")\n",
    "        elif purpose == \"job\":\n",
    "            print(\"do your job\")\n",
    "        elif purpose == \"traveling\":\n",
    "            print(\"enjoy your trip\")\n",
    "        else:\n",
    "            print(\"Then why you come here\")\n",
    "    else:\n",
    "        print(\"your account statement is poor\")\n",
    "else:\n",
    "    print(\"deport\")"
   ]
  },
  {
   "cell_type": "code",
   "execution_count": 13,
   "id": "21fe5ea7-81d1-4ce3-b1c6-f0e3b1012433",
   "metadata": {},
   "outputs": [
    {
     "name": "stdout",
     "output_type": "stream",
     "text": [
      "you are welcome for education\n"
     ]
    }
   ],
   "source": [
    "visa = \"valid\"\n",
    "account_statement = 5000001\n",
    "purpose = \"education\"\n",
    "admission_letter = True\n",
    "job_recommendation = False\n",
    "traveling = True\n",
    "\n",
    "if visa == \"valid\":\n",
    "    if account_statement > 5000000:\n",
    "        if purpose == \"education\":\n",
    "            print(\"you are welcome for education\")\n",
    "        elif purpose == \"job\":\n",
    "            print(\"do your job\")\n",
    "        elif purpose == \"traveling\":\n",
    "            print(\"enjoy your trip\")\n",
    "        else:\n",
    "            print(\"Then why you come here\")\n",
    "    else:\n",
    "        print(\"your account statement is poor\")\n",
    "else:\n",
    "    print(\"deport\")"
   ]
  },
  {
   "cell_type": "code",
   "execution_count": 15,
   "id": "e08848c6-3b05-4392-82b0-5f9c8ca6f04e",
   "metadata": {},
   "outputs": [
    {
     "name": "stdout",
     "output_type": "stream",
     "text": [
      "you are welcome for education\n"
     ]
    }
   ],
   "source": [
    "visa = \"valid\"\n",
    "account_statement = 5000001\n",
    "purpose = \"education\"\n",
    "admission_letter = True\n",
    "job_recommendation = False\n",
    "traveling = True\n",
    "\n",
    "if visa == \"valid\":\n",
    "    if account_statement > 5000000:\n",
    "        if purpose == \"education\":\n",
    "            if admission_letter:\n",
    "                print(\"you are welcome for education\")\n",
    "            else:\n",
    "                print(\"sorry you don't have admission letter\")\n",
    "        elif purpose == \"job\":\n",
    "            if job_recommendation:\n",
    "                print(\"do your job\")\n",
    "            else:\n",
    "                print(\"sorry no recommendation letter\")\n",
    "        elif purpose == \"traveling\":\n",
    "            if traveling:\n",
    "                print(\"enjoy your trip\")\n",
    "            else:\n",
    "                print(\"No previous traveling history found\")\n",
    "        else:\n",
    "            print(\"Then why you come here\")\n",
    "    else:\n",
    "        print(\"your account statement is poor\")\n",
    "else:\n",
    "    print(\"deport\")"
   ]
  },
  {
   "cell_type": "code",
   "execution_count": 19,
   "id": "7856fa12-5fc9-4abe-8d93-d87eb6b961d1",
   "metadata": {},
   "outputs": [
    {
     "name": "stdout",
     "output_type": "stream",
     "text": [
      "enjoy your trip\n"
     ]
    }
   ],
   "source": [
    "visa = \"valid\"\n",
    "account_statement = 5000001\n",
    "purpose = \"traveling\"\n",
    "admission_letter = True\n",
    "job_recommendation = False\n",
    "traveling = True\n",
    "\n",
    "if visa == \"valid\":\n",
    "    if account_statement > 5000000:\n",
    "        if purpose == \"education\":\n",
    "            if admission_letter:\n",
    "                print(\"you are welcome for education\")\n",
    "            else:\n",
    "                print(\"sorry you don't have admission letter\")\n",
    "        elif purpose == \"job\":\n",
    "            if job_recommendation:\n",
    "                print(\"do your job\")\n",
    "            else:\n",
    "                print(\"sorry no recommendation letter\")\n",
    "        elif purpose == \"traveling\":\n",
    "            if traveling:\n",
    "                print(\"enjoy your trip\")\n",
    "            else:\n",
    "                print(\"No previous traveling history found\")\n",
    "        else:\n",
    "            print(\"Then why you come here\")\n",
    "    else:\n",
    "        print(\"your account statement is poor\")\n",
    "else:\n",
    "    print(\"deport\")"
   ]
  },
  {
   "cell_type": "markdown",
   "id": "3a655203-0715-4e5b-8825-051f88ff419b",
   "metadata": {},
   "source": [
    "## String's methods"
   ]
  },
  {
   "cell_type": "code",
   "execution_count": 33,
   "id": "c8218630-5ecb-4562-856c-ef8026f2c9ac",
   "metadata": {},
   "outputs": [
    {
     "data": {
      "text/plain": [
       "['__add__',\n",
       " '__class__',\n",
       " '__contains__',\n",
       " '__delattr__',\n",
       " '__dir__',\n",
       " '__doc__',\n",
       " '__eq__',\n",
       " '__format__',\n",
       " '__ge__',\n",
       " '__getattribute__',\n",
       " '__getitem__',\n",
       " '__getnewargs__',\n",
       " '__getstate__',\n",
       " '__gt__',\n",
       " '__hash__',\n",
       " '__init__',\n",
       " '__init_subclass__',\n",
       " '__iter__',\n",
       " '__le__',\n",
       " '__len__',\n",
       " '__lt__',\n",
       " '__mod__',\n",
       " '__mul__',\n",
       " '__ne__',\n",
       " '__new__',\n",
       " '__reduce__',\n",
       " '__reduce_ex__',\n",
       " '__repr__',\n",
       " '__rmod__',\n",
       " '__rmul__',\n",
       " '__setattr__',\n",
       " '__sizeof__',\n",
       " '__str__',\n",
       " '__subclasshook__',\n",
       " 'capitalize',\n",
       " 'casefold',\n",
       " 'center',\n",
       " 'count',\n",
       " 'encode',\n",
       " 'endswith',\n",
       " 'expandtabs',\n",
       " 'find',\n",
       " 'format',\n",
       " 'format_map',\n",
       " 'index',\n",
       " 'isalnum',\n",
       " 'isalpha',\n",
       " 'isascii',\n",
       " 'isdecimal',\n",
       " 'isdigit',\n",
       " 'isidentifier',\n",
       " 'islower',\n",
       " 'isnumeric',\n",
       " 'isprintable',\n",
       " 'isspace',\n",
       " 'istitle',\n",
       " 'isupper',\n",
       " 'join',\n",
       " 'ljust',\n",
       " 'lower',\n",
       " 'lstrip',\n",
       " 'maketrans',\n",
       " 'partition',\n",
       " 'removeprefix',\n",
       " 'removesuffix',\n",
       " 'replace',\n",
       " 'rfind',\n",
       " 'rindex',\n",
       " 'rjust',\n",
       " 'rpartition',\n",
       " 'rsplit',\n",
       " 'rstrip',\n",
       " 'split',\n",
       " 'splitlines',\n",
       " 'startswith',\n",
       " 'strip',\n",
       " 'swapcase',\n",
       " 'title',\n",
       " 'translate',\n",
       " 'upper',\n",
       " 'zfill']"
      ]
     },
     "execution_count": 33,
     "metadata": {},
     "output_type": "execute_result"
    }
   ],
   "source": [
    "dir('')"
   ]
  },
  {
   "cell_type": "code",
   "execution_count": 35,
   "id": "1943bbc5-2fe6-4388-93a9-357a909c456a",
   "metadata": {},
   "outputs": [
    {
     "data": {
      "text/plain": [
       "['__add__',\n",
       " '__class__',\n",
       " '__contains__',\n",
       " '__delattr__',\n",
       " '__dir__',\n",
       " '__doc__',\n",
       " '__eq__',\n",
       " '__format__',\n",
       " '__ge__',\n",
       " '__getattribute__',\n",
       " '__getitem__',\n",
       " '__getnewargs__',\n",
       " '__getstate__',\n",
       " '__gt__',\n",
       " '__hash__',\n",
       " '__init__',\n",
       " '__init_subclass__',\n",
       " '__iter__',\n",
       " '__le__',\n",
       " '__len__',\n",
       " '__lt__',\n",
       " '__mod__',\n",
       " '__mul__',\n",
       " '__ne__',\n",
       " '__new__',\n",
       " '__reduce__',\n",
       " '__reduce_ex__',\n",
       " '__repr__',\n",
       " '__rmod__',\n",
       " '__rmul__',\n",
       " '__setattr__',\n",
       " '__sizeof__',\n",
       " '__str__',\n",
       " '__subclasshook__',\n",
       " 'capitalize',\n",
       " 'casefold',\n",
       " 'center',\n",
       " 'count',\n",
       " 'encode',\n",
       " 'endswith',\n",
       " 'expandtabs',\n",
       " 'find',\n",
       " 'format',\n",
       " 'format_map',\n",
       " 'index',\n",
       " 'isalnum',\n",
       " 'isalpha',\n",
       " 'isascii',\n",
       " 'isdecimal',\n",
       " 'isdigit',\n",
       " 'isidentifier',\n",
       " 'islower',\n",
       " 'isnumeric',\n",
       " 'isprintable',\n",
       " 'isspace',\n",
       " 'istitle',\n",
       " 'isupper',\n",
       " 'join',\n",
       " 'ljust',\n",
       " 'lower',\n",
       " 'lstrip',\n",
       " 'maketrans',\n",
       " 'partition',\n",
       " 'removeprefix',\n",
       " 'removesuffix',\n",
       " 'replace',\n",
       " 'rfind',\n",
       " 'rindex',\n",
       " 'rjust',\n",
       " 'rpartition',\n",
       " 'rsplit',\n",
       " 'rstrip',\n",
       " 'split',\n",
       " 'splitlines',\n",
       " 'startswith',\n",
       " 'strip',\n",
       " 'swapcase',\n",
       " 'title',\n",
       " 'translate',\n",
       " 'upper',\n",
       " 'zfill']"
      ]
     },
     "execution_count": 35,
     "metadata": {},
     "output_type": "execute_result"
    }
   ],
   "source": [
    "dir(str)"
   ]
  },
  {
   "cell_type": "code",
   "execution_count": 37,
   "id": "3024aaf7-f999-4265-900a-b3b87bb86df8",
   "metadata": {},
   "outputs": [
    {
     "data": {
      "text/plain": [
       "['__add__',\n",
       " '__class__',\n",
       " '__contains__',\n",
       " '__delattr__',\n",
       " '__dir__',\n",
       " '__doc__',\n",
       " '__eq__',\n",
       " '__format__',\n",
       " '__ge__',\n",
       " '__getattribute__',\n",
       " '__getitem__',\n",
       " '__getnewargs__',\n",
       " '__getstate__',\n",
       " '__gt__',\n",
       " '__hash__',\n",
       " '__init__',\n",
       " '__init_subclass__',\n",
       " '__iter__',\n",
       " '__le__',\n",
       " '__len__',\n",
       " '__lt__',\n",
       " '__mod__',\n",
       " '__mul__',\n",
       " '__ne__',\n",
       " '__new__',\n",
       " '__reduce__',\n",
       " '__reduce_ex__',\n",
       " '__repr__',\n",
       " '__rmod__',\n",
       " '__rmul__',\n",
       " '__setattr__',\n",
       " '__sizeof__',\n",
       " '__str__',\n",
       " '__subclasshook__',\n",
       " 'capitalize',\n",
       " 'casefold',\n",
       " 'center',\n",
       " 'count',\n",
       " 'encode',\n",
       " 'endswith',\n",
       " 'expandtabs',\n",
       " 'find',\n",
       " 'format',\n",
       " 'format_map',\n",
       " 'index',\n",
       " 'isalnum',\n",
       " 'isalpha',\n",
       " 'isascii',\n",
       " 'isdecimal',\n",
       " 'isdigit',\n",
       " 'isidentifier',\n",
       " 'islower',\n",
       " 'isnumeric',\n",
       " 'isprintable',\n",
       " 'isspace',\n",
       " 'istitle',\n",
       " 'isupper',\n",
       " 'join',\n",
       " 'ljust',\n",
       " 'lower',\n",
       " 'lstrip',\n",
       " 'maketrans',\n",
       " 'partition',\n",
       " 'removeprefix',\n",
       " 'removesuffix',\n",
       " 'replace',\n",
       " 'rfind',\n",
       " 'rindex',\n",
       " 'rjust',\n",
       " 'rpartition',\n",
       " 'rsplit',\n",
       " 'rstrip',\n",
       " 'split',\n",
       " 'splitlines',\n",
       " 'startswith',\n",
       " 'strip',\n",
       " 'swapcase',\n",
       " 'title',\n",
       " 'translate',\n",
       " 'upper',\n",
       " 'zfill']"
      ]
     },
     "execution_count": 37,
     "metadata": {},
     "output_type": "execute_result"
    }
   ],
   "source": [
    "dir(\"\")"
   ]
  },
  {
   "cell_type": "code",
   "execution_count": 39,
   "id": "b0c9f42e-3043-43a3-b72b-22f649613a18",
   "metadata": {},
   "outputs": [
    {
     "data": {
      "text/plain": [
       "'hello world'"
      ]
     },
     "execution_count": 39,
     "metadata": {},
     "output_type": "execute_result"
    }
   ],
   "source": [
    "hello = \"hello world\"\n",
    "hello"
   ]
  },
  {
   "cell_type": "code",
   "execution_count": 41,
   "id": "f4e06568-be0c-48ef-b5d1-ff073c59d47f",
   "metadata": {},
   "outputs": [
    {
     "data": {
      "text/plain": [
       "str"
      ]
     },
     "execution_count": 41,
     "metadata": {},
     "output_type": "execute_result"
    }
   ],
   "source": [
    "type(hello)"
   ]
  },
  {
   "cell_type": "code",
   "execution_count": 43,
   "id": "0ac9f66e-f693-4016-a99e-5e90bfa49119",
   "metadata": {},
   "outputs": [
    {
     "ename": "AttributeError",
     "evalue": "'str' object has no attribute 'append'",
     "output_type": "error",
     "traceback": [
      "\u001b[1;31m---------------------------------------------------------------------------\u001b[0m",
      "\u001b[1;31mAttributeError\u001b[0m                            Traceback (most recent call last)",
      "Cell \u001b[1;32mIn[43], line 1\u001b[0m\n\u001b[1;32m----> 1\u001b[0m hello\u001b[38;5;241m.\u001b[39mappend(\u001b[38;5;124m\"\u001b[39m\u001b[38;5;124mtoday\u001b[39m\u001b[38;5;124m\"\u001b[39m)\n",
      "\u001b[1;31mAttributeError\u001b[0m: 'str' object has no attribute 'append'"
     ]
    }
   ],
   "source": [
    "hello.append(\"today\")"
   ]
  },
  {
   "cell_type": "code",
   "execution_count": 47,
   "id": "3860512e-fed2-4960-b04f-d395d791db57",
   "metadata": {},
   "outputs": [
    {
     "data": {
      "text/plain": [
       "['hello world']"
      ]
     },
     "execution_count": 47,
     "metadata": {},
     "output_type": "execute_result"
    }
   ],
   "source": [
    "hello = [\"hello world\"]\n",
    "hello"
   ]
  },
  {
   "cell_type": "code",
   "execution_count": 49,
   "id": "39e8e37f-7ba3-4dbc-9835-ec267eb0220b",
   "metadata": {},
   "outputs": [],
   "source": [
    "hello.append(\"today\")"
   ]
  },
  {
   "cell_type": "code",
   "execution_count": 51,
   "id": "4075220a-2a76-434f-9f01-9fed6406d42f",
   "metadata": {},
   "outputs": [
    {
     "data": {
      "text/plain": [
       "['hello world', 'today']"
      ]
     },
     "execution_count": 51,
     "metadata": {},
     "output_type": "execute_result"
    }
   ],
   "source": [
    "hello"
   ]
  },
  {
   "cell_type": "code",
   "execution_count": 53,
   "id": "b5f3ccf4-f1fc-45d3-81ed-41a0a181e4f9",
   "metadata": {},
   "outputs": [
    {
     "ename": "AttributeError",
     "evalue": "'list' object has no attribute 'replace'",
     "output_type": "error",
     "traceback": [
      "\u001b[1;31m---------------------------------------------------------------------------\u001b[0m",
      "\u001b[1;31mAttributeError\u001b[0m                            Traceback (most recent call last)",
      "Cell \u001b[1;32mIn[53], line 1\u001b[0m\n\u001b[1;32m----> 1\u001b[0m hello\u001b[38;5;241m.\u001b[39mreplace(\u001b[38;5;124m\"\u001b[39m\u001b[38;5;124mworld\u001b[39m\u001b[38;5;124m\"\u001b[39m,\u001b[38;5;124m\"\u001b[39m\u001b[38;5;124muniverse\u001b[39m\u001b[38;5;124m\"\u001b[39m)\n",
      "\u001b[1;31mAttributeError\u001b[0m: 'list' object has no attribute 'replace'"
     ]
    }
   ],
   "source": [
    "hello.replace(\"world\",\"universe\")"
   ]
  },
  {
   "cell_type": "code",
   "execution_count": 55,
   "id": "3b326b22-adbf-44eb-9b09-cac069a1d27b",
   "metadata": {},
   "outputs": [
    {
     "data": {
      "text/plain": [
       "'We have been completed seven session'"
      ]
     },
     "execution_count": 55,
     "metadata": {},
     "output_type": "execute_result"
    }
   ],
   "source": [
    "sessions = \"We have been completed seven session\"\n",
    "sessions"
   ]
  },
  {
   "cell_type": "code",
   "execution_count": 57,
   "id": "317fad56-235b-4371-9ac0-0a903f25b4a5",
   "metadata": {},
   "outputs": [
    {
     "data": {
      "text/plain": [
       "'We have been completed eight session'"
      ]
     },
     "execution_count": 57,
     "metadata": {},
     "output_type": "execute_result"
    }
   ],
   "source": [
    "sessions.replace(\"seven\",\"eight\")"
   ]
  },
  {
   "cell_type": "code",
   "execution_count": 59,
   "id": "a43f0407-0b47-4960-86c3-0373ea2db835",
   "metadata": {},
   "outputs": [
    {
     "data": {
      "text/plain": [
       "'We have been completed eight session'"
      ]
     },
     "execution_count": 59,
     "metadata": {},
     "output_type": "execute_result"
    }
   ],
   "source": [
    "\"We have been completed seven session\".replace(\"seven\",\"eight\")"
   ]
  },
  {
   "cell_type": "code",
   "execution_count": 67,
   "id": "6a97fb84-281c-481b-b7b3-53d648576121",
   "metadata": {},
   "outputs": [
    {
     "data": {
      "text/plain": [
       "'We have been completed eight session'"
      ]
     },
     "execution_count": 67,
     "metadata": {},
     "output_type": "execute_result"
    }
   ],
   "source": [
    "\"We have been completed 7 session\".replace(\"7\",\"eight\")"
   ]
  },
  {
   "cell_type": "code",
   "execution_count": 69,
   "id": "7a04d6c4-a742-4d07-8748-3d3b6dcdaee2",
   "metadata": {},
   "outputs": [
    {
     "data": {
      "text/plain": [
       "'We have been completed seven session'"
      ]
     },
     "execution_count": 69,
     "metadata": {},
     "output_type": "execute_result"
    }
   ],
   "source": [
    "sessions"
   ]
  },
  {
   "cell_type": "code",
   "execution_count": 73,
   "id": "bfd3e9b0-fe00-4def-a6e0-47ff20240cd6",
   "metadata": {},
   "outputs": [
    {
     "data": {
      "text/plain": [
       "8"
      ]
     },
     "execution_count": 73,
     "metadata": {},
     "output_type": "execute_result"
    }
   ],
   "source": [
    "sessions.index(\"been\")"
   ]
  },
  {
   "cell_type": "code",
   "execution_count": 77,
   "id": "05c9d0f0-aec9-41d4-a2c2-e4b75c1c900f",
   "metadata": {},
   "outputs": [
    {
     "data": {
      "text/plain": [
       "8"
      ]
     },
     "execution_count": 77,
     "metadata": {},
     "output_type": "execute_result"
    }
   ],
   "source": [
    "sessions.index(\"b\")"
   ]
  },
  {
   "cell_type": "code",
   "execution_count": 75,
   "id": "fc92eb26-9fb3-4b1f-86be-8fd6467bff0d",
   "metadata": {},
   "outputs": [
    {
     "data": {
      "text/plain": [
       "1"
      ]
     },
     "execution_count": 75,
     "metadata": {},
     "output_type": "execute_result"
    }
   ],
   "source": [
    "sessions.index('e')"
   ]
  },
  {
   "cell_type": "code",
   "execution_count": 79,
   "id": "cc9f6287-3133-4504-8cb3-a510925a1037",
   "metadata": {},
   "outputs": [
    {
     "data": {
      "text/plain": [
       "'We have been completed seven session'"
      ]
     },
     "execution_count": 79,
     "metadata": {},
     "output_type": "execute_result"
    }
   ],
   "source": [
    "sessions"
   ]
  },
  {
   "cell_type": "code",
   "execution_count": 81,
   "id": "2a164a78-2f26-4a93-819d-6fdc298f33d7",
   "metadata": {},
   "outputs": [
    {
     "data": {
      "text/plain": [
       "['We', 'have', 'been', 'completed', 'seven', 'session']"
      ]
     },
     "execution_count": 81,
     "metadata": {},
     "output_type": "execute_result"
    }
   ],
   "source": [
    "sessions.split()"
   ]
  },
  {
   "cell_type": "code",
   "execution_count": 97,
   "id": "216f37eb-0a5d-47fe-910a-bae08804c911",
   "metadata": {},
   "outputs": [
    {
     "data": {
      "text/plain": [
       "'been'"
      ]
     },
     "execution_count": 97,
     "metadata": {},
     "output_type": "execute_result"
    }
   ],
   "source": [
    "sessions.split()[2]"
   ]
  },
  {
   "cell_type": "code",
   "execution_count": 83,
   "id": "d65c2670-e716-4005-b87d-959629ebd3d5",
   "metadata": {},
   "outputs": [
    {
     "data": {
      "text/plain": [
       "'20 kg'"
      ]
     },
     "execution_count": 83,
     "metadata": {},
     "output_type": "execute_result"
    }
   ],
   "source": [
    "unit = '20 kg'\n",
    "unit"
   ]
  },
  {
   "cell_type": "code",
   "execution_count": 85,
   "id": "0ec91c81-3e11-4511-92dc-fd509a3c2065",
   "metadata": {},
   "outputs": [
    {
     "data": {
      "text/plain": [
       "'20  '"
      ]
     },
     "execution_count": 85,
     "metadata": {},
     "output_type": "execute_result"
    }
   ],
   "source": [
    "unit.replace(\"kg\",\" \")"
   ]
  },
  {
   "cell_type": "code",
   "execution_count": 91,
   "id": "fe2094a5-8c22-4915-8255-59bde1d8e54f",
   "metadata": {},
   "outputs": [
    {
     "data": {
      "text/plain": [
       "['20', 'kg']"
      ]
     },
     "execution_count": 91,
     "metadata": {},
     "output_type": "execute_result"
    }
   ],
   "source": [
    "unit.split()"
   ]
  },
  {
   "cell_type": "code",
   "execution_count": 93,
   "id": "1bb773f8-a83e-4205-825b-68361e7a6a3f",
   "metadata": {},
   "outputs": [
    {
     "data": {
      "text/plain": [
       "'20'"
      ]
     },
     "execution_count": 93,
     "metadata": {},
     "output_type": "execute_result"
    }
   ],
   "source": [
    "unit.split()[0]"
   ]
  },
  {
   "cell_type": "code",
   "execution_count": 95,
   "id": "646bb4ef-b47d-43ad-b68c-2330c7391038",
   "metadata": {},
   "outputs": [
    {
     "data": {
      "text/plain": [
       "'We have been completed seven session'"
      ]
     },
     "execution_count": 95,
     "metadata": {},
     "output_type": "execute_result"
    }
   ],
   "source": [
    "sessions"
   ]
  },
  {
   "cell_type": "code",
   "execution_count": 99,
   "id": "710c0664-c927-48b6-9815-32e8aa242834",
   "metadata": {},
   "outputs": [
    {
     "data": {
      "text/plain": [
       "'  hello  world  '"
      ]
     },
     "execution_count": 99,
     "metadata": {},
     "output_type": "execute_result"
    }
   ],
   "source": [
    "\"  hello  world  \""
   ]
  },
  {
   "cell_type": "code",
   "execution_count": 101,
   "id": "ed0ef1a8-2ad6-43df-847d-2e5e90b7a587",
   "metadata": {},
   "outputs": [
    {
     "data": {
      "text/plain": [
       "'hello  world'"
      ]
     },
     "execution_count": 101,
     "metadata": {},
     "output_type": "execute_result"
    }
   ],
   "source": [
    "\"  hello  world  \".strip()"
   ]
  },
  {
   "cell_type": "code",
   "execution_count": 103,
   "id": "d1df9a9b-8c29-433e-9b7e-35b0837b14d6",
   "metadata": {},
   "outputs": [
    {
     "data": {
      "text/plain": [
       "'  hello  world'"
      ]
     },
     "execution_count": 103,
     "metadata": {},
     "output_type": "execute_result"
    }
   ],
   "source": [
    "\"  hello  world  \".rstrip()"
   ]
  },
  {
   "cell_type": "code",
   "execution_count": 105,
   "id": "79fc2b84-b497-451d-91f4-0649416508c8",
   "metadata": {},
   "outputs": [
    {
     "data": {
      "text/plain": [
       "'hello  world  '"
      ]
     },
     "execution_count": 105,
     "metadata": {},
     "output_type": "execute_result"
    }
   ],
   "source": [
    "\"  hello  world  \".lstrip()"
   ]
  },
  {
   "cell_type": "code",
   "execution_count": 107,
   "id": "38bd142a-7696-4b3c-b82d-139e325635f0",
   "metadata": {},
   "outputs": [
    {
     "data": {
      "text/plain": [
       "True"
      ]
     },
     "execution_count": 107,
     "metadata": {},
     "output_type": "execute_result"
    }
   ],
   "source": [
    "\"125\".isdigit()"
   ]
  },
  {
   "cell_type": "code",
   "execution_count": 109,
   "id": "5ba8c3f4-5a86-4da1-b812-b4deb3a20e3e",
   "metadata": {},
   "outputs": [
    {
     "data": {
      "text/plain": [
       "False"
      ]
     },
     "execution_count": 109,
     "metadata": {},
     "output_type": "execute_result"
    }
   ],
   "source": [
    "\"vjs\".isdigit()"
   ]
  },
  {
   "cell_type": "code",
   "execution_count": 111,
   "id": "51f93746-4b5f-4eae-9306-b99487519678",
   "metadata": {},
   "outputs": [
    {
     "data": {
      "text/plain": [
       "'Hello World'"
      ]
     },
     "execution_count": 111,
     "metadata": {},
     "output_type": "execute_result"
    }
   ],
   "source": [
    "\"hello world\".title()"
   ]
  },
  {
   "cell_type": "code",
   "execution_count": 113,
   "id": "71a743cd-bd5c-4360-ad3c-40fd9de2c2c4",
   "metadata": {},
   "outputs": [
    {
     "data": {
      "text/plain": [
       "'We have been completed seven session'"
      ]
     },
     "execution_count": 113,
     "metadata": {},
     "output_type": "execute_result"
    }
   ],
   "source": [
    "sessions"
   ]
  },
  {
   "cell_type": "code",
   "execution_count": 117,
   "id": "95177876-4b6d-41a3-b006-08f0bfd72d7d",
   "metadata": {},
   "outputs": [
    {
     "data": {
      "text/plain": [
       "'WE HAVE BEEN COMPLETED SEVEN SESSION'"
      ]
     },
     "execution_count": 117,
     "metadata": {},
     "output_type": "execute_result"
    }
   ],
   "source": [
    "upper = sessions.upper()\n",
    "upper"
   ]
  },
  {
   "cell_type": "code",
   "execution_count": 119,
   "id": "7aaee313-951e-490c-b2c3-152feb765fe6",
   "metadata": {},
   "outputs": [
    {
     "data": {
      "text/plain": [
       "'we have been completed seven session'"
      ]
     },
     "execution_count": 119,
     "metadata": {},
     "output_type": "execute_result"
    }
   ],
   "source": [
    "upper.lower()"
   ]
  },
  {
   "cell_type": "code",
   "execution_count": 123,
   "id": "8a8f602d-2b64-4bd8-8f93-7182d15c1d0d",
   "metadata": {},
   "outputs": [
    {
     "data": {
      "text/plain": [
       "'we have been completed seven session'"
      ]
     },
     "execution_count": 123,
     "metadata": {},
     "output_type": "execute_result"
    }
   ],
   "source": [
    "sessions.casefold()"
   ]
  },
  {
   "cell_type": "code",
   "execution_count": 131,
   "id": "ed7a6ee2-f0c2-411d-a47d-77fbb0d67d34",
   "metadata": {},
   "outputs": [
    {
     "data": {
      "text/plain": [
       "'hello world'"
      ]
     },
     "execution_count": 131,
     "metadata": {},
     "output_type": "execute_result"
    }
   ],
   "source": [
    "\"Hello World\".casefold()"
   ]
  },
  {
   "cell_type": "code",
   "execution_count": null,
   "id": "d59a6f5f-09cb-4dbe-93f6-21c37a55f654",
   "metadata": {},
   "outputs": [],
   "source": []
  }
 ],
 "metadata": {
  "kernelspec": {
   "display_name": "Python 3 (ipykernel)",
   "language": "python",
   "name": "python3"
  },
  "language_info": {
   "codemirror_mode": {
    "name": "ipython",
    "version": 3
   },
   "file_extension": ".py",
   "mimetype": "text/x-python",
   "name": "python",
   "nbconvert_exporter": "python",
   "pygments_lexer": "ipython3",
   "version": "3.12.4"
  }
 },
 "nbformat": 4,
 "nbformat_minor": 5
}
