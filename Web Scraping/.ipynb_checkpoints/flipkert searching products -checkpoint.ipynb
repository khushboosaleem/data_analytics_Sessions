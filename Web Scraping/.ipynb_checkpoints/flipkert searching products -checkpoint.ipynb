{
 "cells": [
  {
   "cell_type": "code",
   "execution_count": null,
   "id": "f9f2fc10-6a08-425b-b48f-3b621a52501a",
   "metadata": {},
   "outputs": [],
   "source": [
    "# Importing the webdriver module to interact with the browser\n",
    "from selenium import webdriver \n",
    "\n",
    "# Automatically manages and installs the appropriate ChromeDriver\n",
    "from webdriver_manager.chrome import ChromeDriverManager  \n",
    "\n",
    "# Used to specify the path to the WebDriver executable (ChromeDriver in this case)\n",
    "from selenium.webdriver.chrome.service import Service \n",
    "\n",
    "# Allows you to customize Chrome's behavior \n",
    "from selenium.webdriver.chrome.options import Options\n",
    "\n",
    "# Importing By class from Selenium webdriver.common module\n",
    "from selenium.webdriver.common.by import By \n",
    "\n",
    "# Setting up Chrome options (optional configuration for Chrome browser)\n",
    "options = Options()\n",
    "\n",
    "# Adding experimental option to keep the browser open after the script ends\n",
    "options.add_experimental_option(\"detach\", True)  \n",
    "\n",
    "driver = webdriver.Chrome(service=Service(ChromeDriverManager().install()), options=options)\n",
    "\n",
    "# Open a URL (Google in this case)\n",
    "# driver.get(\"https://www.google.com\")\n",
    "# driver.get(\"https://www.youtube.com/watch?v=fezw6OUEVkM\")\n"
   ]
  },
  {
   "cell_type": "code",
   "execution_count": null,
   "id": "0ffb2623-74aa-48d6-b8be-b33670f37a9b",
   "metadata": {},
   "outputs": [],
   "source": [
    "# Get website\n",
    "driver.get(\"https://www.flipkart.com/\")"
   ]
  },
  {
   "cell_type": "code",
   "execution_count": null,
   "id": "6e643b52-521d-49cd-9300-e48a126778d8",
   "metadata": {},
   "outputs": [],
   "source": [
    "# Find XPATH and then send keys on the search box\n",
    "search_box = driver.find_element(By.XPATH,\"//input[@type='text']\")\n",
    "search_box.send_keys(\"one plus headphones\")"
   ]
  },
  {
   "cell_type": "code",
   "execution_count": null,
   "id": "d1353efd-6c5b-4584-8d0a-3d94cd9f6925",
   "metadata": {},
   "outputs": [],
   "source": [
    "# Get attribute\n",
    "first_option = driver.find_element(By.XPATH,\"(//form[contains(@class,'header-form-search')]//a)[1]\").click()"
   ]
  },
  {
   "cell_type": "code",
   "execution_count": null,
   "id": "8a299e6f-5c35-4a1b-b2dc-867843963ee8",
   "metadata": {},
   "outputs": [],
   "source": [
    "# Display the current url \n",
    "print(driver.current_url)\n"
   ]
  }
 ],
 "metadata": {
  "kernelspec": {
   "display_name": "Python 3 (ipykernel)",
   "language": "python",
   "name": "python3"
  },
  "language_info": {
   "codemirror_mode": {
    "name": "ipython",
    "version": 3
   },
   "file_extension": ".py",
   "mimetype": "text/x-python",
   "name": "python",
   "nbconvert_exporter": "python",
   "pygments_lexer": "ipython3",
   "version": "3.12.4"
  }
 },
 "nbformat": 4,
 "nbformat_minor": 5
}
