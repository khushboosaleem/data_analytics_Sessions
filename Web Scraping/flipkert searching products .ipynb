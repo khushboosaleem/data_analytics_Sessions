{
 "cells": [
  {
   "cell_type": "code",
   "execution_count": 1,
   "id": "5f82f7b8-73ea-4cc2-866d-95e4e03432f3",
   "metadata": {},
   "outputs": [
    {
     "name": "stdout",
     "output_type": "stream",
     "text": [
      "Requirement already satisfied: selenium in c:\\users\\faatiq_pc\\anaconda3\\lib\\site-packages (4.27.1)\n",
      "Requirement already satisfied: urllib3<3,>=1.26 in c:\\users\\faatiq_pc\\anaconda3\\lib\\site-packages (from urllib3[socks]<3,>=1.26->selenium) (2.2.2)\n",
      "Requirement already satisfied: trio~=0.17 in c:\\users\\faatiq_pc\\anaconda3\\lib\\site-packages (from selenium) (0.27.0)\n",
      "Requirement already satisfied: trio-websocket~=0.9 in c:\\users\\faatiq_pc\\anaconda3\\lib\\site-packages (from selenium) (0.11.1)\n",
      "Requirement already satisfied: certifi>=2021.10.8 in c:\\users\\faatiq_pc\\anaconda3\\lib\\site-packages (from selenium) (2024.8.30)\n",
      "Requirement already satisfied: typing_extensions~=4.9 in c:\\users\\faatiq_pc\\anaconda3\\lib\\site-packages (from selenium) (4.11.0)\n",
      "Requirement already satisfied: websocket-client~=1.8 in c:\\users\\faatiq_pc\\anaconda3\\lib\\site-packages (from selenium) (1.8.0)\n",
      "Requirement already satisfied: attrs>=23.2.0 in c:\\users\\faatiq_pc\\anaconda3\\lib\\site-packages (from trio~=0.17->selenium) (24.3.0)\n",
      "Requirement already satisfied: sortedcontainers in c:\\users\\faatiq_pc\\anaconda3\\lib\\site-packages (from trio~=0.17->selenium) (2.4.0)\n",
      "Requirement already satisfied: idna in c:\\users\\faatiq_pc\\anaconda3\\lib\\site-packages (from trio~=0.17->selenium) (2.10)\n",
      "Requirement already satisfied: outcome in c:\\users\\faatiq_pc\\anaconda3\\lib\\site-packages (from trio~=0.17->selenium) (1.3.0.post0)\n",
      "Requirement already satisfied: sniffio>=1.3.0 in c:\\users\\faatiq_pc\\anaconda3\\lib\\site-packages (from trio~=0.17->selenium) (1.3.0)\n",
      "Requirement already satisfied: cffi>=1.14 in c:\\users\\faatiq_pc\\anaconda3\\lib\\site-packages (from trio~=0.17->selenium) (1.16.0)\n",
      "Requirement already satisfied: wsproto>=0.14 in c:\\users\\faatiq_pc\\anaconda3\\lib\\site-packages (from trio-websocket~=0.9->selenium) (1.2.0)\n",
      "Requirement already satisfied: pysocks!=1.5.7,<2.0,>=1.5.6 in c:\\users\\faatiq_pc\\anaconda3\\lib\\site-packages (from urllib3[socks]<3,>=1.26->selenium) (1.7.1)\n",
      "Requirement already satisfied: pycparser in c:\\users\\faatiq_pc\\anaconda3\\lib\\site-packages (from cffi>=1.14->trio~=0.17->selenium) (2.21)\n",
      "Requirement already satisfied: h11<1,>=0.9.0 in c:\\users\\faatiq_pc\\anaconda3\\lib\\site-packages (from wsproto>=0.14->trio-websocket~=0.9->selenium) (0.9.0)\n"
     ]
    }
   ],
   "source": [
    "!pip install selenium"
   ]
  },
  {
   "cell_type": "code",
   "execution_count": 23,
   "id": "f9f2fc10-6a08-425b-b48f-3b621a52501a",
   "metadata": {},
   "outputs": [],
   "source": [
    "# Importing the webdriver module to interact with the browser\n",
    "from selenium import webdriver \n",
    "\n",
    "# Automatically manages and installs the appropriate ChromeDriver\n",
    "from webdriver_manager.chrome import ChromeDriverManager  \n",
    "\n",
    "# Used to specify the path to the WebDriver executable (ChromeDriver in this case)\n",
    "from selenium.webdriver.chrome.service import Service \n",
    "\n",
    "# Allows you to customize Chrome's behavior \n",
    "from selenium.webdriver.chrome.options import Options\n",
    "\n",
    "# Importing By class from Selenium webdriver.common module\n",
    "from selenium.webdriver.common.by import By \n",
    "\n",
    "# Setting up Chrome options (optional configuration for Chrome browser)\n",
    "options = Options()\n",
    "\n",
    "# Adding experimental option to keep the browser open after the script ends\n",
    "options.add_experimental_option(\"detach\", True)  \n",
    "\n",
    "driver = webdriver.Chrome(service=Service(ChromeDriverManager().install()), options=options)\n",
    "\n",
    "# Open a URL (Google in this case)\n",
    "# driver.get(\"https://www.google.com\")\n",
    "# driver.get(\"https://www.youtube.com/watch?v=Eio-ZGLRDSs\")\n"
   ]
  },
  {
   "cell_type": "code",
   "execution_count": 25,
   "id": "0ffb2623-74aa-48d6-b8be-b33670f37a9b",
   "metadata": {},
   "outputs": [],
   "source": [
    "# Get website\n",
    "driver.get(\"https://www.flipkart.com/\")"
   ]
  },
  {
   "cell_type": "code",
   "execution_count": 27,
   "id": "6e643b52-521d-49cd-9300-e48a126778d8",
   "metadata": {},
   "outputs": [],
   "source": [
    "# Find XPATH and then send keys on the search box\n",
    "search_box = driver.find_element(By.XPATH,\"//input[@type='text']\")\n",
    "search_box.send_keys(\"one plus headphones\")"
   ]
  },
  {
   "cell_type": "code",
   "execution_count": 29,
   "id": "d1353efd-6c5b-4584-8d0a-3d94cd9f6925",
   "metadata": {},
   "outputs": [],
   "source": [
    "# Get attribute\n",
    "first_option = driver.find_element(By.XPATH,\"(//form[contains(@class,'header-form-search')]//a)[1]\").click()"
   ]
  },
  {
   "cell_type": "code",
   "execution_count": 31,
   "id": "8a299e6f-5c35-4a1b-b2dc-867843963ee8",
   "metadata": {},
   "outputs": [
    {
     "name": "stdout",
     "output_type": "stream",
     "text": [
      "https://www.flipkart.com/search?q=one+plus+headphones+z2anc&sid=0pm%2Cfcn%2C821%2Ca7x%2C2rv&as=on&as-show=on&otracker=AS_QueryStore_OrganicAutoSuggest_1_19_na_na_na&otracker1=AS_QueryStore_OrganicAutoSuggest_1_19_na_na_na&as-pos=1&as-type=RECENT&suggestionId=one+plus+headphones+z2anc%7CNeckband&requestId=c35c2589-d09e-4ed6-a404-83cff989663e&as-searchtext=one%20plus%20headphones%20z2anc\n"
     ]
    }
   ],
   "source": [
    "# Display the current url \n",
    "print(driver.current_url)\n"
   ]
  },
  {
   "cell_type": "code",
   "execution_count": null,
   "id": "34ca141f-2537-4748-b841-306bed909cb2",
   "metadata": {},
   "outputs": [],
   "source": []
  }
 ],
 "metadata": {
  "kernelspec": {
   "display_name": "Python 3 (ipykernel)",
   "language": "python",
   "name": "python3"
  },
  "language_info": {
   "codemirror_mode": {
    "name": "ipython",
    "version": 3
   },
   "file_extension": ".py",
   "mimetype": "text/x-python",
   "name": "python",
   "nbconvert_exporter": "python",
   "pygments_lexer": "ipython3",
   "version": "3.12.4"
  }
 },
 "nbformat": 4,
 "nbformat_minor": 5
}
