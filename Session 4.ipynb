{
 "cells": [
  {
   "cell_type": "markdown",
   "id": "db9e2fae",
   "metadata": {},
   "source": [
    "# print(\"Hello world\")"
   ]
  },
  {
   "cell_type": "markdown",
   "id": "137aa1c4",
   "metadata": {},
   "source": [
    "# ***session 1  -- h1***"
   ]
  },
  {
   "cell_type": "markdown",
   "id": "730050b2",
   "metadata": {},
   "source": [
    "## ***session 1  -- h2***"
   ]
  },
  {
   "cell_type": "code",
   "execution_count": 1,
   "id": "52f8ec94",
   "metadata": {},
   "outputs": [
    {
     "name": "stdout",
     "output_type": "stream",
     "text": [
      "Hello world\n"
     ]
    }
   ],
   "source": [
    "print(\"Hello world\")"
   ]
  }
 ],
 "metadata": {
  "kernelspec": {
   "display_name": "Python 3 (ipykernel)",
   "language": "python",
   "name": "python3"
  },
  "language_info": {
   "codemirror_mode": {
    "name": "ipython",
    "version": 3
   },
   "file_extension": ".py",
   "mimetype": "text/x-python",
   "name": "python",
   "nbconvert_exporter": "python",
   "pygments_lexer": "ipython3",
   "version": "3.12.4"
  }
 },
 "nbformat": 4,
 "nbformat_minor": 5
}
