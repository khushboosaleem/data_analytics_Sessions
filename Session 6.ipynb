{
 "cells": [
  {
   "cell_type": "code",
   "execution_count": 1,
   "id": "dc059e68-619f-487f-aff5-cb592ba1c5f1",
   "metadata": {},
   "outputs": [
    {
     "data": {
      "text/plain": [
       "['20k', '30k', '56k', '100k', '300k', '89k']"
      ]
     },
     "execution_count": 1,
     "metadata": {},
     "output_type": "execute_result"
    }
   ],
   "source": [
    "salaries = [\"20k\",\"30k\",\"56k\",'100k','300k','89k']\n",
    "salaries"
   ]
  },
  {
   "cell_type": "code",
   "execution_count": 3,
   "id": "50effd9e-0abb-401a-b45a-15abc89deec8",
   "metadata": {},
   "outputs": [
    {
     "data": {
      "text/plain": [
       "6"
      ]
     },
     "execution_count": 3,
     "metadata": {},
     "output_type": "execute_result"
    }
   ],
   "source": [
    "len(salaries)"
   ]
  },
  {
   "cell_type": "code",
   "execution_count": 5,
   "id": "174d13ba-2bc2-477c-bfb2-ec4e67efb974",
   "metadata": {},
   "outputs": [
    {
     "data": {
      "text/plain": [
       "'89k'"
      ]
     },
     "execution_count": 5,
     "metadata": {},
     "output_type": "execute_result"
    }
   ],
   "source": [
    "salaries[-1]"
   ]
  },
  {
   "cell_type": "code",
   "execution_count": 7,
   "id": "a2cfe147-b01c-473b-bb61-eef537a8713a",
   "metadata": {},
   "outputs": [
    {
     "data": {
      "text/plain": [
       "['56k', '100k', '300k']"
      ]
     },
     "execution_count": 7,
     "metadata": {},
     "output_type": "execute_result"
    }
   ],
   "source": [
    "salaries[2:5]"
   ]
  },
  {
   "cell_type": "code",
   "execution_count": 9,
   "id": "a3175c86-14eb-4ee8-a35b-a75dc0a29ae8",
   "metadata": {},
   "outputs": [
    {
     "data": {
      "text/plain": [
       "['20k', '30k', '56k', '100k', '300k', '89k']"
      ]
     },
     "execution_count": 9,
     "metadata": {},
     "output_type": "execute_result"
    }
   ],
   "source": [
    "salaries"
   ]
  },
  {
   "cell_type": "code",
   "execution_count": 17,
   "id": "ab19e244-96ac-442c-a895-51eaaa4d072f",
   "metadata": {},
   "outputs": [
    {
     "data": {
      "text/plain": [
       "['56k', '100k', '300k']"
      ]
     },
     "execution_count": 17,
     "metadata": {},
     "output_type": "execute_result"
    }
   ],
   "source": [
    "salaries[-4:-1]"
   ]
  },
  {
   "cell_type": "code",
   "execution_count": 25,
   "id": "07dde055-bad7-4c21-b1c9-b7683bc63306",
   "metadata": {},
   "outputs": [
    {
     "data": {
      "text/plain": [
       "['56k', '100k', '300k', '89k']"
      ]
     },
     "execution_count": 25,
     "metadata": {},
     "output_type": "execute_result"
    }
   ],
   "source": [
    "salaries[-4:]"
   ]
  },
  {
   "cell_type": "code",
   "execution_count": 27,
   "id": "47bbc43c-ae07-4888-88d3-94a5a6b0b717",
   "metadata": {},
   "outputs": [
    {
     "data": {
      "text/plain": [
       "['20k', '30k', '56k', '100k', '300k', '89k']"
      ]
     },
     "execution_count": 27,
     "metadata": {},
     "output_type": "execute_result"
    }
   ],
   "source": [
    "salaries"
   ]
  },
  {
   "cell_type": "code",
   "execution_count": 33,
   "id": "08ded5b8-af76-4943-80cf-78b12657d32f",
   "metadata": {},
   "outputs": [
    {
     "data": {
      "text/plain": [
       "['20k', '56k', '300k']"
      ]
     },
     "execution_count": 33,
     "metadata": {},
     "output_type": "execute_result"
    }
   ],
   "source": [
    "salaries[::2]"
   ]
  },
  {
   "cell_type": "code",
   "execution_count": 35,
   "id": "3c4385e6-1dfc-4fc2-a41c-ecec70827ce4",
   "metadata": {},
   "outputs": [
    {
     "data": {
      "text/plain": [
       "['20k', '100k']"
      ]
     },
     "execution_count": 35,
     "metadata": {},
     "output_type": "execute_result"
    }
   ],
   "source": [
    "salaries[::3]"
   ]
  },
  {
   "cell_type": "code",
   "execution_count": 37,
   "id": "8b3b3ef7-4f52-417f-9aa7-4d7fbbe78d91",
   "metadata": {},
   "outputs": [
    {
     "data": {
      "text/plain": [
       "['20k', '30k', '56k', '100k', '300k', '89k']"
      ]
     },
     "execution_count": 37,
     "metadata": {},
     "output_type": "execute_result"
    }
   ],
   "source": [
    "salaries"
   ]
  },
  {
   "cell_type": "code",
   "execution_count": 39,
   "id": "c46218fd-1524-425b-a264-66547ef5b232",
   "metadata": {},
   "outputs": [
    {
     "data": {
      "text/plain": [
       "['89k', '100k', '30k']"
      ]
     },
     "execution_count": 39,
     "metadata": {},
     "output_type": "execute_result"
    }
   ],
   "source": [
    "salaries[::-2]"
   ]
  },
  {
   "cell_type": "code",
   "execution_count": 41,
   "id": "392155dc-533f-4761-a233-3a2a0a6e9539",
   "metadata": {},
   "outputs": [
    {
     "data": {
      "text/plain": [
       "['89k', '300k', '100k', '56k', '30k', '20k']"
      ]
     },
     "execution_count": 41,
     "metadata": {},
     "output_type": "execute_result"
    }
   ],
   "source": [
    "salaries[::-1]"
   ]
  },
  {
   "cell_type": "code",
   "execution_count": 43,
   "id": "e9bbbe15-d811-48e8-aa63-9a0926bb4af6",
   "metadata": {},
   "outputs": [
    {
     "data": {
      "text/plain": [
       "['20k', '30k', '56k', '100k', '300k', '89k']"
      ]
     },
     "execution_count": 43,
     "metadata": {},
     "output_type": "execute_result"
    }
   ],
   "source": [
    "salaries"
   ]
  },
  {
   "cell_type": "code",
   "execution_count": 51,
   "id": "8fe81660-e881-4094-8fda-45364e0463df",
   "metadata": {},
   "outputs": [],
   "source": [
    "salaries.reverse()"
   ]
  },
  {
   "cell_type": "code",
   "execution_count": 47,
   "id": "9b2ab635-0f7a-4e61-a4a7-ecf2d2822c1a",
   "metadata": {},
   "outputs": [
    {
     "data": {
      "text/plain": [
       "['89k', '300k', '100k', '56k', '30k', '20k']"
      ]
     },
     "execution_count": 47,
     "metadata": {},
     "output_type": "execute_result"
    }
   ],
   "source": [
    "salaries"
   ]
  },
  {
   "cell_type": "code",
   "execution_count": 53,
   "id": "b0055c14-2b3e-4f3c-91eb-c522c1e488eb",
   "metadata": {},
   "outputs": [
    {
     "data": {
      "text/plain": [
       "['__add__',\n",
       " '__class__',\n",
       " '__class_getitem__',\n",
       " '__contains__',\n",
       " '__delattr__',\n",
       " '__delitem__',\n",
       " '__dir__',\n",
       " '__doc__',\n",
       " '__eq__',\n",
       " '__format__',\n",
       " '__ge__',\n",
       " '__getattribute__',\n",
       " '__getitem__',\n",
       " '__getstate__',\n",
       " '__gt__',\n",
       " '__hash__',\n",
       " '__iadd__',\n",
       " '__imul__',\n",
       " '__init__',\n",
       " '__init_subclass__',\n",
       " '__iter__',\n",
       " '__le__',\n",
       " '__len__',\n",
       " '__lt__',\n",
       " '__mul__',\n",
       " '__ne__',\n",
       " '__new__',\n",
       " '__reduce__',\n",
       " '__reduce_ex__',\n",
       " '__repr__',\n",
       " '__reversed__',\n",
       " '__rmul__',\n",
       " '__setattr__',\n",
       " '__setitem__',\n",
       " '__sizeof__',\n",
       " '__str__',\n",
       " '__subclasshook__',\n",
       " 'append',\n",
       " 'clear',\n",
       " 'copy',\n",
       " 'count',\n",
       " 'extend',\n",
       " 'index',\n",
       " 'insert',\n",
       " 'pop',\n",
       " 'remove',\n",
       " 'reverse',\n",
       " 'sort']"
      ]
     },
     "execution_count": 53,
     "metadata": {},
     "output_type": "execute_result"
    }
   ],
   "source": [
    "dir([])"
   ]
  },
  {
   "cell_type": "code",
   "execution_count": 65,
   "id": "95fef223-55e0-4c0f-9ecf-0780e3288a4d",
   "metadata": {},
   "outputs": [
    {
     "data": {
      "text/plain": [
       "['89k', '300k', '100k', '56k', '30k', '20k']"
      ]
     },
     "execution_count": 65,
     "metadata": {},
     "output_type": "execute_result"
    }
   ],
   "source": [
    "salaries"
   ]
  },
  {
   "cell_type": "code",
   "execution_count": 67,
   "id": "82c54dd0-f791-4da4-82bf-3a50d0834c6c",
   "metadata": {},
   "outputs": [
    {
     "data": {
      "text/plain": [
       "['300k', '100k', '56k']"
      ]
     },
     "execution_count": 67,
     "metadata": {},
     "output_type": "execute_result"
    }
   ],
   "source": [
    "salaries[1:4]"
   ]
  },
  {
   "cell_type": "code",
   "execution_count": 69,
   "id": "c7ebabdf-f150-490f-9de2-f8cd80deee39",
   "metadata": {},
   "outputs": [
    {
     "data": {
      "text/plain": [
       "['300k', '56k']"
      ]
     },
     "execution_count": 69,
     "metadata": {},
     "output_type": "execute_result"
    }
   ],
   "source": [
    "salaries[1:4:2]"
   ]
  },
  {
   "cell_type": "code",
   "execution_count": 71,
   "id": "c8d11e06-8b4b-4fb9-a6e3-5fda62fb5459",
   "metadata": {},
   "outputs": [
    {
     "data": {
      "text/plain": [
       "['89k', '300k', '100k', '56k', '30k', '20k']"
      ]
     },
     "execution_count": 71,
     "metadata": {},
     "output_type": "execute_result"
    }
   ],
   "source": [
    "salaries"
   ]
  },
  {
   "cell_type": "code",
   "execution_count": 75,
   "id": "f50e9848-060e-4683-94d1-e234600cf57e",
   "metadata": {},
   "outputs": [
    {
     "data": {
      "text/plain": [
       "'100k'"
      ]
     },
     "execution_count": 75,
     "metadata": {},
     "output_type": "execute_result"
    }
   ],
   "source": [
    "salaries[2]"
   ]
  },
  {
   "cell_type": "code",
   "execution_count": 77,
   "id": "9434073c-7ee4-4417-a577-77c5498bd20d",
   "metadata": {},
   "outputs": [],
   "source": [
    "salaries[2] = \"50k\""
   ]
  },
  {
   "cell_type": "code",
   "execution_count": 79,
   "id": "30a00c87-6ab9-43ba-8a8e-693eaa6458ad",
   "metadata": {},
   "outputs": [
    {
     "data": {
      "text/plain": [
       "['89k', '300k', '50k', '56k', '30k', '20k']"
      ]
     },
     "execution_count": 79,
     "metadata": {},
     "output_type": "execute_result"
    }
   ],
   "source": [
    "salaries"
   ]
  },
  {
   "cell_type": "code",
   "execution_count": 81,
   "id": "ab15e465-0699-421d-9e09-660b2fc20e75",
   "metadata": {},
   "outputs": [],
   "source": [
    "salaries.insert(3,\"100k\")"
   ]
  },
  {
   "cell_type": "code",
   "execution_count": 83,
   "id": "6b41b67f-515c-4470-b021-140667407c32",
   "metadata": {},
   "outputs": [
    {
     "data": {
      "text/plain": [
       "['89k', '300k', '50k', '100k', '56k', '30k', '20k']"
      ]
     },
     "execution_count": 83,
     "metadata": {},
     "output_type": "execute_result"
    }
   ],
   "source": [
    "salaries"
   ]
  },
  {
   "cell_type": "code",
   "execution_count": 85,
   "id": "d8ceb089-16b4-4271-9329-f5dc8657ef46",
   "metadata": {},
   "outputs": [],
   "source": [
    "salaries.append(\"26k\")"
   ]
  },
  {
   "cell_type": "code",
   "execution_count": 87,
   "id": "1f0b65b6-1d85-4418-aee9-6b2996f094ff",
   "metadata": {},
   "outputs": [
    {
     "data": {
      "text/plain": [
       "['89k', '300k', '50k', '100k', '56k', '30k', '20k', '26k']"
      ]
     },
     "execution_count": 87,
     "metadata": {},
     "output_type": "execute_result"
    }
   ],
   "source": [
    "salaries"
   ]
  },
  {
   "cell_type": "code",
   "execution_count": 91,
   "id": "9a1c21e7-bc2b-4fa0-b147-091c15c91f0d",
   "metadata": {},
   "outputs": [
    {
     "data": {
      "text/plain": [
       "['100k', '56k']"
      ]
     },
     "execution_count": 91,
     "metadata": {},
     "output_type": "execute_result"
    }
   ],
   "source": [
    "salaries[3:5]"
   ]
  },
  {
   "cell_type": "code",
   "execution_count": 93,
   "id": "e7dad25f-47f4-44b9-a914-80ab0b1a3f89",
   "metadata": {},
   "outputs": [],
   "source": [
    "salaries[3:5] = [\"300k\",\"500k\"]"
   ]
  },
  {
   "cell_type": "code",
   "execution_count": 95,
   "id": "8a77001a-1cfc-448c-83a0-2d16366fafda",
   "metadata": {},
   "outputs": [
    {
     "data": {
      "text/plain": [
       "['89k', '300k', '50k', '300k', '500k', '30k', '20k', '26k']"
      ]
     },
     "execution_count": 95,
     "metadata": {},
     "output_type": "execute_result"
    }
   ],
   "source": [
    "salaries"
   ]
  },
  {
   "cell_type": "code",
   "execution_count": 97,
   "id": "e6686eee-b3b3-461a-b0b9-05be85dd55c8",
   "metadata": {},
   "outputs": [
    {
     "data": {
      "text/plain": [
       "4"
      ]
     },
     "execution_count": 97,
     "metadata": {},
     "output_type": "execute_result"
    }
   ],
   "source": [
    "salaries.index(\"500k\")"
   ]
  },
  {
   "cell_type": "code",
   "execution_count": 101,
   "id": "224c38a0-164c-4bb2-861c-453a8c95443c",
   "metadata": {},
   "outputs": [
    {
     "data": {
      "text/plain": [
       "['89k', '300k', '50k', '300k', '500k', '30k', '20k', '26k']"
      ]
     },
     "execution_count": 101,
     "metadata": {},
     "output_type": "execute_result"
    }
   ],
   "source": [
    "salaries"
   ]
  },
  {
   "cell_type": "code",
   "execution_count": 103,
   "id": "c0b3d767-92ea-4b7f-980e-d7ae6c2601c9",
   "metadata": {},
   "outputs": [
    {
     "data": {
      "text/plain": [
       "'26k'"
      ]
     },
     "execution_count": 103,
     "metadata": {},
     "output_type": "execute_result"
    }
   ],
   "source": [
    "salaries.pop()"
   ]
  },
  {
   "cell_type": "code",
   "execution_count": 105,
   "id": "55221e77-9865-4fd5-a83e-4bbe35b18c48",
   "metadata": {},
   "outputs": [
    {
     "data": {
      "text/plain": [
       "['89k', '300k', '50k', '300k', '500k', '30k', '20k']"
      ]
     },
     "execution_count": 105,
     "metadata": {},
     "output_type": "execute_result"
    }
   ],
   "source": [
    "salaries"
   ]
  },
  {
   "cell_type": "code",
   "execution_count": 107,
   "id": "1226b563-1b33-4be2-b423-308e77d1a9be",
   "metadata": {},
   "outputs": [
    {
     "data": {
      "text/plain": [
       "'500k'"
      ]
     },
     "execution_count": 107,
     "metadata": {},
     "output_type": "execute_result"
    }
   ],
   "source": [
    "salaries.pop(4)"
   ]
  },
  {
   "cell_type": "code",
   "execution_count": 109,
   "id": "64e176c9-be65-4990-bf62-44f9b10a66ec",
   "metadata": {},
   "outputs": [
    {
     "data": {
      "text/plain": [
       "['89k', '300k', '50k', '300k', '30k', '20k']"
      ]
     },
     "execution_count": 109,
     "metadata": {},
     "output_type": "execute_result"
    }
   ],
   "source": [
    "salaries"
   ]
  },
  {
   "cell_type": "code",
   "execution_count": 111,
   "id": "7a9b45bc-7408-44eb-9c52-43963dcf6477",
   "metadata": {},
   "outputs": [
    {
     "data": {
      "text/plain": [
       "['89k', '300k', '50k', '300k', '30k', '20k']"
      ]
     },
     "execution_count": 111,
     "metadata": {},
     "output_type": "execute_result"
    }
   ],
   "source": [
    "salaries"
   ]
  },
  {
   "cell_type": "code",
   "execution_count": 113,
   "id": "f95511ee-1d96-47d5-87f7-26e0cebb123a",
   "metadata": {},
   "outputs": [],
   "source": [
    "salaries.remove('50k')"
   ]
  },
  {
   "cell_type": "code",
   "execution_count": 115,
   "id": "83ff3795-3e53-4d76-bc33-1342b2238139",
   "metadata": {},
   "outputs": [
    {
     "data": {
      "text/plain": [
       "['89k', '300k', '300k', '30k', '20k']"
      ]
     },
     "execution_count": 115,
     "metadata": {},
     "output_type": "execute_result"
    }
   ],
   "source": [
    "salaries"
   ]
  },
  {
   "cell_type": "code",
   "execution_count": 117,
   "id": "f5ebd7fe-13db-48c3-b4d5-9143625fc564",
   "metadata": {},
   "outputs": [
    {
     "ename": "TypeError",
     "evalue": "list.remove() takes exactly one argument (0 given)",
     "output_type": "error",
     "traceback": [
      "\u001b[1;31m---------------------------------------------------------------------------\u001b[0m",
      "\u001b[1;31mTypeError\u001b[0m                                 Traceback (most recent call last)",
      "Cell \u001b[1;32mIn[117], line 1\u001b[0m\n\u001b[1;32m----> 1\u001b[0m salaries\u001b[38;5;241m.\u001b[39mremove()\n",
      "\u001b[1;31mTypeError\u001b[0m: list.remove() takes exactly one argument (0 given)"
     ]
    }
   ],
   "source": [
    "salaries.remove()"
   ]
  },
  {
   "cell_type": "code",
   "execution_count": 124,
   "id": "b7a65a1f-316a-4394-b5d3-8c9f07b5fe03",
   "metadata": {},
   "outputs": [],
   "source": [
    "update_salaries = [\"35k\",\"20k\",'36k']"
   ]
  },
  {
   "cell_type": "code",
   "execution_count": 126,
   "id": "d94b477b-c9ba-4571-ac57-24a45a30a55c",
   "metadata": {},
   "outputs": [
    {
     "data": {
      "text/plain": [
       "['35k', '20k', '36k']"
      ]
     },
     "execution_count": 126,
     "metadata": {},
     "output_type": "execute_result"
    }
   ],
   "source": [
    "update_salaries"
   ]
  },
  {
   "cell_type": "code",
   "execution_count": 128,
   "id": "e2e51a69-df1f-4da4-a8c1-9c502e5328bb",
   "metadata": {},
   "outputs": [
    {
     "data": {
      "text/plain": [
       "['89k', '300k', '300k', '30k', '20k']"
      ]
     },
     "execution_count": 128,
     "metadata": {},
     "output_type": "execute_result"
    }
   ],
   "source": [
    "salaries"
   ]
  },
  {
   "cell_type": "code",
   "execution_count": 130,
   "id": "e4c4f83d-be0f-478e-b359-8ffd9e446b0d",
   "metadata": {},
   "outputs": [],
   "source": [
    "salaries.extend(update_salaries)"
   ]
  },
  {
   "cell_type": "code",
   "execution_count": 132,
   "id": "6dbfd633-471e-4d3c-91a4-4e5ed7959811",
   "metadata": {},
   "outputs": [
    {
     "data": {
      "text/plain": [
       "['89k', '300k', '300k', '30k', '20k', '35k', '20k', '36k']"
      ]
     },
     "execution_count": 132,
     "metadata": {},
     "output_type": "execute_result"
    }
   ],
   "source": [
    "salaries"
   ]
  },
  {
   "cell_type": "code",
   "execution_count": null,
   "id": "03a905db-778e-485c-9b97-9aa2bc9c2477",
   "metadata": {},
   "outputs": [],
   "source": []
  }
 ],
 "metadata": {
  "kernelspec": {
   "display_name": "Python 3 (ipykernel)",
   "language": "python",
   "name": "python3"
  },
  "language_info": {
   "codemirror_mode": {
    "name": "ipython",
    "version": 3
   },
   "file_extension": ".py",
   "mimetype": "text/x-python",
   "name": "python",
   "nbconvert_exporter": "python",
   "pygments_lexer": "ipython3",
   "version": "3.12.4"
  }
 },
 "nbformat": 4,
 "nbformat_minor": 5
}
