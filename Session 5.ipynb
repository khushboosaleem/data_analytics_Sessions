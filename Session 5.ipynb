{
 "cells": [
  {
   "cell_type": "markdown",
   "id": "393c72de-56af-447b-9852-2761b4f0ea94",
   "metadata": {},
   "source": [
    "# Typecasting"
   ]
  },
  {
   "cell_type": "code",
   "execution_count": 2,
   "id": "2dee8315-e7f6-48d1-979d-9cb082bd82c6",
   "metadata": {},
   "outputs": [
    {
     "name": "stdout",
     "output_type": "stream",
     "text": [
      "23\n"
     ]
    }
   ],
   "source": [
    "print(\"23\")"
   ]
  },
  {
   "cell_type": "code",
   "execution_count": 3,
   "id": "1fbc4c0b-4565-4565-83c6-537175645f86",
   "metadata": {},
   "outputs": [
    {
     "data": {
      "text/plain": [
       "23"
      ]
     },
     "execution_count": 3,
     "metadata": {},
     "output_type": "execute_result"
    }
   ],
   "source": [
    "23"
   ]
  },
  {
   "cell_type": "code",
   "execution_count": 4,
   "id": "eba78b88-8f26-4412-aef4-15184b2178c7",
   "metadata": {},
   "outputs": [
    {
     "data": {
      "text/plain": [
       "'Hello world'"
      ]
     },
     "execution_count": 4,
     "metadata": {},
     "output_type": "execute_result"
    }
   ],
   "source": [
    "\"Hello world\""
   ]
  },
  {
   "cell_type": "code",
   "execution_count": 5,
   "id": "87570ae2-1b91-4019-848f-0a6dd5cfd4ad",
   "metadata": {},
   "outputs": [
    {
     "data": {
      "text/plain": [
       "'We are learning\\npython'"
      ]
     },
     "execution_count": 5,
     "metadata": {},
     "output_type": "execute_result"
    }
   ],
   "source": [
    "\"\"\"We are learning\n",
    "python\"\"\""
   ]
  },
  {
   "cell_type": "code",
   "execution_count": 6,
   "id": "5cee8ade-4f81-42f2-a5bc-2051f0aca497",
   "metadata": {},
   "outputs": [
    {
     "name": "stdout",
     "output_type": "stream",
     "text": [
      "We are learning\n",
      "python\n"
     ]
    }
   ],
   "source": [
    "print(\"\"\"We are learning\n",
    "python\"\"\")"
   ]
  },
  {
   "cell_type": "code",
   "execution_count": 86,
   "id": "11fd3ff3-c6b9-431a-ab47-1ae9267e26ef",
   "metadata": {},
   "outputs": [
    {
     "data": {
      "text/plain": [
       "'230'"
      ]
     },
     "execution_count": 86,
     "metadata": {},
     "output_type": "execute_result"
    }
   ],
   "source": [
    "x = \"230\"\n",
    "x"
   ]
  },
  {
   "cell_type": "code",
   "execution_count": 88,
   "id": "a6ca9b2d-9cf0-49b8-b457-8311c7860fe1",
   "metadata": {},
   "outputs": [
    {
     "data": {
      "text/plain": [
       "str"
      ]
     },
     "execution_count": 88,
     "metadata": {},
     "output_type": "execute_result"
    }
   ],
   "source": [
    "type(x)"
   ]
  },
  {
   "cell_type": "code",
   "execution_count": 90,
   "id": "d790a9ee-d404-47c8-8c57-05da914b6ef5",
   "metadata": {},
   "outputs": [
    {
     "data": {
      "text/plain": [
       "230"
      ]
     },
     "execution_count": 90,
     "metadata": {},
     "output_type": "execute_result"
    }
   ],
   "source": [
    "y = int(\"230\")\n",
    "y"
   ]
  },
  {
   "cell_type": "code",
   "execution_count": 92,
   "id": "9522a72d-e390-41c1-839e-5acc6e501858",
   "metadata": {},
   "outputs": [
    {
     "data": {
      "text/plain": [
       "int"
      ]
     },
     "execution_count": 92,
     "metadata": {},
     "output_type": "execute_result"
    }
   ],
   "source": [
    "type(y)"
   ]
  },
  {
   "cell_type": "code",
   "execution_count": 11,
   "id": "48f296cf-6883-4874-a515-7f2b47619e0c",
   "metadata": {},
   "outputs": [
    {
     "name": "stdout",
     "output_type": "stream",
     "text": [
      "<class 'int'>\n"
     ]
    }
   ],
   "source": [
    "print(type(int(\"230\")))"
   ]
  },
  {
   "cell_type": "code",
   "execution_count": 12,
   "id": "548624ac-39a8-4690-aa58-e33b02288333",
   "metadata": {},
   "outputs": [
    {
     "data": {
      "text/plain": [
       "123.0"
      ]
     },
     "execution_count": 12,
     "metadata": {},
     "output_type": "execute_result"
    }
   ],
   "source": [
    "float(\"123\")"
   ]
  },
  {
   "cell_type": "code",
   "execution_count": 13,
   "id": "dc09ca62-b486-4b4c-919a-db155fddb958",
   "metadata": {},
   "outputs": [
    {
     "data": {
      "text/plain": [
       "123"
      ]
     },
     "execution_count": 13,
     "metadata": {},
     "output_type": "execute_result"
    }
   ],
   "source": [
    "int(123.0)"
   ]
  },
  {
   "cell_type": "code",
   "execution_count": 14,
   "id": "68a75cc4-ea7a-467a-aadc-0b837234c8cd",
   "metadata": {},
   "outputs": [
    {
     "ename": "ValueError",
     "evalue": "invalid literal for int() with base 10: '12.03'",
     "output_type": "error",
     "traceback": [
      "\u001b[1;31m---------------------------------------------------------------------------\u001b[0m",
      "\u001b[1;31mValueError\u001b[0m                                Traceback (most recent call last)",
      "Cell \u001b[1;32mIn[14], line 1\u001b[0m\n\u001b[1;32m----> 1\u001b[0m \u001b[38;5;28mint\u001b[39m(\u001b[38;5;124m\"\u001b[39m\u001b[38;5;124m12.03\u001b[39m\u001b[38;5;124m\"\u001b[39m)\n",
      "\u001b[1;31mValueError\u001b[0m: invalid literal for int() with base 10: '12.03'"
     ]
    }
   ],
   "source": [
    "int(\"12.03\")"
   ]
  },
  {
   "cell_type": "code",
   "execution_count": 15,
   "id": "ffbf6d84-5582-486e-a169-84d8bf03e547",
   "metadata": {},
   "outputs": [
    {
     "data": {
      "text/plain": [
       "12.03"
      ]
     },
     "execution_count": 15,
     "metadata": {},
     "output_type": "execute_result"
    }
   ],
   "source": [
    "float(\"12.03\")"
   ]
  },
  {
   "cell_type": "code",
   "execution_count": 17,
   "id": "15050064-eeb7-47ea-92b2-c52f6f30f609",
   "metadata": {},
   "outputs": [
    {
     "ename": "ValueError",
     "evalue": "invalid literal for int() with base 10: 'hello world'",
     "output_type": "error",
     "traceback": [
      "\u001b[1;31m---------------------------------------------------------------------------\u001b[0m",
      "\u001b[1;31mValueError\u001b[0m                                Traceback (most recent call last)",
      "Cell \u001b[1;32mIn[17], line 1\u001b[0m\n\u001b[1;32m----> 1\u001b[0m \u001b[38;5;28mint\u001b[39m(\u001b[38;5;124m\"\u001b[39m\u001b[38;5;124mhello world\u001b[39m\u001b[38;5;124m\"\u001b[39m)\n",
      "\u001b[1;31mValueError\u001b[0m: invalid literal for int() with base 10: 'hello world'"
     ]
    }
   ],
   "source": [
    "int(\"hello world\")"
   ]
  },
  {
   "cell_type": "code",
   "execution_count": 19,
   "id": "0b4ec4b2-430f-4323-98fa-d01f1e983dad",
   "metadata": {},
   "outputs": [
    {
     "data": {
      "text/plain": [
       "'234'"
      ]
     },
     "execution_count": 19,
     "metadata": {},
     "output_type": "execute_result"
    }
   ],
   "source": [
    "str(234)"
   ]
  },
  {
   "cell_type": "code",
   "execution_count": 21,
   "id": "3c61746c-0e0f-4729-bab1-4d8ae6f5f978",
   "metadata": {},
   "outputs": [],
   "source": [
    "# str()\n",
    "# int()\n",
    "# float()"
   ]
  },
  {
   "cell_type": "code",
   "execution_count": 30,
   "id": "2fb5f6ab-312b-474d-bb7a-859c084e5d2e",
   "metadata": {},
   "outputs": [
    {
     "name": "stdout",
     "output_type": "stream",
     "text": [
      "5 3\n"
     ]
    }
   ],
   "source": [
    "x = 5\n",
    "y = 3\n",
    "print(x,y)"
   ]
  },
  {
   "cell_type": "markdown",
   "id": "2493918e-e246-43f3-a312-799c07e6c1b5",
   "metadata": {},
   "source": [
    "# List"
   ]
  },
  {
   "cell_type": "code",
   "execution_count": 38,
   "id": "f9882c2c-910e-40c7-a3c0-9a137c5c01d0",
   "metadata": {},
   "outputs": [
    {
     "data": {
      "text/plain": [
       "['20k', '30k', '35k', '100k']"
      ]
     },
     "execution_count": 38,
     "metadata": {},
     "output_type": "execute_result"
    }
   ],
   "source": [
    "salaries = [\"20k\",\"30k\",\"35k\",\"100k\"]\n",
    "salaries"
   ]
  },
  {
   "cell_type": "code",
   "execution_count": 80,
   "id": "84e365a4-3b16-497d-931a-d940d65139cc",
   "metadata": {},
   "outputs": [
    {
     "data": {
      "text/plain": [
       "list"
      ]
     },
     "execution_count": 80,
     "metadata": {},
     "output_type": "execute_result"
    }
   ],
   "source": [
    "type(salaries)"
   ]
  },
  {
   "cell_type": "markdown",
   "id": "25ba8cde-d391-48b8-9ca7-c11956e33e3f",
   "metadata": {},
   "source": [
    "## Indexing"
   ]
  },
  {
   "cell_type": "code",
   "execution_count": 42,
   "id": "32791787-5503-42a1-89da-4029cf85f7d3",
   "metadata": {},
   "outputs": [
    {
     "data": {
      "text/plain": [
       "'35k'"
      ]
     },
     "execution_count": 42,
     "metadata": {},
     "output_type": "execute_result"
    }
   ],
   "source": [
    "salaries[2]"
   ]
  },
  {
   "cell_type": "code",
   "execution_count": 44,
   "id": "9d3e2a54-4e47-4f12-a46a-080b6546730e",
   "metadata": {},
   "outputs": [
    {
     "data": {
      "text/plain": [
       "'100k'"
      ]
     },
     "execution_count": 44,
     "metadata": {},
     "output_type": "execute_result"
    }
   ],
   "source": [
    "salaries[3]"
   ]
  },
  {
   "cell_type": "code",
   "execution_count": 46,
   "id": "a57b210e-8809-4f92-a085-d0344614c08b",
   "metadata": {},
   "outputs": [
    {
     "data": {
      "text/plain": [
       "'35k'"
      ]
     },
     "execution_count": 46,
     "metadata": {},
     "output_type": "execute_result"
    }
   ],
   "source": [
    "salaries[-2]"
   ]
  },
  {
   "cell_type": "code",
   "execution_count": 50,
   "id": "79002be6-52f8-4c5c-b56a-1f2a8ef0a7b6",
   "metadata": {},
   "outputs": [
    {
     "data": {
      "text/plain": [
       "['20k', '30k', '35k', '100k']"
      ]
     },
     "execution_count": 50,
     "metadata": {},
     "output_type": "execute_result"
    }
   ],
   "source": [
    "salaries"
   ]
  },
  {
   "cell_type": "code",
   "execution_count": 60,
   "id": "cfe30182-31f6-4cb7-9746-d13074f2d90f",
   "metadata": {},
   "outputs": [
    {
     "data": {
      "text/plain": [
       "['20k', '30k', '35k']"
      ]
     },
     "execution_count": 60,
     "metadata": {},
     "output_type": "execute_result"
    }
   ],
   "source": [
    "salaries[0:3]"
   ]
  },
  {
   "cell_type": "code",
   "execution_count": 68,
   "id": "c53fce74-38f6-4063-93f7-6fce3f7d2e4c",
   "metadata": {},
   "outputs": [
    {
     "data": {
      "text/plain": [
       "['35k', '100k']"
      ]
     },
     "execution_count": 68,
     "metadata": {},
     "output_type": "execute_result"
    }
   ],
   "source": [
    "salaries[2:100]"
   ]
  },
  {
   "cell_type": "code",
   "execution_count": 70,
   "id": "40767bbd-df82-440d-b3b7-4f35983028a3",
   "metadata": {},
   "outputs": [
    {
     "ename": "IndexError",
     "evalue": "list index out of range",
     "output_type": "error",
     "traceback": [
      "\u001b[1;31m---------------------------------------------------------------------------\u001b[0m",
      "\u001b[1;31mIndexError\u001b[0m                                Traceback (most recent call last)",
      "Cell \u001b[1;32mIn[70], line 1\u001b[0m\n\u001b[1;32m----> 1\u001b[0m salaries[\u001b[38;5;241m4\u001b[39m]\n",
      "\u001b[1;31mIndexError\u001b[0m: list index out of range"
     ]
    }
   ],
   "source": [
    "salaries[4]"
   ]
  },
  {
   "cell_type": "code",
   "execution_count": 72,
   "id": "6d78af50-1d79-4c6d-bad7-4942254e69f0",
   "metadata": {},
   "outputs": [
    {
     "data": {
      "text/plain": [
       "['30k', '35k', '100k']"
      ]
     },
     "execution_count": 72,
     "metadata": {},
     "output_type": "execute_result"
    }
   ],
   "source": [
    "salaries[1:]"
   ]
  },
  {
   "cell_type": "code",
   "execution_count": 74,
   "id": "4c8f87ed-d8cc-4cf4-a935-06d37826e478",
   "metadata": {},
   "outputs": [
    {
     "data": {
      "text/plain": [
       "['20k', '30k', '35k', '100k']"
      ]
     },
     "execution_count": 74,
     "metadata": {},
     "output_type": "execute_result"
    }
   ],
   "source": [
    "salaries"
   ]
  },
  {
   "cell_type": "code",
   "execution_count": 76,
   "id": "176f57e8-c21a-4ae4-a575-f0b3d0474af5",
   "metadata": {},
   "outputs": [
    {
     "data": {
      "text/plain": [
       "['20k', '30k', '35k']"
      ]
     },
     "execution_count": 76,
     "metadata": {},
     "output_type": "execute_result"
    }
   ],
   "source": [
    "salaries[:3]"
   ]
  },
  {
   "cell_type": "code",
   "execution_count": 78,
   "id": "af77bbbc-8005-4901-b64a-dbeb0268e9d3",
   "metadata": {},
   "outputs": [
    {
     "data": {
      "text/plain": [
       "['__add__',\n",
       " '__class__',\n",
       " '__class_getitem__',\n",
       " '__contains__',\n",
       " '__delattr__',\n",
       " '__delitem__',\n",
       " '__dir__',\n",
       " '__doc__',\n",
       " '__eq__',\n",
       " '__format__',\n",
       " '__ge__',\n",
       " '__getattribute__',\n",
       " '__getitem__',\n",
       " '__getstate__',\n",
       " '__gt__',\n",
       " '__hash__',\n",
       " '__iadd__',\n",
       " '__imul__',\n",
       " '__init__',\n",
       " '__init_subclass__',\n",
       " '__iter__',\n",
       " '__le__',\n",
       " '__len__',\n",
       " '__lt__',\n",
       " '__mul__',\n",
       " '__ne__',\n",
       " '__new__',\n",
       " '__reduce__',\n",
       " '__reduce_ex__',\n",
       " '__repr__',\n",
       " '__reversed__',\n",
       " '__rmul__',\n",
       " '__setattr__',\n",
       " '__setitem__',\n",
       " '__sizeof__',\n",
       " '__str__',\n",
       " '__subclasshook__',\n",
       " 'append',\n",
       " 'clear',\n",
       " 'copy',\n",
       " 'count',\n",
       " 'extend',\n",
       " 'index',\n",
       " 'insert',\n",
       " 'pop',\n",
       " 'remove',\n",
       " 'reverse',\n",
       " 'sort']"
      ]
     },
     "execution_count": 78,
     "metadata": {},
     "output_type": "execute_result"
    }
   ],
   "source": [
    "dir(list)"
   ]
  },
  {
   "cell_type": "code",
   "execution_count": 82,
   "id": "f18443c4-a8a8-42c1-8150-ad17d109e2a2",
   "metadata": {},
   "outputs": [
    {
     "data": {
      "text/plain": [
       "['20k', '30k', '35k', '100k']"
      ]
     },
     "execution_count": 82,
     "metadata": {},
     "output_type": "execute_result"
    }
   ],
   "source": [
    "salaries"
   ]
  },
  {
   "cell_type": "code",
   "execution_count": 84,
   "id": "a922b501-9078-4cbc-9a19-b67648a40037",
   "metadata": {},
   "outputs": [
    {
     "data": {
      "text/plain": [
       "4"
      ]
     },
     "execution_count": 84,
     "metadata": {},
     "output_type": "execute_result"
    }
   ],
   "source": [
    "len(salaries)"
   ]
  },
  {
   "cell_type": "code",
   "execution_count": null,
   "id": "86300ca6-c0de-4740-95a4-e2df872b304d",
   "metadata": {},
   "outputs": [],
   "source": []
  }
 ],
 "metadata": {
  "kernelspec": {
   "display_name": "Python 3 (ipykernel)",
   "language": "python",
   "name": "python3"
  },
  "language_info": {
   "codemirror_mode": {
    "name": "ipython",
    "version": 3
   },
   "file_extension": ".py",
   "mimetype": "text/x-python",
   "name": "python",
   "nbconvert_exporter": "python",
   "pygments_lexer": "ipython3",
   "version": "3.12.4"
  }
 },
 "nbformat": 4,
 "nbformat_minor": 5
}
