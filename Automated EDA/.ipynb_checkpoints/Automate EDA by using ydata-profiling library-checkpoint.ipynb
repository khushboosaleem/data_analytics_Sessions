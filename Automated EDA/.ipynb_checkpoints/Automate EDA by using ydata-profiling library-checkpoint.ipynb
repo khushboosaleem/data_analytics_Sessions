{
 "cells": [
  {
   "cell_type": "code",
   "execution_count": 1,
   "id": "3593f388-3565-4715-8f3d-d4c60c9b926e",
   "metadata": {},
   "outputs": [
    {
     "name": "stdout",
     "output_type": "stream",
     "text": [
      "Requirement already satisfied: ydata-profiling in c:\\users\\faatiq_pc\\anaconda3\\lib\\site-packages (4.12.1)\n",
      "Requirement already satisfied: scipy<1.14,>=1.4.1 in c:\\users\\faatiq_pc\\anaconda3\\lib\\site-packages (from ydata-profiling) (1.13.1)\n",
      "Requirement already satisfied: pandas!=1.4.0,<3,>1.1 in c:\\users\\faatiq_pc\\anaconda3\\lib\\site-packages (from ydata-profiling) (2.2.2)\n",
      "Collecting matplotlib<3.10,>=3.5 (from ydata-profiling)\n",
      "  Downloading matplotlib-3.9.4-cp312-cp312-win_amd64.whl.metadata (11 kB)\n",
      "Requirement already satisfied: pydantic>=2 in c:\\users\\faatiq_pc\\anaconda3\\lib\\site-packages (from ydata-profiling) (2.5.3)\n",
      "Requirement already satisfied: PyYAML<6.1,>=5.0.0 in c:\\users\\faatiq_pc\\anaconda3\\lib\\site-packages (from ydata-profiling) (6.0.1)\n",
      "Requirement already satisfied: jinja2<3.2,>=2.11.1 in c:\\users\\faatiq_pc\\anaconda3\\lib\\site-packages (from ydata-profiling) (3.1.4)\n",
      "Requirement already satisfied: visions<0.7.7,>=0.7.5 in c:\\users\\faatiq_pc\\anaconda3\\lib\\site-packages (from visions[type_image_path]<0.7.7,>=0.7.5->ydata-profiling) (0.7.6)\n",
      "Requirement already satisfied: numpy<2.2,>=1.16.0 in c:\\users\\faatiq_pc\\anaconda3\\lib\\site-packages (from ydata-profiling) (1.26.4)\n",
      "Requirement already satisfied: htmlmin==0.1.12 in c:\\users\\faatiq_pc\\anaconda3\\lib\\site-packages (from ydata-profiling) (0.1.12)\n",
      "Requirement already satisfied: phik<0.13,>=0.11.1 in c:\\users\\faatiq_pc\\anaconda3\\lib\\site-packages (from ydata-profiling) (0.12.4)\n",
      "Requirement already satisfied: requests<3,>=2.24.0 in c:\\users\\faatiq_pc\\anaconda3\\lib\\site-packages (from ydata-profiling) (2.32.2)\n",
      "Requirement already satisfied: tqdm<5,>=4.48.2 in c:\\users\\faatiq_pc\\anaconda3\\lib\\site-packages (from ydata-profiling) (4.66.4)\n",
      "Requirement already satisfied: seaborn<0.14,>=0.10.1 in c:\\users\\faatiq_pc\\anaconda3\\lib\\site-packages (from ydata-profiling) (0.13.2)\n",
      "Requirement already satisfied: multimethod<2,>=1.4 in c:\\users\\faatiq_pc\\anaconda3\\lib\\site-packages (from ydata-profiling) (1.12)\n",
      "Requirement already satisfied: statsmodels<1,>=0.13.2 in c:\\users\\faatiq_pc\\anaconda3\\lib\\site-packages (from ydata-profiling) (0.14.2)\n",
      "Requirement already satisfied: typeguard<5,>=3 in c:\\users\\faatiq_pc\\anaconda3\\lib\\site-packages (from ydata-profiling) (4.4.1)\n",
      "Requirement already satisfied: imagehash==4.3.1 in c:\\users\\faatiq_pc\\anaconda3\\lib\\site-packages (from ydata-profiling) (4.3.1)\n",
      "Requirement already satisfied: wordcloud>=1.9.3 in c:\\users\\faatiq_pc\\anaconda3\\lib\\site-packages (from ydata-profiling) (1.9.4)\n",
      "Requirement already satisfied: dacite>=1.8 in c:\\users\\faatiq_pc\\anaconda3\\lib\\site-packages (from ydata-profiling) (1.8.1)\n",
      "Requirement already satisfied: numba<1,>=0.56.0 in c:\\users\\faatiq_pc\\anaconda3\\lib\\site-packages (from ydata-profiling) (0.59.1)\n",
      "Requirement already satisfied: PyWavelets in c:\\users\\faatiq_pc\\anaconda3\\lib\\site-packages (from imagehash==4.3.1->ydata-profiling) (1.5.0)\n",
      "Requirement already satisfied: pillow in c:\\users\\faatiq_pc\\anaconda3\\lib\\site-packages (from imagehash==4.3.1->ydata-profiling) (10.3.0)\n",
      "Requirement already satisfied: MarkupSafe>=2.0 in c:\\users\\faatiq_pc\\anaconda3\\lib\\site-packages (from jinja2<3.2,>=2.11.1->ydata-profiling) (2.1.3)\n",
      "Requirement already satisfied: contourpy>=1.0.1 in c:\\users\\faatiq_pc\\anaconda3\\lib\\site-packages (from matplotlib<3.10,>=3.5->ydata-profiling) (1.2.0)\n",
      "Requirement already satisfied: cycler>=0.10 in c:\\users\\faatiq_pc\\anaconda3\\lib\\site-packages (from matplotlib<3.10,>=3.5->ydata-profiling) (0.11.0)\n",
      "Requirement already satisfied: fonttools>=4.22.0 in c:\\users\\faatiq_pc\\anaconda3\\lib\\site-packages (from matplotlib<3.10,>=3.5->ydata-profiling) (4.51.0)\n",
      "Requirement already satisfied: kiwisolver>=1.3.1 in c:\\users\\faatiq_pc\\anaconda3\\lib\\site-packages (from matplotlib<3.10,>=3.5->ydata-profiling) (1.4.4)\n",
      "Requirement already satisfied: packaging>=20.0 in c:\\users\\faatiq_pc\\anaconda3\\lib\\site-packages (from matplotlib<3.10,>=3.5->ydata-profiling) (23.2)\n",
      "Requirement already satisfied: pyparsing>=2.3.1 in c:\\users\\faatiq_pc\\anaconda3\\lib\\site-packages (from matplotlib<3.10,>=3.5->ydata-profiling) (3.0.9)\n",
      "Requirement already satisfied: python-dateutil>=2.7 in c:\\users\\faatiq_pc\\anaconda3\\lib\\site-packages (from matplotlib<3.10,>=3.5->ydata-profiling) (2.9.0.post0)\n",
      "Requirement already satisfied: llvmlite<0.43,>=0.42.0dev0 in c:\\users\\faatiq_pc\\anaconda3\\lib\\site-packages (from numba<1,>=0.56.0->ydata-profiling) (0.42.0)\n",
      "Requirement already satisfied: pytz>=2020.1 in c:\\users\\faatiq_pc\\anaconda3\\lib\\site-packages (from pandas!=1.4.0,<3,>1.1->ydata-profiling) (2024.1)\n",
      "Requirement already satisfied: tzdata>=2022.7 in c:\\users\\faatiq_pc\\anaconda3\\lib\\site-packages (from pandas!=1.4.0,<3,>1.1->ydata-profiling) (2023.3)\n",
      "Requirement already satisfied: joblib>=0.14.1 in c:\\users\\faatiq_pc\\anaconda3\\lib\\site-packages (from phik<0.13,>=0.11.1->ydata-profiling) (1.4.2)\n",
      "Requirement already satisfied: annotated-types>=0.4.0 in c:\\users\\faatiq_pc\\anaconda3\\lib\\site-packages (from pydantic>=2->ydata-profiling) (0.6.0)\n",
      "Requirement already satisfied: pydantic-core==2.14.6 in c:\\users\\faatiq_pc\\anaconda3\\lib\\site-packages (from pydantic>=2->ydata-profiling) (2.14.6)\n",
      "Requirement already satisfied: typing-extensions>=4.6.1 in c:\\users\\faatiq_pc\\anaconda3\\lib\\site-packages (from pydantic>=2->ydata-profiling) (4.11.0)\n",
      "Requirement already satisfied: charset-normalizer<4,>=2 in c:\\users\\faatiq_pc\\anaconda3\\lib\\site-packages (from requests<3,>=2.24.0->ydata-profiling) (2.0.4)\n",
      "Requirement already satisfied: idna<4,>=2.5 in c:\\users\\faatiq_pc\\anaconda3\\lib\\site-packages (from requests<3,>=2.24.0->ydata-profiling) (2.10)\n",
      "Requirement already satisfied: urllib3<3,>=1.21.1 in c:\\users\\faatiq_pc\\anaconda3\\lib\\site-packages (from requests<3,>=2.24.0->ydata-profiling) (2.2.2)\n",
      "Requirement already satisfied: certifi>=2017.4.17 in c:\\users\\faatiq_pc\\anaconda3\\lib\\site-packages (from requests<3,>=2.24.0->ydata-profiling) (2024.8.30)\n",
      "Requirement already satisfied: patsy>=0.5.6 in c:\\users\\faatiq_pc\\anaconda3\\lib\\site-packages (from statsmodels<1,>=0.13.2->ydata-profiling) (0.5.6)\n",
      "Requirement already satisfied: colorama in c:\\users\\faatiq_pc\\anaconda3\\lib\\site-packages (from tqdm<5,>=4.48.2->ydata-profiling) (0.4.6)\n",
      "Requirement already satisfied: attrs>=19.3.0 in c:\\users\\faatiq_pc\\anaconda3\\lib\\site-packages (from visions<0.7.7,>=0.7.5->visions[type_image_path]<0.7.7,>=0.7.5->ydata-profiling) (24.3.0)\n",
      "Requirement already satisfied: networkx>=2.4 in c:\\users\\faatiq_pc\\anaconda3\\lib\\site-packages (from visions<0.7.7,>=0.7.5->visions[type_image_path]<0.7.7,>=0.7.5->ydata-profiling) (3.2.1)\n",
      "Requirement already satisfied: six in c:\\users\\faatiq_pc\\anaconda3\\lib\\site-packages (from patsy>=0.5.6->statsmodels<1,>=0.13.2->ydata-profiling) (1.16.0)\n",
      "Downloading matplotlib-3.9.4-cp312-cp312-win_amd64.whl (7.8 MB)\n",
      "   ---------------------------------------- 0.0/7.8 MB ? eta -:--:--\n",
      "   ---------------------------------------- 0.0/7.8 MB ? eta -:--:--\n",
      "   ---------------------------------------- 0.0/7.8 MB 660.6 kB/s eta 0:00:12\n",
      "   ---------------------------------------- 0.1/7.8 MB 880.9 kB/s eta 0:00:09\n",
      "   - -------------------------------------- 0.2/7.8 MB 1.4 MB/s eta 0:00:06\n",
      "   - -------------------------------------- 0.3/7.8 MB 1.6 MB/s eta 0:00:05\n",
      "   -- ------------------------------------- 0.5/7.8 MB 2.2 MB/s eta 0:00:04\n",
      "   --- ------------------------------------ 0.7/7.8 MB 2.6 MB/s eta 0:00:03\n",
      "   ---- ----------------------------------- 0.9/7.8 MB 3.0 MB/s eta 0:00:03\n",
      "   ----- ---------------------------------- 1.2/7.8 MB 3.1 MB/s eta 0:00:03\n",
      "   ------ --------------------------------- 1.3/7.8 MB 3.2 MB/s eta 0:00:03\n",
      "   ------- -------------------------------- 1.6/7.8 MB 3.3 MB/s eta 0:00:02\n",
      "   -------- ------------------------------- 1.7/7.8 MB 3.4 MB/s eta 0:00:02\n",
      "   --------- ------------------------------ 1.8/7.8 MB 3.3 MB/s eta 0:00:02\n",
      "   --------- ------------------------------ 1.9/7.8 MB 3.1 MB/s eta 0:00:02\n",
      "   ---------- ----------------------------- 2.0/7.8 MB 3.2 MB/s eta 0:00:02\n",
      "   ---------- ----------------------------- 2.2/7.8 MB 3.1 MB/s eta 0:00:02\n",
      "   ----------- ---------------------------- 2.3/7.8 MB 3.1 MB/s eta 0:00:02\n",
      "   ------------ --------------------------- 2.4/7.8 MB 3.0 MB/s eta 0:00:02\n",
      "   ------------ --------------------------- 2.5/7.8 MB 3.0 MB/s eta 0:00:02\n",
      "   ------------- -------------------------- 2.6/7.8 MB 3.0 MB/s eta 0:00:02\n",
      "   ------------- -------------------------- 2.7/7.8 MB 2.9 MB/s eta 0:00:02\n",
      "   -------------- ------------------------- 2.8/7.8 MB 2.9 MB/s eta 0:00:02\n",
      "   -------------- ------------------------- 2.9/7.8 MB 2.9 MB/s eta 0:00:02\n",
      "   --------------- ------------------------ 3.0/7.8 MB 2.9 MB/s eta 0:00:02\n",
      "   ---------------- ----------------------- 3.2/7.8 MB 2.9 MB/s eta 0:00:02\n",
      "   ---------------- ----------------------- 3.3/7.8 MB 2.8 MB/s eta 0:00:02\n",
      "   ----------------- ---------------------- 3.4/7.8 MB 2.8 MB/s eta 0:00:02\n",
      "   ----------------- ---------------------- 3.5/7.8 MB 2.8 MB/s eta 0:00:02\n",
      "   ----------------- ---------------------- 3.5/7.8 MB 2.8 MB/s eta 0:00:02\n",
      "   ----------------- ---------------------- 3.5/7.8 MB 2.8 MB/s eta 0:00:02\n",
      "   ----------------- ---------------------- 3.5/7.8 MB 2.8 MB/s eta 0:00:02\n",
      "   ----------------- ---------------------- 3.5/7.8 MB 2.8 MB/s eta 0:00:02\n",
      "   ------------------ --------------------- 3.7/7.8 MB 2.5 MB/s eta 0:00:02\n",
      "   ------------------- -------------------- 3.9/7.8 MB 2.5 MB/s eta 0:00:02\n",
      "   --------------------- ------------------ 4.3/7.8 MB 2.7 MB/s eta 0:00:02\n",
      "   ---------------------- ----------------- 4.4/7.8 MB 2.7 MB/s eta 0:00:02\n",
      "   ---------------------- ----------------- 4.5/7.8 MB 2.7 MB/s eta 0:00:02\n",
      "   ----------------------- ---------------- 4.6/7.8 MB 2.7 MB/s eta 0:00:02\n",
      "   ------------------------ --------------- 4.7/7.8 MB 2.7 MB/s eta 0:00:02\n",
      "   ------------------------ --------------- 4.8/7.8 MB 2.7 MB/s eta 0:00:02\n",
      "   ------------------------- -------------- 5.0/7.8 MB 2.7 MB/s eta 0:00:02\n",
      "   ------------------------- -------------- 5.0/7.8 MB 2.6 MB/s eta 0:00:02\n",
      "   -------------------------- ------------- 5.2/7.8 MB 2.6 MB/s eta 0:00:02\n",
      "   -------------------------- ------------- 5.3/7.8 MB 2.6 MB/s eta 0:00:01\n",
      "   --------------------------- ------------ 5.4/7.8 MB 2.6 MB/s eta 0:00:01\n",
      "   ---------------------------- ----------- 5.5/7.8 MB 2.6 MB/s eta 0:00:01\n",
      "   ---------------------------- ----------- 5.6/7.8 MB 2.6 MB/s eta 0:00:01\n",
      "   ----------------------------- ---------- 5.7/7.8 MB 2.6 MB/s eta 0:00:01\n",
      "   ----------------------------- ---------- 5.9/7.8 MB 2.6 MB/s eta 0:00:01\n",
      "   ------------------------------ --------- 6.0/7.8 MB 2.6 MB/s eta 0:00:01\n",
      "   ------------------------------ --------- 6.0/7.8 MB 2.6 MB/s eta 0:00:01\n",
      "   ------------------------------ --------- 6.0/7.8 MB 2.6 MB/s eta 0:00:01\n",
      "   ------------------------------ --------- 6.0/7.8 MB 2.6 MB/s eta 0:00:01\n",
      "   ------------------------------ --------- 6.0/7.8 MB 2.6 MB/s eta 0:00:01\n",
      "   --------------------------------- ------ 6.5/7.8 MB 2.6 MB/s eta 0:00:01\n",
      "   --------------------------------- ------ 6.6/7.8 MB 2.6 MB/s eta 0:00:01\n",
      "   ---------------------------------- ----- 6.8/7.8 MB 2.6 MB/s eta 0:00:01\n",
      "   ---------------------------------- ----- 6.9/7.8 MB 2.6 MB/s eta 0:00:01\n",
      "   ----------------------------------- ---- 7.0/7.8 MB 2.6 MB/s eta 0:00:01\n",
      "   ------------------------------------ --- 7.1/7.8 MB 2.6 MB/s eta 0:00:01\n",
      "   ------------------------------------ --- 7.2/7.8 MB 2.6 MB/s eta 0:00:01\n",
      "   ------------------------------------- -- 7.3/7.8 MB 2.6 MB/s eta 0:00:01\n",
      "   ------------------------------------- -- 7.4/7.8 MB 2.6 MB/s eta 0:00:01\n",
      "   -------------------------------------- - 7.5/7.8 MB 2.6 MB/s eta 0:00:01\n",
      "   ---------------------------------------  7.6/7.8 MB 2.6 MB/s eta 0:00:01\n",
      "   ---------------------------------------  7.7/7.8 MB 2.6 MB/s eta 0:00:01\n",
      "   ---------------------------------------  7.8/7.8 MB 2.6 MB/s eta 0:00:01\n",
      "   ---------------------------------------- 7.8/7.8 MB 2.5 MB/s eta 0:00:00\n",
      "Installing collected packages: matplotlib\n",
      "  Attempting uninstall: matplotlib\n",
      "    Found existing installation: matplotlib 3.10.0\n",
      "    Uninstalling matplotlib-3.10.0:\n",
      "      Successfully uninstalled matplotlib-3.10.0\n",
      "Successfully installed matplotlib-3.9.4\n"
     ]
    },
    {
     "name": "stderr",
     "output_type": "stream",
     "text": [
      "ERROR: pip's dependency resolver does not currently take into account all the packages that are installed. This behaviour is the source of the following dependency conflicts.\n",
      "pandas-profiling 3.2.0 requires joblib~=1.1.0, but you have joblib 1.4.2 which is incompatible.\n",
      "pandas-profiling 3.2.0 requires visions[type_image_path]==0.7.4, but you have visions 0.7.6 which is incompatible.\n"
     ]
    }
   ],
   "source": [
    "!pip install ydata-profiling"
   ]
  },
  {
   "cell_type": "code",
   "execution_count": 3,
   "id": "1ce61934-a300-4d35-bf82-c61df7e2b248",
   "metadata": {},
   "outputs": [],
   "source": [
    "import numpy as np\n",
    "import pandas as pd\n",
    "import seaborn as sns\n",
    "from ydata_profiling import ProfileReport"
   ]
  },
  {
   "cell_type": "code",
   "execution_count": 5,
   "id": "1e50a8f3-a7f7-4084-84b0-8368563706a2",
   "metadata": {
    "scrolled": true
   },
   "outputs": [
    {
     "data": {
      "text/html": [
       "<div>\n",
       "<style scoped>\n",
       "    .dataframe tbody tr th:only-of-type {\n",
       "        vertical-align: middle;\n",
       "    }\n",
       "\n",
       "    .dataframe tbody tr th {\n",
       "        vertical-align: top;\n",
       "    }\n",
       "\n",
       "    .dataframe thead th {\n",
       "        text-align: right;\n",
       "    }\n",
       "</style>\n",
       "<table border=\"1\" class=\"dataframe\">\n",
       "  <thead>\n",
       "    <tr style=\"text-align: right;\">\n",
       "      <th></th>\n",
       "      <th>total_bill</th>\n",
       "      <th>tip</th>\n",
       "      <th>sex</th>\n",
       "      <th>smoker</th>\n",
       "      <th>day</th>\n",
       "      <th>time</th>\n",
       "      <th>size</th>\n",
       "    </tr>\n",
       "  </thead>\n",
       "  <tbody>\n",
       "    <tr>\n",
       "      <th>0</th>\n",
       "      <td>16.99</td>\n",
       "      <td>1.01</td>\n",
       "      <td>Female</td>\n",
       "      <td>No</td>\n",
       "      <td>Sun</td>\n",
       "      <td>Dinner</td>\n",
       "      <td>2</td>\n",
       "    </tr>\n",
       "    <tr>\n",
       "      <th>1</th>\n",
       "      <td>10.34</td>\n",
       "      <td>1.66</td>\n",
       "      <td>Male</td>\n",
       "      <td>No</td>\n",
       "      <td>Sun</td>\n",
       "      <td>Dinner</td>\n",
       "      <td>3</td>\n",
       "    </tr>\n",
       "    <tr>\n",
       "      <th>2</th>\n",
       "      <td>21.01</td>\n",
       "      <td>3.50</td>\n",
       "      <td>Male</td>\n",
       "      <td>No</td>\n",
       "      <td>Sun</td>\n",
       "      <td>Dinner</td>\n",
       "      <td>3</td>\n",
       "    </tr>\n",
       "    <tr>\n",
       "      <th>3</th>\n",
       "      <td>23.68</td>\n",
       "      <td>3.31</td>\n",
       "      <td>Male</td>\n",
       "      <td>No</td>\n",
       "      <td>Sun</td>\n",
       "      <td>Dinner</td>\n",
       "      <td>2</td>\n",
       "    </tr>\n",
       "    <tr>\n",
       "      <th>4</th>\n",
       "      <td>24.59</td>\n",
       "      <td>3.61</td>\n",
       "      <td>Female</td>\n",
       "      <td>No</td>\n",
       "      <td>Sun</td>\n",
       "      <td>Dinner</td>\n",
       "      <td>4</td>\n",
       "    </tr>\n",
       "    <tr>\n",
       "      <th>...</th>\n",
       "      <td>...</td>\n",
       "      <td>...</td>\n",
       "      <td>...</td>\n",
       "      <td>...</td>\n",
       "      <td>...</td>\n",
       "      <td>...</td>\n",
       "      <td>...</td>\n",
       "    </tr>\n",
       "    <tr>\n",
       "      <th>239</th>\n",
       "      <td>29.03</td>\n",
       "      <td>5.92</td>\n",
       "      <td>Male</td>\n",
       "      <td>No</td>\n",
       "      <td>Sat</td>\n",
       "      <td>Dinner</td>\n",
       "      <td>3</td>\n",
       "    </tr>\n",
       "    <tr>\n",
       "      <th>240</th>\n",
       "      <td>27.18</td>\n",
       "      <td>2.00</td>\n",
       "      <td>Female</td>\n",
       "      <td>Yes</td>\n",
       "      <td>Sat</td>\n",
       "      <td>Dinner</td>\n",
       "      <td>2</td>\n",
       "    </tr>\n",
       "    <tr>\n",
       "      <th>241</th>\n",
       "      <td>22.67</td>\n",
       "      <td>2.00</td>\n",
       "      <td>Male</td>\n",
       "      <td>Yes</td>\n",
       "      <td>Sat</td>\n",
       "      <td>Dinner</td>\n",
       "      <td>2</td>\n",
       "    </tr>\n",
       "    <tr>\n",
       "      <th>242</th>\n",
       "      <td>17.82</td>\n",
       "      <td>1.75</td>\n",
       "      <td>Male</td>\n",
       "      <td>No</td>\n",
       "      <td>Sat</td>\n",
       "      <td>Dinner</td>\n",
       "      <td>2</td>\n",
       "    </tr>\n",
       "    <tr>\n",
       "      <th>243</th>\n",
       "      <td>18.78</td>\n",
       "      <td>3.00</td>\n",
       "      <td>Female</td>\n",
       "      <td>No</td>\n",
       "      <td>Thur</td>\n",
       "      <td>Dinner</td>\n",
       "      <td>2</td>\n",
       "    </tr>\n",
       "  </tbody>\n",
       "</table>\n",
       "<p>244 rows × 7 columns</p>\n",
       "</div>"
      ],
      "text/plain": [
       "     total_bill   tip     sex smoker   day    time  size\n",
       "0         16.99  1.01  Female     No   Sun  Dinner     2\n",
       "1         10.34  1.66    Male     No   Sun  Dinner     3\n",
       "2         21.01  3.50    Male     No   Sun  Dinner     3\n",
       "3         23.68  3.31    Male     No   Sun  Dinner     2\n",
       "4         24.59  3.61  Female     No   Sun  Dinner     4\n",
       "..          ...   ...     ...    ...   ...     ...   ...\n",
       "239       29.03  5.92    Male     No   Sat  Dinner     3\n",
       "240       27.18  2.00  Female    Yes   Sat  Dinner     2\n",
       "241       22.67  2.00    Male    Yes   Sat  Dinner     2\n",
       "242       17.82  1.75    Male     No   Sat  Dinner     2\n",
       "243       18.78  3.00  Female     No  Thur  Dinner     2\n",
       "\n",
       "[244 rows x 7 columns]"
      ]
     },
     "execution_count": 5,
     "metadata": {},
     "output_type": "execute_result"
    }
   ],
   "source": [
    "df = sns.load_dataset('tips')\n",
    "df"
   ]
  },
  {
   "cell_type": "code",
   "execution_count": 7,
   "id": "06247a23-9847-4c93-8c98-956272fd2103",
   "metadata": {},
   "outputs": [],
   "source": [
    "profile = ProfileReport(df, title=\"Profiling Report\")"
   ]
  },
  {
   "cell_type": "code",
   "execution_count": 9,
   "id": "7a979fe7-e892-44f4-924a-c57266ec11c1",
   "metadata": {},
   "outputs": [
    {
     "data": {
      "application/vnd.jupyter.widget-view+json": {
       "model_id": "e2f9a8cd75674eb4a2df6fe46533c4d3",
       "version_major": 2,
       "version_minor": 0
      },
      "text/plain": [
       "Summarize dataset:   0%|          | 0/5 [00:00<?, ?it/s]"
      ]
     },
     "metadata": {},
     "output_type": "display_data"
    },
    {
     "data": {
      "application/vnd.jupyter.widget-view+json": {
       "model_id": "e8ca97b73ec244308300be64521ed2d5",
       "version_major": 2,
       "version_minor": 0
      },
      "text/plain": [
       "Generate report structure:   0%|          | 0/1 [00:00<?, ?it/s]"
      ]
     },
     "metadata": {},
     "output_type": "display_data"
    },
    {
     "data": {
      "application/vnd.jupyter.widget-view+json": {
       "model_id": "cd60b27159a442cda93852fc90cda0a9",
       "version_major": 2,
       "version_minor": 0
      },
      "text/plain": [
       "Render HTML:   0%|          | 0/1 [00:00<?, ?it/s]"
      ]
     },
     "metadata": {},
     "output_type": "display_data"
    },
    {
     "data": {
      "application/vnd.jupyter.widget-view+json": {
       "model_id": "f1390b0bfbbd4483908055a3721f2a45",
       "version_major": 2,
       "version_minor": 0
      },
      "text/plain": [
       "Export report to file:   0%|          | 0/1 [00:00<?, ?it/s]"
      ]
     },
     "metadata": {},
     "output_type": "display_data"
    }
   ],
   "source": [
    "profile.to_file('output.html')"
   ]
  },
  {
   "cell_type": "code",
   "execution_count": null,
   "id": "ebced211-e3c2-4c66-a0b7-3925ceaae991",
   "metadata": {},
   "outputs": [],
   "source": []
  }
 ],
 "metadata": {
  "kernelspec": {
   "display_name": "Python 3 (ipykernel)",
   "language": "python",
   "name": "python3"
  },
  "language_info": {
   "codemirror_mode": {
    "name": "ipython",
    "version": 3
   },
   "file_extension": ".py",
   "mimetype": "text/x-python",
   "name": "python",
   "nbconvert_exporter": "python",
   "pygments_lexer": "ipython3",
   "version": "3.12.4"
  }
 },
 "nbformat": 4,
 "nbformat_minor": 5
}
