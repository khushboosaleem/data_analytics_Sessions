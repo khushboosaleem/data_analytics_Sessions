{
 "cells": [
  {
   "cell_type": "markdown",
   "id": "3920db5d-4a79-4d4e-9e44-99993f91a53a",
   "metadata": {},
   "source": [
    "# Session 7"
   ]
  },
  {
   "cell_type": "code",
   "execution_count": 2,
   "id": "884d41d3-1989-458c-af8d-905df9c72018",
   "metadata": {},
   "outputs": [
    {
     "data": {
      "text/plain": [
       "['20k', '30k', '56k', '100k', '300k', '89k']"
      ]
     },
     "execution_count": 2,
     "metadata": {},
     "output_type": "execute_result"
    }
   ],
   "source": [
    "salaries = [\"20k\",\"30k\",\"56k\",'100k','300k','89k']\n",
    "salaries"
   ]
  },
  {
   "cell_type": "code",
   "execution_count": 4,
   "id": "6a4a82ba-6095-48ef-a100-bcc129df530a",
   "metadata": {},
   "outputs": [
    {
     "data": {
      "text/plain": [
       "['36k', '38k', '78k', '23k']"
      ]
     },
     "execution_count": 4,
     "metadata": {},
     "output_type": "execute_result"
    }
   ],
   "source": [
    "update_salaries = [\"36k\",\"38k\",'78k',\"23k\"]\n",
    "update_salaries"
   ]
  },
  {
   "cell_type": "code",
   "execution_count": 6,
   "id": "8efae464-091b-447b-8e61-27490119d49c",
   "metadata": {},
   "outputs": [
    {
     "data": {
      "text/plain": [
       "['35k',\n",
       " '600k',\n",
       " ['20k', '30k', '56k', '100k', '300k', '89k'],\n",
       " '56k',\n",
       " ['36k', '38k', '78k', '23k']]"
      ]
     },
     "execution_count": 6,
     "metadata": {},
     "output_type": "execute_result"
    }
   ],
   "source": [
    "nested_list = [\"35k\",\"600k\",salaries,\"56k\",update_salaries]\n",
    "nested_list"
   ]
  },
  {
   "cell_type": "code",
   "execution_count": 8,
   "id": "39e7c090-9aa1-4cb4-a48e-2af64b7c5ca6",
   "metadata": {},
   "outputs": [
    {
     "data": {
      "text/plain": [
       "['20k', '30k', '56k', '100k', '300k', '89k']"
      ]
     },
     "execution_count": 8,
     "metadata": {},
     "output_type": "execute_result"
    }
   ],
   "source": [
    "nested_list[2]"
   ]
  },
  {
   "cell_type": "code",
   "execution_count": 12,
   "id": "cc56bcd5-8cfc-43d4-a80b-344aa26a8a6a",
   "metadata": {},
   "outputs": [
    {
     "data": {
      "text/plain": [
       "'100k'"
      ]
     },
     "execution_count": 12,
     "metadata": {},
     "output_type": "execute_result"
    }
   ],
   "source": [
    "nested_list[2][-3]"
   ]
  },
  {
   "cell_type": "code",
   "execution_count": 14,
   "id": "24b62bf1-cd32-4831-9bb5-519fbb2db9c7",
   "metadata": {},
   "outputs": [
    {
     "data": {
      "text/plain": [
       "'100k'"
      ]
     },
     "execution_count": 14,
     "metadata": {},
     "output_type": "execute_result"
    }
   ],
   "source": [
    "nested_list[2][3]"
   ]
  },
  {
   "cell_type": "code",
   "execution_count": 18,
   "id": "128e9fc0-da81-4de8-bfd5-48357d7699cb",
   "metadata": {},
   "outputs": [
    {
     "data": {
      "text/plain": [
       "['38k', '78k', '23k']"
      ]
     },
     "execution_count": 18,
     "metadata": {},
     "output_type": "execute_result"
    }
   ],
   "source": [
    "nested_list[-1][1:4]"
   ]
  },
  {
   "cell_type": "code",
   "execution_count": 22,
   "id": "1287401a-4fad-4d3e-886f-4fe0d5f92cce",
   "metadata": {},
   "outputs": [
    {
     "data": {
      "text/plain": [
       "['30k', '56k', '100k', '300k']"
      ]
     },
     "execution_count": 22,
     "metadata": {},
     "output_type": "execute_result"
    }
   ],
   "source": [
    "nested_list[2][1:5]"
   ]
  },
  {
   "cell_type": "code",
   "execution_count": 24,
   "id": "2090ed0d-54e1-414a-a4a4-3c9279f7e94d",
   "metadata": {},
   "outputs": [
    {
     "data": {
      "text/plain": [
       "['30k', '300k']"
      ]
     },
     "execution_count": 24,
     "metadata": {},
     "output_type": "execute_result"
    }
   ],
   "source": [
    "nested_list[2][1:5:3]"
   ]
  },
  {
   "cell_type": "code",
   "execution_count": 28,
   "id": "e3098326-fa3d-48ec-8274-d529998e6fa2",
   "metadata": {},
   "outputs": [
    {
     "data": {
      "text/plain": [
       "['20k', '30k', '56k', '100k', '300k', '89k']"
      ]
     },
     "execution_count": 28,
     "metadata": {},
     "output_type": "execute_result"
    }
   ],
   "source": [
    "nested_list[2]"
   ]
  },
  {
   "cell_type": "code",
   "execution_count": 32,
   "id": "89dabb2a-9a6e-4bfb-a428-86e0c945eb81",
   "metadata": {},
   "outputs": [],
   "source": [
    "nested_list[2].append(\"200k\")"
   ]
  },
  {
   "cell_type": "code",
   "execution_count": 36,
   "id": "7c68d049-86e5-4e27-a8cf-3860ebafd00d",
   "metadata": {},
   "outputs": [
    {
     "data": {
      "text/plain": [
       "['20k', '30k', '56k', '100k', '300k', '89k', '200k']"
      ]
     },
     "execution_count": 36,
     "metadata": {},
     "output_type": "execute_result"
    }
   ],
   "source": [
    "nested_list[2]"
   ]
  },
  {
   "cell_type": "markdown",
   "id": "24b3e0d6-683f-484d-a581-f3d3642108ab",
   "metadata": {},
   "source": [
    "#Arithematic operator\n",
    "#Assignment operator\n",
    "#comparison operator\n",
    "#logical operator"
   ]
  },
  {
   "cell_type": "code",
   "execution_count": 40,
   "id": "093e0f36-3fd7-4f60-ad33-c98db97da7ac",
   "metadata": {},
   "outputs": [
    {
     "data": {
      "text/plain": [
       "15"
      ]
     },
     "execution_count": 40,
     "metadata": {},
     "output_type": "execute_result"
    }
   ],
   "source": [
    "# =\n",
    "# +=\n",
    "# -=\n",
    "# *=\n",
    "# /=\n",
    "\n",
    "item = 5\n",
    "item = 5 + 10\n",
    "item"
   ]
  },
  {
   "cell_type": "code",
   "execution_count": 42,
   "id": "8a08955d-2335-4510-a149-a336a0d4e009",
   "metadata": {},
   "outputs": [
    {
     "data": {
      "text/plain": [
       "25"
      ]
     },
     "execution_count": 42,
     "metadata": {},
     "output_type": "execute_result"
    }
   ],
   "source": [
    "item = item + 10\n",
    "item"
   ]
  },
  {
   "cell_type": "code",
   "execution_count": 44,
   "id": "c85181c7-2954-4208-be4e-3fd582c7a1cd",
   "metadata": {},
   "outputs": [
    {
     "data": {
      "text/plain": [
       "35"
      ]
     },
     "execution_count": 44,
     "metadata": {},
     "output_type": "execute_result"
    }
   ],
   "source": [
    "item += 10\n",
    "item"
   ]
  },
  {
   "cell_type": "code",
   "execution_count": 46,
   "id": "d61159c2-b475-4aed-861f-111723aca369",
   "metadata": {},
   "outputs": [
    {
     "data": {
      "text/plain": [
       "30"
      ]
     },
     "execution_count": 46,
     "metadata": {},
     "output_type": "execute_result"
    }
   ],
   "source": [
    "item -= 5\n",
    "item"
   ]
  },
  {
   "cell_type": "code",
   "execution_count": 48,
   "id": "803c725d-ae3d-44ed-a8e6-d157a5610a98",
   "metadata": {},
   "outputs": [
    {
     "data": {
      "text/plain": [
       "20"
      ]
     },
     "execution_count": 48,
     "metadata": {},
     "output_type": "execute_result"
    }
   ],
   "source": [
    "item -= 10\n",
    "item"
   ]
  },
  {
   "cell_type": "code",
   "execution_count": 50,
   "id": "987e7edf-903a-4ef9-ac98-8fb348c38783",
   "metadata": {},
   "outputs": [
    {
     "data": {
      "text/plain": [
       "5.0"
      ]
     },
     "execution_count": 50,
     "metadata": {},
     "output_type": "execute_result"
    }
   ],
   "source": [
    "item /= 4\n",
    "item"
   ]
  },
  {
   "cell_type": "code",
   "execution_count": 52,
   "id": "9c77e275-9911-4f71-95d6-4c25fb500adc",
   "metadata": {},
   "outputs": [
    {
     "data": {
      "text/plain": [
       "25.0"
      ]
     },
     "execution_count": 52,
     "metadata": {},
     "output_type": "execute_result"
    }
   ],
   "source": [
    "item *= 5\n",
    "item"
   ]
  },
  {
   "cell_type": "code",
   "execution_count": 60,
   "id": "833cfc12-3ea6-416d-88ea-7bd609bb2c23",
   "metadata": {},
   "outputs": [
    {
     "data": {
      "text/plain": [
       "False"
      ]
     },
     "execution_count": 60,
     "metadata": {},
     "output_type": "execute_result"
    }
   ],
   "source": [
    "# ==\n",
    "# !=\n",
    "# <\n",
    "# >\n",
    "# >=\n",
    "# <=\n",
    "\n",
    "num1 = 20\n",
    "num2 = 30\n",
    "num3 = 20\n",
    "num4 = 50\n",
    "\n",
    "num1 == num2"
   ]
  },
  {
   "cell_type": "code",
   "execution_count": 56,
   "id": "ebdc4a8c-6083-405e-b21c-b54eb34e36d5",
   "metadata": {},
   "outputs": [
    {
     "data": {
      "text/plain": [
       "True"
      ]
     },
     "execution_count": 56,
     "metadata": {},
     "output_type": "execute_result"
    }
   ],
   "source": [
    "num1 != num2"
   ]
  },
  {
   "cell_type": "code",
   "execution_count": 62,
   "id": "19c44550-2cbf-4d1e-b00f-c431ebf5e208",
   "metadata": {},
   "outputs": [
    {
     "data": {
      "text/plain": [
       "True"
      ]
     },
     "execution_count": 62,
     "metadata": {},
     "output_type": "execute_result"
    }
   ],
   "source": [
    "num1 == num3"
   ]
  },
  {
   "cell_type": "code",
   "execution_count": 64,
   "id": "348161f2-6648-43eb-aa87-e820ff5d58ef",
   "metadata": {},
   "outputs": [
    {
     "data": {
      "text/plain": [
       "True"
      ]
     },
     "execution_count": 64,
     "metadata": {},
     "output_type": "execute_result"
    }
   ],
   "source": [
    "num1 < num2"
   ]
  },
  {
   "cell_type": "code",
   "execution_count": 66,
   "id": "f34e4d55-5ee6-48b1-9b8f-ab50c8b450a9",
   "metadata": {},
   "outputs": [
    {
     "data": {
      "text/plain": [
       "False"
      ]
     },
     "execution_count": 66,
     "metadata": {},
     "output_type": "execute_result"
    }
   ],
   "source": [
    "num3 > num4"
   ]
  },
  {
   "cell_type": "code",
   "execution_count": 68,
   "id": "2faa158c-49f6-48ae-9044-c1f613e1c8aa",
   "metadata": {},
   "outputs": [
    {
     "data": {
      "text/plain": [
       "True"
      ]
     },
     "execution_count": 68,
     "metadata": {},
     "output_type": "execute_result"
    }
   ],
   "source": [
    "num2 >= num3"
   ]
  },
  {
   "cell_type": "code",
   "execution_count": 70,
   "id": "90a9e1d7-d632-4d0a-8982-1938d06423bb",
   "metadata": {},
   "outputs": [
    {
     "data": {
      "text/plain": [
       "False"
      ]
     },
     "execution_count": 70,
     "metadata": {},
     "output_type": "execute_result"
    }
   ],
   "source": [
    "num2 <= num3"
   ]
  },
  {
   "cell_type": "code",
   "execution_count": 72,
   "id": "cf68a5c6-965a-418f-8482-ebc363a9422c",
   "metadata": {},
   "outputs": [
    {
     "data": {
      "text/plain": [
       "False"
      ]
     },
     "execution_count": 72,
     "metadata": {},
     "output_type": "execute_result"
    }
   ],
   "source": [
    "# and\n",
    "# or\n",
    "# not\n",
    "\n",
    "num2 <= num3 and num2 >= num3"
   ]
  },
  {
   "cell_type": "code",
   "execution_count": 74,
   "id": "4773eb0e-1105-42a5-a68f-3b25c8e9928b",
   "metadata": {},
   "outputs": [
    {
     "data": {
      "text/plain": [
       "True"
      ]
     },
     "execution_count": 74,
     "metadata": {},
     "output_type": "execute_result"
    }
   ],
   "source": [
    "num2 <= num3 or num2 >= num3"
   ]
  },
  {
   "cell_type": "code",
   "execution_count": 76,
   "id": "040da2f1-3ed2-437f-9cec-e63138b85424",
   "metadata": {},
   "outputs": [
    {
     "data": {
      "text/plain": [
       "False"
      ]
     },
     "execution_count": 76,
     "metadata": {},
     "output_type": "execute_result"
    }
   ],
   "source": [
    "True and False"
   ]
  },
  {
   "cell_type": "code",
   "execution_count": 78,
   "id": "d0c28d67-523f-48bf-8281-9bbe8dce5687",
   "metadata": {},
   "outputs": [
    {
     "data": {
      "text/plain": [
       "True"
      ]
     },
     "execution_count": 78,
     "metadata": {},
     "output_type": "execute_result"
    }
   ],
   "source": [
    "True or False"
   ]
  },
  {
   "cell_type": "code",
   "execution_count": 80,
   "id": "b86e38df-811a-4df6-825e-694c5a1b3869",
   "metadata": {},
   "outputs": [
    {
     "data": {
      "text/plain": [
       "True"
      ]
     },
     "execution_count": 80,
     "metadata": {},
     "output_type": "execute_result"
    }
   ],
   "source": [
    "True and True"
   ]
  },
  {
   "cell_type": "code",
   "execution_count": 82,
   "id": "a01773a8-30df-4c97-9e77-2eb46a3f6bd5",
   "metadata": {},
   "outputs": [
    {
     "data": {
      "text/plain": [
       "True"
      ]
     },
     "execution_count": 82,
     "metadata": {},
     "output_type": "execute_result"
    }
   ],
   "source": [
    "True or True"
   ]
  },
  {
   "cell_type": "code",
   "execution_count": 84,
   "id": "b559b4c7-f7d3-4ff9-a0a4-7f4e601516f3",
   "metadata": {},
   "outputs": [
    {
     "data": {
      "text/plain": [
       "False"
      ]
     },
     "execution_count": 84,
     "metadata": {},
     "output_type": "execute_result"
    }
   ],
   "source": [
    "False and False"
   ]
  },
  {
   "cell_type": "code",
   "execution_count": 86,
   "id": "59ff73fb-35e8-4fc7-af19-5318d674d769",
   "metadata": {},
   "outputs": [
    {
     "data": {
      "text/plain": [
       "False"
      ]
     },
     "execution_count": 86,
     "metadata": {},
     "output_type": "execute_result"
    }
   ],
   "source": [
    "False or False"
   ]
  },
  {
   "cell_type": "code",
   "execution_count": 88,
   "id": "2b1985c9-f50e-48b5-b31e-04aac5072887",
   "metadata": {},
   "outputs": [
    {
     "data": {
      "text/plain": [
       "False"
      ]
     },
     "execution_count": 88,
     "metadata": {},
     "output_type": "execute_result"
    }
   ],
   "source": [
    "not True"
   ]
  },
  {
   "cell_type": "code",
   "execution_count": 94,
   "id": "d83c256f-46c6-4be8-8e40-d437241f4b9d",
   "metadata": {},
   "outputs": [
    {
     "data": {
      "text/plain": [
       "True"
      ]
     },
     "execution_count": 94,
     "metadata": {},
     "output_type": "execute_result"
    }
   ],
   "source": [
    "not False"
   ]
  },
  {
   "cell_type": "code",
   "execution_count": 106,
   "id": "951154c6-5376-444d-991d-92ec781722a7",
   "metadata": {},
   "outputs": [
    {
     "name": "stdout",
     "output_type": "stream",
     "text": [
      "This is a Cat\n",
      "This is dog\n"
     ]
    }
   ],
   "source": [
    "spices = 'cat'\n",
    "if spices != 'dog':\n",
    "    print(\"This is a Cat\")\n",
    "    \n",
    "    print(\"This is dog\"\n"
   ]
  },
  {
   "cell_type": "code",
   "execution_count": 112,
   "id": "5bfefb27-171c-4940-886f-f39864f7e061",
   "metadata": {},
   "outputs": [
    {
     "name": "stdout",
     "output_type": "stream",
     "text": [
      "your are eligible\n"
     ]
    }
   ],
   "source": [
    "province = \"sindh\"\n",
    "qualification = \"graduate\"\n",
    "age = 25\n",
    "\n",
    "if province == 'sindh' and qualification == \"graduate\":\n",
    "    print(\"your are eligible\")"
   ]
  },
  {
   "cell_type": "code",
   "execution_count": 114,
   "id": "86b03387-aabe-47ca-ad8e-e767f63d36a8",
   "metadata": {},
   "outputs": [],
   "source": [
    "province = \"punjab\"\n",
    "qualification = \"graduate\"\n",
    "age = 25\n",
    "\n",
    "if province == 'sindh' and qualification == \"graduate\":\n",
    "    print(\"your are eligible\")"
   ]
  },
  {
   "cell_type": "code",
   "execution_count": 116,
   "id": "6b9b3b1c-692e-4247-8e82-fcf74f31cea0",
   "metadata": {},
   "outputs": [
    {
     "name": "stdout",
     "output_type": "stream",
     "text": [
      "your are eligible\n"
     ]
    }
   ],
   "source": [
    "province = \"punjab\"\n",
    "qualification = \"graduate\"\n",
    "age = 25\n",
    "\n",
    "if province == 'sindh' or qualification == \"graduate\":\n",
    "    print(\"your are eligible\")"
   ]
  },
  {
   "cell_type": "code",
   "execution_count": 118,
   "id": "3929dec8-b088-4afc-8230-80621d1251de",
   "metadata": {},
   "outputs": [
    {
     "name": "stdout",
     "output_type": "stream",
     "text": [
      "your are Selected\n"
     ]
    }
   ],
   "source": [
    "province = \"punjab\"\n",
    "qualification = \"Matric\"\n",
    "from_minister_family = True\n",
    "age = 25\n",
    "\n",
    "if (province == 'sindh' or qualification == \"graduate\") or from_minister_family:\n",
    "    print(\"your are Selected\")"
   ]
  },
  {
   "cell_type": "code",
   "execution_count": 122,
   "id": "c1165f73-06a7-4e3b-8b06-79a26a554151",
   "metadata": {},
   "outputs": [
    {
     "data": {
      "text/plain": [
       "True"
      ]
     },
     "execution_count": 122,
     "metadata": {},
     "output_type": "execute_result"
    }
   ],
   "source": [
    "21 <= age and age <= 28"
   ]
  },
  {
   "cell_type": "code",
   "execution_count": 128,
   "id": "4cba3661-42c4-45d3-8283-f816252395fe",
   "metadata": {},
   "outputs": [
    {
     "name": "stdout",
     "output_type": "stream",
     "text": [
      "your are Eligible\n"
     ]
    }
   ],
   "source": [
    "province = \"sindh\"\n",
    "qualification = \"Matric\"\n",
    "age = 25\n",
    "\n",
    "if (province == 'sindh' or qualification == \"graduate\") and (21 <= age and age <= 28):\n",
    "    print(\"your are Eligible\")"
   ]
  },
  {
   "cell_type": "code",
   "execution_count": 145,
   "id": "35aaa7c7-5e89-48a1-b648-37bda08877d8",
   "metadata": {},
   "outputs": [
    {
     "data": {
      "text/plain": [
       "False"
      ]
     },
     "execution_count": 145,
     "metadata": {},
     "output_type": "execute_result"
    }
   ],
   "source": [
    "province == 'punjab' or qualification == \"graduate\" and 21 <= age and age <= 28"
   ]
  },
  {
   "cell_type": "code",
   "execution_count": 163,
   "id": "87c169ad-0c76-43ae-a0a4-0c2bc5516821",
   "metadata": {},
   "outputs": [
    {
     "name": "stdout",
     "output_type": "stream",
     "text": [
      "Fail\n"
     ]
    }
   ],
   "source": [
    "marks = 550\n",
    "if marks >= 1000 and marks <= 1100:\n",
    "    print(\"A+\")\n",
    "elif 800 <= marks <= 899:\n",
    "    print(\"B\")\n",
    "elif 600 <= marks <= 799:\n",
    "    print(\"C\")\n",
    "else:\n",
    "    print(\"Fail\")"
   ]
  }
 ],
 "metadata": {
  "kernelspec": {
   "display_name": "Python 3 (ipykernel)",
   "language": "python",
   "name": "python3"
  },
  "language_info": {
   "codemirror_mode": {
    "name": "ipython",
    "version": 3
   },
   "file_extension": ".py",
   "mimetype": "text/x-python",
   "name": "python",
   "nbconvert_exporter": "python",
   "pygments_lexer": "ipython3",
   "version": "3.12.4"
  }
 },
 "nbformat": 4,
 "nbformat_minor": 5
}
