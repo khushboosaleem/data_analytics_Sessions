{
 "cells": [
  {
   "cell_type": "markdown",
   "id": "38e53a8e-2354-4373-9e5f-3968ef9af2cb",
   "metadata": {},
   "source": [
    "# arbitary number of arguments"
   ]
  },
  {
   "cell_type": "code",
   "execution_count": 2,
   "id": "5fc5713b-ec38-469a-9d7e-e65ada800890",
   "metadata": {},
   "outputs": [
    {
     "name": "stdout",
     "output_type": "stream",
     "text": [
      "('salt', 'sugar', 'oil', 'tea', 'rice')\n",
      "('salt', 'wheat', 'ghee')\n"
     ]
    }
   ],
   "source": [
    "def grocery_shop(*num_of_items):\n",
    "    print(num_of_items)\n",
    "\n",
    "grocery_shop('salt','sugar','oil','tea','rice')\n",
    "grocery_shop('salt','wheat','ghee')"
   ]
  },
  {
   "cell_type": "code",
   "execution_count": null,
   "id": "6326277f-c354-4c82-b737-4585f3810c3a",
   "metadata": {},
   "outputs": [],
   "source": [
    "def grocery_shop(*num_of_items):\n",
    "    print(num_of_items)\n",
    "\n",
    "grocery_shop('salt','sugar','oil','tea','rice')\n",
    "grocery_shop('salt','wheat','ghee')"
   ]
  },
  {
   "cell_type": "markdown",
   "id": "0c2379b2-9b6c-4c77-b6ef-6827fe967608",
   "metadata": {},
   "source": [
    "# keyword arbitary number of arguments"
   ]
  },
  {
   "cell_type": "code",
   "execution_count": 4,
   "id": "a6f5ad56-cd66-4acd-ada8-b0c019010de6",
   "metadata": {},
   "outputs": [
    {
     "name": "stdout",
     "output_type": "stream",
     "text": [
      "ahsan\n",
      "42501239384\n",
      "{'father_name': 'Nadeem', 'age': 34, 'location': 'gohar'}\n",
      "Noman\n",
      "42407788834\n",
      "{'father_name': 'Wali ullah', 'education': 'Inter', 'profession': 'sportman', 'age': 22}\n"
     ]
    }
   ],
   "source": [
    "def make_profile(name, cnic, **details):\n",
    "    print(name)\n",
    "    print(cnic)\n",
    "    print(details)\n",
    "\n",
    "make_profile('ahsan', 42501239384, father_name = 'Nadeem',\n",
    "             age = 34, location='gohar')\n",
    "make_profile('Noman', 42407788834, father_name = 'Wali ullah',\n",
    "             education = 'Inter', profession='sportman', age = 22)"
   ]
  },
  {
   "cell_type": "code",
   "execution_count": 5,
   "id": "22f588ef-3d60-4972-9bf3-697d6ea3f957",
   "metadata": {},
   "outputs": [
    {
     "name": "stdout",
     "output_type": "stream",
     "text": [
      "{'name': 'Noman', 'cnic': 42407788834, 'father_name': 'Wali ullah', 'education': 'Inter', 'profession': 'sportman', 'age': 22}\n",
      "{'name': 'ahsan', 'cnic': 42501239384, 'father_name': 'Nadeem', 'age': 34, 'location': 'gohar'}\n"
     ]
    }
   ],
   "source": [
    "def make_profile(name, cnic, **details):\n",
    "    profile = {}\n",
    "    profile['name'] = name\n",
    "    profile['cnic'] = cnic\n",
    "    for key, value in details.items():\n",
    "        profile[key] = value\n",
    "\n",
    "    return profile\n",
    "\n",
    "profile1 = make_profile('Noman', 42407788834, father_name = 'Wali ullah',\n",
    "             education = 'Inter', profession='sportman', age = 22)\n",
    "profile2 = make_profile('ahsan', 42501239384, father_name = 'Nadeem',\n",
    "             age = 34, location='gohar')\n",
    "print(profile1)\n",
    "print(profile2)"
   ]
  },
  {
   "cell_type": "markdown",
   "id": "735331ed-1130-4d9d-8760-f6ace4dbdf38",
   "metadata": {},
   "source": [
    "# error handling"
   ]
  },
  {
   "cell_type": "code",
   "execution_count": 6,
   "id": "a34b4941-db21-40ab-b855-f106778b7292",
   "metadata": {},
   "outputs": [
    {
     "name": "stdout",
     "output_type": "stream",
     "text": [
      "hello\n",
      "2.0\n",
      "hello\n"
     ]
    }
   ],
   "source": [
    "print('hello')\n",
    "print(6/3)\n",
    "print('hello')"
   ]
  },
  {
   "cell_type": "code",
   "execution_count": 7,
   "id": "dff2b1a8-284f-4c48-b40c-3b01f863f65d",
   "metadata": {},
   "outputs": [
    {
     "name": "stdout",
     "output_type": "stream",
     "text": [
      "hello\n"
     ]
    },
    {
     "ename": "ZeroDivisionError",
     "evalue": "division by zero",
     "output_type": "error",
     "traceback": [
      "\u001b[1;31m---------------------------------------------------------------------------\u001b[0m",
      "\u001b[1;31mZeroDivisionError\u001b[0m                         Traceback (most recent call last)",
      "Cell \u001b[1;32mIn[7], line 2\u001b[0m\n\u001b[0;32m      1\u001b[0m \u001b[38;5;28mprint\u001b[39m(\u001b[38;5;124m'\u001b[39m\u001b[38;5;124mhello\u001b[39m\u001b[38;5;124m'\u001b[39m)\n\u001b[1;32m----> 2\u001b[0m \u001b[38;5;28mprint\u001b[39m(\u001b[38;5;241m6\u001b[39m\u001b[38;5;241m/\u001b[39m\u001b[38;5;241m0\u001b[39m)\n\u001b[0;32m      3\u001b[0m \u001b[38;5;28mprint\u001b[39m(\u001b[38;5;124m'\u001b[39m\u001b[38;5;124mhello\u001b[39m\u001b[38;5;124m'\u001b[39m)\n",
      "\u001b[1;31mZeroDivisionError\u001b[0m: division by zero"
     ]
    }
   ],
   "source": [
    "print('hello')\n",
    "print(6/0)\n",
    "print('hello')"
   ]
  },
  {
   "cell_type": "code",
   "execution_count": 8,
   "id": "e7b7cd47-ae0b-4691-bc9c-a9c755ea22e4",
   "metadata": {},
   "outputs": [
    {
     "name": "stdout",
     "output_type": "stream",
     "text": [
      "hello\n",
      "My error is:  division by zero\n",
      "hello\n"
     ]
    }
   ],
   "source": [
    "print('hello')\n",
    "try:\n",
    "    print(6/0)\n",
    "\n",
    "except Exception as error:\n",
    "    print('My error is: ', error)\n",
    "    \n",
    "print('hello')"
   ]
  },
  {
   "cell_type": "code",
   "execution_count": 9,
   "id": "332ccaf5-b845-460a-b983-787542b9174b",
   "metadata": {},
   "outputs": [
    {
     "name": "stdout",
     "output_type": "stream",
     "text": [
      "hello\n",
      "3.0\n",
      "hello\n"
     ]
    }
   ],
   "source": [
    "print('hello')\n",
    "try:\n",
    "    print(6/2)\n",
    "\n",
    "except Exception as error:\n",
    "    print('My error is: ', error)\n",
    "    \n",
    "print('hello')"
   ]
  },
  {
   "cell_type": "code",
   "execution_count": 10,
   "id": "8a4f5a5f-1d17-4df4-b70b-096e8fb1deac",
   "metadata": {},
   "outputs": [
    {
     "name": "stdout",
     "output_type": "stream",
     "text": [
      "hello\n",
      "Zero division Error\n",
      "hello\n"
     ]
    }
   ],
   "source": [
    "print('hello')\n",
    "try:\n",
    "    print(6/0)\n",
    "\n",
    "except ZeroDivisionError:\n",
    "    print('Zero division Error')\n",
    "    \n",
    "print('hello')"
   ]
  },
  {
   "cell_type": "code",
   "execution_count": 13,
   "id": "eb75ce34-be3c-4712-8b0b-1c4c1f955c9f",
   "metadata": {},
   "outputs": [
    {
     "name": "stdout",
     "output_type": "stream",
     "text": [
      "hello\n",
      "File Error:  [Errno 2] No such file or directory: 'example.txt'\n",
      "hello\n"
     ]
    }
   ],
   "source": [
    "print('hello')\n",
    "try:\n",
    "    with open('example.txt', 'r') as f:\n",
    "        print(f.read())\n",
    "\n",
    "except Exception as error:\n",
    "    print('File Error: ', error)\n",
    "    \n",
    "print('hello')"
   ]
  },
  {
   "cell_type": "code",
   "execution_count": 15,
   "id": "6d75be24-68e1-4764-a5e8-a59b1ef7bb17",
   "metadata": {},
   "outputs": [
    {
     "name": "stdout",
     "output_type": "stream",
     "text": [
      "hello\n",
      "File Error:  [Errno 2] No such file or directory: 'example.txt'\n",
      "runs at any situation\n",
      "hello\n"
     ]
    }
   ],
   "source": [
    "print('hello')\n",
    "try:\n",
    "    with open('example.txt', 'r') as f:\n",
    "        print(f.read())\n",
    "\n",
    "except Exception as error:\n",
    "    print('File Error: ', error)\n",
    "\n",
    "else:\n",
    "    print(\"working after success\")\n",
    "    \n",
    "finally:\n",
    "    print(\"runs at any situation\")\n",
    "    \n",
    "print('hello')"
   ]
  },
  {
   "cell_type": "code",
   "execution_count": 16,
   "id": "24c298dd-6fcd-4cc4-84f1-f5cbf5728e18",
   "metadata": {},
   "outputs": [
    {
     "name": "stdout",
     "output_type": "stream",
     "text": [
      "hello\n",
      "working after success\n",
      "runs at any situation\n",
      "hello\n"
     ]
    }
   ],
   "source": [
    "print('hello')\n",
    "try:\n",
    "    with open('example.txt', 'w') as f:\n",
    "        f.write('nouroz khan')\n",
    "    print(6/0)\n",
    "\n",
    "except Exception as error:\n",
    "    print('File Error: ', error)\n",
    "\n",
    "else:\n",
    "    print(\"working after success\")\n",
    "    \n",
    "finally:\n",
    "    print(\"runs at any situation\")\n",
    "    \n",
    "print('hello')"
   ]
  },
  {
   "cell_type": "code",
   "execution_count": 18,
   "id": "da077301-025d-46f1-a484-cc300beccc51",
   "metadata": {},
   "outputs": [
    {
     "name": "stdout",
     "output_type": "stream",
     "text": [
      "hello\n",
      "File Error:  division by zero\n",
      "runs at any situation\n",
      "hello\n"
     ]
    }
   ],
   "source": [
    "print('hello')\n",
    "try:\n",
    "    print(6/0)\n",
    "    with open('example.txt', 'r') as f:\n",
    "        print(f.read())\n",
    "    \n",
    "except Exception as error:\n",
    "    print('File Error: ', error)\n",
    "\n",
    "else:\n",
    "    print(\"working after success\")\n",
    "    \n",
    "finally:\n",
    "    print(\"runs at any situation\")\n",
    "    \n",
    "print('hello')"
   ]
  },
  {
   "cell_type": "markdown",
   "id": "89a3b694-2ff8-4c1b-b4a8-8c71e3693faa",
   "metadata": {},
   "source": [
    " ***Write a Python function to find the maximum value in a list of numbers.***"
   ]
  },
  {
   "cell_type": "code",
   "execution_count": 20,
   "id": "954e8f90-b2c3-4448-9683-11d8593c8884",
   "metadata": {},
   "outputs": [
    {
     "data": {
      "text/plain": [
       "105"
      ]
     },
     "execution_count": 20,
     "metadata": {},
     "output_type": "execute_result"
    }
   ],
   "source": [
    "# Define a function find_max.\n",
    "# Iterate through the list to find the maximum value.\n",
    "# Return the maximum value.\n",
    "\n",
    "\n",
    "def find_max(user_input):\n",
    "    max_number = user_input[0]\n",
    "    for i in user_input:\n",
    "        if i > max_number:\n",
    "            max_number = i\n",
    "    return max_number\n",
    "\n",
    "find_max([105,2,3,5,6,33,12,13,14])"
   ]
  },
  {
   "cell_type": "markdown",
   "id": "9336d1a3-9142-4172-87fa-616de3fb5dd4",
   "metadata": {},
   "source": [
    "# Write a Python function to convert an amount from one currency to another using a given exchange rate"
   ]
  },
  {
   "cell_type": "code",
   "execution_count": 21,
   "id": "c4e70e72-ee37-45cc-9f88-63ee9d4fb05c",
   "metadata": {},
   "outputs": [
    {
     "data": {
      "text/plain": [
       "14500"
      ]
     },
     "execution_count": 21,
     "metadata": {},
     "output_type": "execute_result"
    }
   ],
   "source": [
    "# Define a function convert_currency.\n",
    "# Take the amount and exchange rate as input.\n",
    "# Apply the formula: \n",
    "# Converted Amount= Amount × Exchange Rate\n",
    "# Return the converted amount.\n",
    "\n",
    "def convert_currency(amount,exchange_rate):\n",
    "    converted_amount = amount * exchange_rate\n",
    "    return converted_amount\n",
    "\n",
    "convert_currency(50,290)"
   ]
  },
  {
   "cell_type": "code",
   "execution_count": null,
   "id": "228531ab-fe81-4adf-aa90-aeac4aed01ea",
   "metadata": {},
   "outputs": [],
   "source": []
  }
 ],
 "metadata": {
  "kernelspec": {
   "display_name": "Python 3 (ipykernel)",
   "language": "python",
   "name": "python3"
  },
  "language_info": {
   "codemirror_mode": {
    "name": "ipython",
    "version": 3
   },
   "file_extension": ".py",
   "mimetype": "text/x-python",
   "name": "python",
   "nbconvert_exporter": "python",
   "pygments_lexer": "ipython3",
   "version": "3.12.4"
  }
 },
 "nbformat": 4,
 "nbformat_minor": 5
}
