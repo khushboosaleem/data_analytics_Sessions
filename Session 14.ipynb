{
 "cells": [
  {
   "cell_type": "markdown",
   "id": "f25a0de7-9ca2-4c95-9c55-a2a0f8f5364c",
   "metadata": {},
   "source": [
    "# ***Object Oriented Programming (oop)***"
   ]
  },
  {
   "cell_type": "code",
   "execution_count": 1,
   "id": "8b9fe41e-4f62-45ba-b414-9af77dc875aa",
   "metadata": {},
   "outputs": [
    {
     "name": "stdout",
     "output_type": "stream",
     "text": [
      "<class 'str'>\n"
     ]
    }
   ],
   "source": [
    "name = \"sana\"\n",
    "print(type(name))"
   ]
  },
  {
   "cell_type": "code",
   "execution_count": 2,
   "id": "1b6c3057-1071-4df8-a515-6e197adaa223",
   "metadata": {},
   "outputs": [
    {
     "name": "stdout",
     "output_type": "stream",
     "text": [
      "<class 'list'>\n"
     ]
    }
   ],
   "source": [
    "l = [1,2,3]\n",
    "print(type(l))"
   ]
  },
  {
   "cell_type": "code",
   "execution_count": 3,
   "id": "1ebdf3b7-1cca-4d3c-944d-c56c666e95ef",
   "metadata": {},
   "outputs": [],
   "source": [
    "class Student:\n",
    "    def greet():\n",
    "        return \"Welcome\""
   ]
  },
  {
   "cell_type": "code",
   "execution_count": 5,
   "id": "35c343bd-48fe-4df1-88d5-6796407f205a",
   "metadata": {},
   "outputs": [],
   "source": [
    "stud = Student()"
   ]
  },
  {
   "cell_type": "code",
   "execution_count": 6,
   "id": "132efc0a-dd35-49a6-b729-06f628a4e33c",
   "metadata": {},
   "outputs": [
    {
     "data": {
      "text/plain": [
       "<__main__.Student at 0x14f0bb50140>"
      ]
     },
     "execution_count": 6,
     "metadata": {},
     "output_type": "execute_result"
    }
   ],
   "source": [
    "stud"
   ]
  },
  {
   "cell_type": "code",
   "execution_count": 7,
   "id": "0425bd7d-653b-4bc8-b311-2712a7b61a45",
   "metadata": {},
   "outputs": [
    {
     "ename": "TypeError",
     "evalue": "Student.greet() takes 0 positional arguments but 1 was given",
     "output_type": "error",
     "traceback": [
      "\u001b[1;31m---------------------------------------------------------------------------\u001b[0m",
      "\u001b[1;31mTypeError\u001b[0m                                 Traceback (most recent call last)",
      "Cell \u001b[1;32mIn[7], line 1\u001b[0m\n\u001b[1;32m----> 1\u001b[0m stud\u001b[38;5;241m.\u001b[39mgreet()\n",
      "\u001b[1;31mTypeError\u001b[0m: Student.greet() takes 0 positional arguments but 1 was given"
     ]
    }
   ],
   "source": [
    "stud.greet()"
   ]
  },
  {
   "cell_type": "code",
   "execution_count": 8,
   "id": "690fd64d-5490-4418-934e-0edb69375ff1",
   "metadata": {},
   "outputs": [],
   "source": [
    "class Student:\n",
    "    def greet(self):\n",
    "        return \"Welcome\""
   ]
  },
  {
   "cell_type": "code",
   "execution_count": 10,
   "id": "e2f09840-fb42-491b-8980-a1c3d0b521ac",
   "metadata": {},
   "outputs": [],
   "source": [
    "stud = Student()"
   ]
  },
  {
   "cell_type": "code",
   "execution_count": 11,
   "id": "6c04cccf-86f6-4ebd-a631-9e590c4ba1a8",
   "metadata": {},
   "outputs": [
    {
     "data": {
      "text/plain": [
       "'Welcome'"
      ]
     },
     "execution_count": 11,
     "metadata": {},
     "output_type": "execute_result"
    }
   ],
   "source": [
    "stud.greet()"
   ]
  },
  {
   "cell_type": "code",
   "execution_count": 12,
   "id": "d04b2a11-f04b-42af-8743-1ab4246c23bb",
   "metadata": {},
   "outputs": [
    {
     "data": {
      "text/plain": [
       "'Welcome'"
      ]
     },
     "execution_count": 12,
     "metadata": {},
     "output_type": "execute_result"
    }
   ],
   "source": [
    "Student.greet(stud)"
   ]
  },
  {
   "cell_type": "code",
   "execution_count": 13,
   "id": "a4f1dcb4-4bd7-4c5c-b0aa-174c4a594cf8",
   "metadata": {},
   "outputs": [],
   "source": [
    "class Student:\n",
    "    def greet(name):\n",
    "        return \"Welcome\""
   ]
  },
  {
   "cell_type": "code",
   "execution_count": 14,
   "id": "1c4b52a2-c3c1-47d6-b05a-72bf3b1a38e5",
   "metadata": {},
   "outputs": [],
   "source": [
    "stud = Student()"
   ]
  },
  {
   "cell_type": "code",
   "execution_count": 15,
   "id": "d617d059-ef80-40dd-9150-91f1e95cce47",
   "metadata": {},
   "outputs": [
    {
     "data": {
      "text/plain": [
       "'Welcome'"
      ]
     },
     "execution_count": 15,
     "metadata": {},
     "output_type": "execute_result"
    }
   ],
   "source": [
    "stud.greet()"
   ]
  },
  {
   "cell_type": "code",
   "execution_count": 16,
   "id": "13947322-f5cc-48ee-ad97-080befeab825",
   "metadata": {},
   "outputs": [],
   "source": [
    "class Student:\n",
    "    def greet(self):\n",
    "        return \"Welcome\"\n",
    "\n",
    "    def subj(self):\n",
    "        return \"We are learning oop\""
   ]
  },
  {
   "cell_type": "code",
   "execution_count": 17,
   "id": "3006ee2a-70a6-4115-95b2-02a03401a8b1",
   "metadata": {},
   "outputs": [],
   "source": [
    "stud = Student()"
   ]
  },
  {
   "cell_type": "code",
   "execution_count": 18,
   "id": "309d297f-e090-4685-94e0-2d14132200c5",
   "metadata": {},
   "outputs": [
    {
     "data": {
      "text/plain": [
       "'We are learning oop'"
      ]
     },
     "execution_count": 18,
     "metadata": {},
     "output_type": "execute_result"
    }
   ],
   "source": [
    "stud.subj()"
   ]
  },
  {
   "cell_type": "code",
   "execution_count": 19,
   "id": "7ad0855b-147d-4c89-ba1e-fedfdbc9f1ff",
   "metadata": {},
   "outputs": [
    {
     "data": {
      "text/plain": [
       "'Welcome'"
      ]
     },
     "execution_count": 19,
     "metadata": {},
     "output_type": "execute_result"
    }
   ],
   "source": [
    "stud.greet()"
   ]
  },
  {
   "cell_type": "code",
   "execution_count": 20,
   "id": "90be2699-b230-468d-9bb4-812e582be570",
   "metadata": {},
   "outputs": [],
   "source": [
    "class Student:\n",
    "    def greet(self,name,age):\n",
    "        self.name = name\n",
    "        self.age = age\n",
    "        return \"Welcome\"\n",
    "\n",
    "    def subj(self):\n",
    "        return \"We are learning oop\""
   ]
  },
  {
   "cell_type": "code",
   "execution_count": 21,
   "id": "ce407e77-36c0-4199-a64d-965f0a63ec82",
   "metadata": {},
   "outputs": [],
   "source": [
    "stud = Student()"
   ]
  },
  {
   "cell_type": "code",
   "execution_count": 22,
   "id": "464f16cf-06f8-4a43-8c8d-ef4aa1bd5d48",
   "metadata": {},
   "outputs": [
    {
     "ename": "TypeError",
     "evalue": "Student.greet() missing 2 required positional arguments: 'name' and 'age'",
     "output_type": "error",
     "traceback": [
      "\u001b[1;31m---------------------------------------------------------------------------\u001b[0m",
      "\u001b[1;31mTypeError\u001b[0m                                 Traceback (most recent call last)",
      "Cell \u001b[1;32mIn[22], line 1\u001b[0m\n\u001b[1;32m----> 1\u001b[0m stud\u001b[38;5;241m.\u001b[39mgreet()\n",
      "\u001b[1;31mTypeError\u001b[0m: Student.greet() missing 2 required positional arguments: 'name' and 'age'"
     ]
    }
   ],
   "source": [
    "stud.greet()"
   ]
  },
  {
   "cell_type": "code",
   "execution_count": 23,
   "id": "d112f972-af5c-4078-841f-a93a8e6e8ba3",
   "metadata": {},
   "outputs": [
    {
     "data": {
      "text/plain": [
       "'Welcome'"
      ]
     },
     "execution_count": 23,
     "metadata": {},
     "output_type": "execute_result"
    }
   ],
   "source": [
    "stud.greet(\"sana\",35)"
   ]
  },
  {
   "cell_type": "code",
   "execution_count": 24,
   "id": "0dc68d8b-3c01-4520-8c53-6d7061e50530",
   "metadata": {},
   "outputs": [
    {
     "data": {
      "text/plain": [
       "'sana'"
      ]
     },
     "execution_count": 24,
     "metadata": {},
     "output_type": "execute_result"
    }
   ],
   "source": [
    "stud.name"
   ]
  },
  {
   "cell_type": "code",
   "execution_count": 25,
   "id": "57d50fd5-8981-428b-b17e-c5c5f3aa79a9",
   "metadata": {},
   "outputs": [
    {
     "data": {
      "text/plain": [
       "35"
      ]
     },
     "execution_count": 25,
     "metadata": {},
     "output_type": "execute_result"
    }
   ],
   "source": [
    "stud.age"
   ]
  },
  {
   "cell_type": "code",
   "execution_count": 34,
   "id": "6b35d638-c9de-4f9a-9727-5c81a76cdb6a",
   "metadata": {},
   "outputs": [],
   "source": [
    "class Student:\n",
    "    def greet(self,name,age):\n",
    "        self.name1 = name\n",
    "        self.age1 = age\n",
    "        return \"Welcome\"\n",
    "\n",
    "    def subj(self):\n",
    "        return \"We are learning oop\""
   ]
  },
  {
   "cell_type": "code",
   "execution_count": 35,
   "id": "5b4a0970-5edf-4195-abed-0111787b3d94",
   "metadata": {},
   "outputs": [],
   "source": [
    "stud = Student()"
   ]
  },
  {
   "cell_type": "code",
   "execution_count": 36,
   "id": "fc5aed99-aa75-408b-bf9c-d34a4efd8601",
   "metadata": {},
   "outputs": [
    {
     "data": {
      "text/plain": [
       "'Welcome'"
      ]
     },
     "execution_count": 36,
     "metadata": {},
     "output_type": "execute_result"
    }
   ],
   "source": [
    "stud.greet(\"sana\",35)"
   ]
  },
  {
   "cell_type": "code",
   "execution_count": 37,
   "id": "08c91a77-61e5-49b5-9165-092ff01417d3",
   "metadata": {},
   "outputs": [
    {
     "ename": "AttributeError",
     "evalue": "'Student' object has no attribute 'name'",
     "output_type": "error",
     "traceback": [
      "\u001b[1;31m---------------------------------------------------------------------------\u001b[0m",
      "\u001b[1;31mAttributeError\u001b[0m                            Traceback (most recent call last)",
      "Cell \u001b[1;32mIn[37], line 1\u001b[0m\n\u001b[1;32m----> 1\u001b[0m stud\u001b[38;5;241m.\u001b[39mname\n",
      "\u001b[1;31mAttributeError\u001b[0m: 'Student' object has no attribute 'name'"
     ]
    }
   ],
   "source": [
    "stud.name"
   ]
  },
  {
   "cell_type": "code",
   "execution_count": 38,
   "id": "5976715d-f7f2-48e1-ba2d-1e7fe0ab0308",
   "metadata": {},
   "outputs": [
    {
     "data": {
      "text/plain": [
       "'sana'"
      ]
     },
     "execution_count": 38,
     "metadata": {},
     "output_type": "execute_result"
    }
   ],
   "source": [
    "stud.name1"
   ]
  },
  {
   "cell_type": "code",
   "execution_count": 39,
   "id": "97e6a174-f42a-4720-a23e-848883ad015f",
   "metadata": {},
   "outputs": [
    {
     "data": {
      "text/plain": [
       "['__class__',\n",
       " '__delattr__',\n",
       " '__dict__',\n",
       " '__dir__',\n",
       " '__doc__',\n",
       " '__eq__',\n",
       " '__format__',\n",
       " '__ge__',\n",
       " '__getattribute__',\n",
       " '__getstate__',\n",
       " '__gt__',\n",
       " '__hash__',\n",
       " '__init__',\n",
       " '__init_subclass__',\n",
       " '__le__',\n",
       " '__lt__',\n",
       " '__module__',\n",
       " '__ne__',\n",
       " '__new__',\n",
       " '__reduce__',\n",
       " '__reduce_ex__',\n",
       " '__repr__',\n",
       " '__setattr__',\n",
       " '__sizeof__',\n",
       " '__str__',\n",
       " '__subclasshook__',\n",
       " '__weakref__',\n",
       " 'greet',\n",
       " 'subj']"
      ]
     },
     "execution_count": 39,
     "metadata": {},
     "output_type": "execute_result"
    }
   ],
   "source": [
    "dir(Student)"
   ]
  },
  {
   "cell_type": "code",
   "execution_count": 41,
   "id": "3735ea3b-42bf-459b-95c0-98d42e18d5df",
   "metadata": {},
   "outputs": [
    {
     "data": {
      "text/plain": [
       "'We are learning oop'"
      ]
     },
     "execution_count": 41,
     "metadata": {},
     "output_type": "execute_result"
    }
   ],
   "source": [
    "stud.subj()"
   ]
  },
  {
   "cell_type": "code",
   "execution_count": 55,
   "id": "3b88251d-c0a8-4f12-bfba-624420643047",
   "metadata": {},
   "outputs": [],
   "source": [
    "class School:\n",
    "    def __init__(self, name, location):   #dunder method, Constructor, initializer\n",
    "        self.name = name\n",
    "        self.location = location\n",
    "        \n",
    "    def greet(self,name,age):\n",
    "        self.name = name\n",
    "        self.age1 = age\n",
    "        return \"Welcome\"\n",
    "\n",
    "    def subj(self):\n",
    "        return \"We are learning oop\"\n",
    "        "
   ]
  },
  {
   "cell_type": "code",
   "execution_count": 56,
   "id": "823e79b0-31dd-4390-a3bb-e751804c8a98",
   "metadata": {},
   "outputs": [
    {
     "ename": "TypeError",
     "evalue": "School.__init__() missing 2 required positional arguments: 'name' and 'location'",
     "output_type": "error",
     "traceback": [
      "\u001b[1;31m---------------------------------------------------------------------------\u001b[0m",
      "\u001b[1;31mTypeError\u001b[0m                                 Traceback (most recent call last)",
      "Cell \u001b[1;32mIn[56], line 1\u001b[0m\n\u001b[1;32m----> 1\u001b[0m school \u001b[38;5;241m=\u001b[39m School()\n",
      "\u001b[1;31mTypeError\u001b[0m: School.__init__() missing 2 required positional arguments: 'name' and 'location'"
     ]
    }
   ],
   "source": [
    "school = School()"
   ]
  },
  {
   "cell_type": "code",
   "execution_count": 57,
   "id": "983c7871-e676-48d4-9e80-f5cb73d3741b",
   "metadata": {},
   "outputs": [],
   "source": [
    "school = School(\"The Smart City\",\"karachi\")"
   ]
  },
  {
   "cell_type": "code",
   "execution_count": 58,
   "id": "a3dbcb8b-872f-44cc-9ced-93804cf51f94",
   "metadata": {},
   "outputs": [
    {
     "data": {
      "text/plain": [
       "'The Smart City'"
      ]
     },
     "execution_count": 58,
     "metadata": {},
     "output_type": "execute_result"
    }
   ],
   "source": [
    "school.name"
   ]
  },
  {
   "cell_type": "code",
   "execution_count": 59,
   "id": "a3e421e4-f365-4429-9910-0fc1505e52f3",
   "metadata": {},
   "outputs": [
    {
     "data": {
      "text/plain": [
       "'karachi'"
      ]
     },
     "execution_count": 59,
     "metadata": {},
     "output_type": "execute_result"
    }
   ],
   "source": [
    "school.location"
   ]
  },
  {
   "cell_type": "code",
   "execution_count": 60,
   "id": "1fa34c1b-4a0a-4fa9-a185-0100fb5f3785",
   "metadata": {},
   "outputs": [
    {
     "data": {
      "text/plain": [
       "'Welcome'"
      ]
     },
     "execution_count": 60,
     "metadata": {},
     "output_type": "execute_result"
    }
   ],
   "source": [
    "school.greet(\"sana\",35)"
   ]
  },
  {
   "cell_type": "code",
   "execution_count": 61,
   "id": "56dd71be-d575-47c1-959f-094a3842837d",
   "metadata": {},
   "outputs": [
    {
     "data": {
      "text/plain": [
       "'sana'"
      ]
     },
     "execution_count": 61,
     "metadata": {},
     "output_type": "execute_result"
    }
   ],
   "source": [
    "school.name"
   ]
  },
  {
   "cell_type": "code",
   "execution_count": 63,
   "id": "b8279c8d-79be-47de-86b6-d9f12250941e",
   "metadata": {},
   "outputs": [],
   "source": [
    "school = School(\"The Smart City\",\"karachi\")"
   ]
  },
  {
   "cell_type": "code",
   "execution_count": 64,
   "id": "b4a35253-4e28-4784-aa9c-3dfa5605899b",
   "metadata": {},
   "outputs": [
    {
     "data": {
      "text/plain": [
       "'The Smart City'"
      ]
     },
     "execution_count": 64,
     "metadata": {},
     "output_type": "execute_result"
    }
   ],
   "source": [
    "school.name"
   ]
  },
  {
   "cell_type": "code",
   "execution_count": 65,
   "id": "ca199642-32e4-4633-bd5e-ab394f19de35",
   "metadata": {},
   "outputs": [
    {
     "data": {
      "text/plain": [
       "'Welcome'"
      ]
     },
     "execution_count": 65,
     "metadata": {},
     "output_type": "execute_result"
    }
   ],
   "source": [
    "school.greet(\"sana\",35)"
   ]
  },
  {
   "cell_type": "code",
   "execution_count": 66,
   "id": "bc56b023-9cbe-4cdd-8ffb-0028b1a6536e",
   "metadata": {},
   "outputs": [
    {
     "data": {
      "text/plain": [
       "'sana'"
      ]
     },
     "execution_count": 66,
     "metadata": {},
     "output_type": "execute_result"
    }
   ],
   "source": [
    "school.name"
   ]
  },
  {
   "cell_type": "code",
   "execution_count": 67,
   "id": "2683a6e0-d0c6-4ac1-877d-0c1b6ec5e905",
   "metadata": {},
   "outputs": [],
   "source": [
    "class School:\n",
    "    def __init__(self, name, location):   #dunder method, Constructor, initializer\n",
    "        self.name = name\n",
    "        self.location = location\n",
    "        \n",
    "    def greet(self,name,age):\n",
    "        self.name1 = name\n",
    "        self.age1 = age\n",
    "        return \"Welcome\"\n",
    "\n",
    "    def subj(self):\n",
    "        return \"We are learning oop\""
   ]
  },
  {
   "cell_type": "code",
   "execution_count": 68,
   "id": "670d7701-31dc-4d80-a8cd-cc3d4f945406",
   "metadata": {},
   "outputs": [],
   "source": [
    "school = School(\"The Smart City\",\"karachi\")"
   ]
  },
  {
   "cell_type": "code",
   "execution_count": 69,
   "id": "86ecbddb-97ce-4cdf-8b12-fd2929561ea7",
   "metadata": {},
   "outputs": [
    {
     "data": {
      "text/plain": [
       "'The Smart City'"
      ]
     },
     "execution_count": 69,
     "metadata": {},
     "output_type": "execute_result"
    }
   ],
   "source": [
    "school.name"
   ]
  },
  {
   "cell_type": "code",
   "execution_count": 70,
   "id": "0df5dd63-bf1b-431b-907c-2e3634ea9cd3",
   "metadata": {},
   "outputs": [
    {
     "data": {
      "text/plain": [
       "'Welcome'"
      ]
     },
     "execution_count": 70,
     "metadata": {},
     "output_type": "execute_result"
    }
   ],
   "source": [
    "school.greet(\"sana\",35)"
   ]
  },
  {
   "cell_type": "code",
   "execution_count": 71,
   "id": "9e53dcfd-ba8e-403f-a12d-8bb3cf64d077",
   "metadata": {},
   "outputs": [
    {
     "data": {
      "text/plain": [
       "'sana'"
      ]
     },
     "execution_count": 71,
     "metadata": {},
     "output_type": "execute_result"
    }
   ],
   "source": [
    "school.name1"
   ]
  },
  {
   "cell_type": "code",
   "execution_count": 72,
   "id": "2fe48a94-17fd-4ad4-9887-162aebd54d23",
   "metadata": {},
   "outputs": [
    {
     "data": {
      "text/plain": [
       "'The Smart City'"
      ]
     },
     "execution_count": 72,
     "metadata": {},
     "output_type": "execute_result"
    }
   ],
   "source": [
    "school.name"
   ]
  },
  {
   "cell_type": "code",
   "execution_count": 73,
   "id": "d2ba1285-e675-43bc-bbd1-0080d13ae418",
   "metadata": {},
   "outputs": [
    {
     "data": {
      "text/plain": [
       "['__class__',\n",
       " '__delattr__',\n",
       " '__dict__',\n",
       " '__dir__',\n",
       " '__doc__',\n",
       " '__eq__',\n",
       " '__format__',\n",
       " '__ge__',\n",
       " '__getattribute__',\n",
       " '__getstate__',\n",
       " '__gt__',\n",
       " '__hash__',\n",
       " '__init__',\n",
       " '__init_subclass__',\n",
       " '__le__',\n",
       " '__lt__',\n",
       " '__module__',\n",
       " '__ne__',\n",
       " '__new__',\n",
       " '__reduce__',\n",
       " '__reduce_ex__',\n",
       " '__repr__',\n",
       " '__setattr__',\n",
       " '__sizeof__',\n",
       " '__str__',\n",
       " '__subclasshook__',\n",
       " '__weakref__',\n",
       " 'greet',\n",
       " 'subj']"
      ]
     },
     "execution_count": 73,
     "metadata": {},
     "output_type": "execute_result"
    }
   ],
   "source": [
    "dir(School)"
   ]
  },
  {
   "cell_type": "code",
   "execution_count": null,
   "id": "c3ac3ff3-df25-4bda-9f18-d52e7ad4a665",
   "metadata": {},
   "outputs": [],
   "source": []
  }
 ],
 "metadata": {
  "kernelspec": {
   "display_name": "Python 3 (ipykernel)",
   "language": "python",
   "name": "python3"
  },
  "language_info": {
   "codemirror_mode": {
    "name": "ipython",
    "version": 3
   },
   "file_extension": ".py",
   "mimetype": "text/x-python",
   "name": "python",
   "nbconvert_exporter": "python",
   "pygments_lexer": "ipython3",
   "version": "3.12.4"
  }
 },
 "nbformat": 4,
 "nbformat_minor": 5
}
