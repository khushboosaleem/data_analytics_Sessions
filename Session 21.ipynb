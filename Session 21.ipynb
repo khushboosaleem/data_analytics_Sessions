{
 "cells": [
  {
   "cell_type": "markdown",
   "metadata": {
    "id": "9eLMx1Ebwa92",
    "papermill": {
     "duration": 0.027148,
     "end_time": "2020-11-27T11:52:28.994036",
     "exception": false,
     "start_time": "2020-11-27T11:52:28.966888",
     "status": "completed"
    },
    "tags": []
   },
   "source": [
    "## **Importing the installed Libraries**"
   ]
  },
  {
   "cell_type": "code",
   "execution_count": 3,
   "metadata": {
    "executionInfo": {
     "elapsed": 587,
     "status": "ok",
     "timestamp": 1688572928870,
     "user": {
      "displayName": "Muhammad Haris",
      "userId": "13172555328013255752"
     },
     "user_tz": -300
    },
    "id": "GGyDovL2QDLa",
    "papermill": {
     "duration": 1.032787,
     "end_time": "2020-11-27T11:52:30.054137",
     "exception": false,
     "start_time": "2020-11-27T11:52:29.021350",
     "status": "completed"
    },
    "tags": []
   },
   "outputs": [],
   "source": [
    "import pandas as pd\n",
    "import numpy as np\n",
    "import seaborn as sns                       #visualisation\n",
    "import matplotlib.pyplot as plt             #visualisation"
   ]
  },
  {
   "cell_type": "markdown",
   "metadata": {
    "id": "Ye6eXuohTd5Q",
    "papermill": {
     "duration": 0.028147,
     "end_time": "2020-11-27T11:52:30.110492",
     "exception": false,
     "start_time": "2020-11-27T11:52:30.082345",
     "status": "completed"
    },
    "tags": []
   },
   "source": [
    "\n",
    "\n",
    "---\n",
    "\n"
   ]
  },
  {
   "cell_type": "markdown",
   "metadata": {
    "id": "8Y3Z2DbKTfJt",
    "papermill": {
     "duration": 0.027409,
     "end_time": "2020-11-27T11:52:30.165749",
     "exception": false,
     "start_time": "2020-11-27T11:52:30.138340",
     "status": "completed"
    },
    "tags": []
   },
   "source": [
    "## **Loading the dataset**"
   ]
  },
  {
   "cell_type": "code",
   "execution_count": 5,
   "metadata": {
    "colab": {
     "base_uri": "https://localhost:8080/",
     "height": 478
    },
    "executionInfo": {
     "elapsed": 605,
     "status": "ok",
     "timestamp": 1688572941725,
     "user": {
      "displayName": "Muhammad Haris",
      "userId": "13172555328013255752"
     },
     "user_tz": -300
    },
    "id": "0oVZnezwQ159",
    "outputId": "6ab27c2d-920d-4009-9211-ec8d3e8a8793",
    "papermill": {
     "duration": 0.104836,
     "end_time": "2020-11-27T11:52:30.409177",
     "exception": false,
     "start_time": "2020-11-27T11:52:30.304341",
     "status": "completed"
    },
    "tags": []
   },
   "outputs": [
    {
     "data": {
      "text/html": [
       "<div>\n",
       "<style scoped>\n",
       "    .dataframe tbody tr th:only-of-type {\n",
       "        vertical-align: middle;\n",
       "    }\n",
       "\n",
       "    .dataframe tbody tr th {\n",
       "        vertical-align: top;\n",
       "    }\n",
       "\n",
       "    .dataframe thead th {\n",
       "        text-align: right;\n",
       "    }\n",
       "</style>\n",
       "<table border=\"1\" class=\"dataframe\">\n",
       "  <thead>\n",
       "    <tr style=\"text-align: right;\">\n",
       "      <th></th>\n",
       "      <th>Make</th>\n",
       "      <th>Model</th>\n",
       "      <th>Year</th>\n",
       "      <th>Engine Fuel Type</th>\n",
       "      <th>Engine HP</th>\n",
       "      <th>Engine Cylinders</th>\n",
       "      <th>Transmission Type</th>\n",
       "      <th>Driven_Wheels</th>\n",
       "      <th>Number of Doors</th>\n",
       "      <th>Market Category</th>\n",
       "      <th>Vehicle Size</th>\n",
       "      <th>Vehicle Style</th>\n",
       "      <th>highway MPG</th>\n",
       "      <th>city mpg</th>\n",
       "      <th>Popularity</th>\n",
       "      <th>MSRP</th>\n",
       "    </tr>\n",
       "  </thead>\n",
       "  <tbody>\n",
       "    <tr>\n",
       "      <th>0</th>\n",
       "      <td>BMW</td>\n",
       "      <td>1 Series M</td>\n",
       "      <td>2011</td>\n",
       "      <td>premium unleaded (required)</td>\n",
       "      <td>335.0</td>\n",
       "      <td>6.0</td>\n",
       "      <td>MANUAL</td>\n",
       "      <td>rear wheel drive</td>\n",
       "      <td>2.0</td>\n",
       "      <td>Factory Tuner,Luxury,High-Performance</td>\n",
       "      <td>Compact</td>\n",
       "      <td>Coupe</td>\n",
       "      <td>26</td>\n",
       "      <td>19</td>\n",
       "      <td>3916</td>\n",
       "      <td>46135</td>\n",
       "    </tr>\n",
       "    <tr>\n",
       "      <th>1</th>\n",
       "      <td>BMW</td>\n",
       "      <td>1 Series</td>\n",
       "      <td>2011</td>\n",
       "      <td>premium unleaded (required)</td>\n",
       "      <td>300.0</td>\n",
       "      <td>6.0</td>\n",
       "      <td>MANUAL</td>\n",
       "      <td>rear wheel drive</td>\n",
       "      <td>2.0</td>\n",
       "      <td>Luxury,Performance</td>\n",
       "      <td>Compact</td>\n",
       "      <td>Convertible</td>\n",
       "      <td>28</td>\n",
       "      <td>19</td>\n",
       "      <td>3916</td>\n",
       "      <td>40650</td>\n",
       "    </tr>\n",
       "    <tr>\n",
       "      <th>2</th>\n",
       "      <td>BMW</td>\n",
       "      <td>1 Series</td>\n",
       "      <td>2011</td>\n",
       "      <td>premium unleaded (required)</td>\n",
       "      <td>300.0</td>\n",
       "      <td>6.0</td>\n",
       "      <td>MANUAL</td>\n",
       "      <td>rear wheel drive</td>\n",
       "      <td>2.0</td>\n",
       "      <td>Luxury,High-Performance</td>\n",
       "      <td>Compact</td>\n",
       "      <td>Coupe</td>\n",
       "      <td>28</td>\n",
       "      <td>20</td>\n",
       "      <td>3916</td>\n",
       "      <td>36350</td>\n",
       "    </tr>\n",
       "    <tr>\n",
       "      <th>3</th>\n",
       "      <td>BMW</td>\n",
       "      <td>1 Series</td>\n",
       "      <td>2011</td>\n",
       "      <td>premium unleaded (required)</td>\n",
       "      <td>230.0</td>\n",
       "      <td>6.0</td>\n",
       "      <td>MANUAL</td>\n",
       "      <td>rear wheel drive</td>\n",
       "      <td>2.0</td>\n",
       "      <td>Luxury,Performance</td>\n",
       "      <td>Compact</td>\n",
       "      <td>Coupe</td>\n",
       "      <td>28</td>\n",
       "      <td>18</td>\n",
       "      <td>3916</td>\n",
       "      <td>29450</td>\n",
       "    </tr>\n",
       "    <tr>\n",
       "      <th>4</th>\n",
       "      <td>BMW</td>\n",
       "      <td>1 Series</td>\n",
       "      <td>2011</td>\n",
       "      <td>premium unleaded (required)</td>\n",
       "      <td>230.0</td>\n",
       "      <td>6.0</td>\n",
       "      <td>MANUAL</td>\n",
       "      <td>rear wheel drive</td>\n",
       "      <td>2.0</td>\n",
       "      <td>Luxury</td>\n",
       "      <td>Compact</td>\n",
       "      <td>Convertible</td>\n",
       "      <td>28</td>\n",
       "      <td>18</td>\n",
       "      <td>3916</td>\n",
       "      <td>34500</td>\n",
       "    </tr>\n",
       "  </tbody>\n",
       "</table>\n",
       "</div>"
      ],
      "text/plain": [
       "  Make       Model  Year             Engine Fuel Type  Engine HP  \\\n",
       "0  BMW  1 Series M  2011  premium unleaded (required)      335.0   \n",
       "1  BMW    1 Series  2011  premium unleaded (required)      300.0   \n",
       "2  BMW    1 Series  2011  premium unleaded (required)      300.0   \n",
       "3  BMW    1 Series  2011  premium unleaded (required)      230.0   \n",
       "4  BMW    1 Series  2011  premium unleaded (required)      230.0   \n",
       "\n",
       "   Engine Cylinders Transmission Type     Driven_Wheels  Number of Doors  \\\n",
       "0               6.0            MANUAL  rear wheel drive              2.0   \n",
       "1               6.0            MANUAL  rear wheel drive              2.0   \n",
       "2               6.0            MANUAL  rear wheel drive              2.0   \n",
       "3               6.0            MANUAL  rear wheel drive              2.0   \n",
       "4               6.0            MANUAL  rear wheel drive              2.0   \n",
       "\n",
       "                         Market Category Vehicle Size Vehicle Style  \\\n",
       "0  Factory Tuner,Luxury,High-Performance      Compact         Coupe   \n",
       "1                     Luxury,Performance      Compact   Convertible   \n",
       "2                Luxury,High-Performance      Compact         Coupe   \n",
       "3                     Luxury,Performance      Compact         Coupe   \n",
       "4                                 Luxury      Compact   Convertible   \n",
       "\n",
       "   highway MPG  city mpg  Popularity   MSRP  \n",
       "0           26        19        3916  46135  \n",
       "1           28        19        3916  40650  \n",
       "2           28        20        3916  36350  \n",
       "3           28        18        3916  29450  \n",
       "4           28        18        3916  34500  "
      ]
     },
     "execution_count": 5,
     "metadata": {},
     "output_type": "execute_result"
    }
   ],
   "source": [
    "df = pd.read_csv(\"cars.csv\")\n",
    "# To display the top 5 rows\n",
    "df.head(5)"
   ]
  },
  {
   "cell_type": "code",
   "execution_count": 7,
   "metadata": {
    "colab": {
     "base_uri": "https://localhost:8080/",
     "height": 461
    },
    "executionInfo": {
     "elapsed": 349,
     "status": "ok",
     "timestamp": 1688573004940,
     "user": {
      "displayName": "Muhammad Haris",
      "userId": "13172555328013255752"
     },
     "user_tz": -300
    },
    "id": "Fm-9dzdTRKpe",
    "outputId": "0344c77e-4ea2-49ba-a946-306190776c6d",
    "papermill": {
     "duration": 0.052534,
     "end_time": "2020-11-27T11:52:30.490899",
     "exception": false,
     "start_time": "2020-11-27T11:52:30.438365",
     "status": "completed"
    },
    "tags": []
   },
   "outputs": [
    {
     "data": {
      "text/html": [
       "<div>\n",
       "<style scoped>\n",
       "    .dataframe tbody tr th:only-of-type {\n",
       "        vertical-align: middle;\n",
       "    }\n",
       "\n",
       "    .dataframe tbody tr th {\n",
       "        vertical-align: top;\n",
       "    }\n",
       "\n",
       "    .dataframe thead th {\n",
       "        text-align: right;\n",
       "    }\n",
       "</style>\n",
       "<table border=\"1\" class=\"dataframe\">\n",
       "  <thead>\n",
       "    <tr style=\"text-align: right;\">\n",
       "      <th></th>\n",
       "      <th>Make</th>\n",
       "      <th>Model</th>\n",
       "      <th>Year</th>\n",
       "      <th>Engine Fuel Type</th>\n",
       "      <th>Engine HP</th>\n",
       "      <th>Engine Cylinders</th>\n",
       "      <th>Transmission Type</th>\n",
       "      <th>Driven_Wheels</th>\n",
       "      <th>Number of Doors</th>\n",
       "      <th>Market Category</th>\n",
       "      <th>Vehicle Size</th>\n",
       "      <th>Vehicle Style</th>\n",
       "      <th>highway MPG</th>\n",
       "      <th>city mpg</th>\n",
       "      <th>Popularity</th>\n",
       "      <th>MSRP</th>\n",
       "    </tr>\n",
       "  </thead>\n",
       "  <tbody>\n",
       "    <tr>\n",
       "      <th>11909</th>\n",
       "      <td>Acura</td>\n",
       "      <td>ZDX</td>\n",
       "      <td>2012</td>\n",
       "      <td>premium unleaded (required)</td>\n",
       "      <td>300.0</td>\n",
       "      <td>6.0</td>\n",
       "      <td>AUTOMATIC</td>\n",
       "      <td>all wheel drive</td>\n",
       "      <td>4.0</td>\n",
       "      <td>Crossover,Hatchback,Luxury</td>\n",
       "      <td>Midsize</td>\n",
       "      <td>4dr Hatchback</td>\n",
       "      <td>23</td>\n",
       "      <td>16</td>\n",
       "      <td>204</td>\n",
       "      <td>46120</td>\n",
       "    </tr>\n",
       "    <tr>\n",
       "      <th>11910</th>\n",
       "      <td>Acura</td>\n",
       "      <td>ZDX</td>\n",
       "      <td>2012</td>\n",
       "      <td>premium unleaded (required)</td>\n",
       "      <td>300.0</td>\n",
       "      <td>6.0</td>\n",
       "      <td>AUTOMATIC</td>\n",
       "      <td>all wheel drive</td>\n",
       "      <td>4.0</td>\n",
       "      <td>Crossover,Hatchback,Luxury</td>\n",
       "      <td>Midsize</td>\n",
       "      <td>4dr Hatchback</td>\n",
       "      <td>23</td>\n",
       "      <td>16</td>\n",
       "      <td>204</td>\n",
       "      <td>56670</td>\n",
       "    </tr>\n",
       "    <tr>\n",
       "      <th>11911</th>\n",
       "      <td>Acura</td>\n",
       "      <td>ZDX</td>\n",
       "      <td>2012</td>\n",
       "      <td>premium unleaded (required)</td>\n",
       "      <td>300.0</td>\n",
       "      <td>6.0</td>\n",
       "      <td>AUTOMATIC</td>\n",
       "      <td>all wheel drive</td>\n",
       "      <td>4.0</td>\n",
       "      <td>Crossover,Hatchback,Luxury</td>\n",
       "      <td>Midsize</td>\n",
       "      <td>4dr Hatchback</td>\n",
       "      <td>23</td>\n",
       "      <td>16</td>\n",
       "      <td>204</td>\n",
       "      <td>50620</td>\n",
       "    </tr>\n",
       "    <tr>\n",
       "      <th>11912</th>\n",
       "      <td>Acura</td>\n",
       "      <td>ZDX</td>\n",
       "      <td>2013</td>\n",
       "      <td>premium unleaded (recommended)</td>\n",
       "      <td>300.0</td>\n",
       "      <td>6.0</td>\n",
       "      <td>AUTOMATIC</td>\n",
       "      <td>all wheel drive</td>\n",
       "      <td>4.0</td>\n",
       "      <td>Crossover,Hatchback,Luxury</td>\n",
       "      <td>Midsize</td>\n",
       "      <td>4dr Hatchback</td>\n",
       "      <td>23</td>\n",
       "      <td>16</td>\n",
       "      <td>204</td>\n",
       "      <td>50920</td>\n",
       "    </tr>\n",
       "    <tr>\n",
       "      <th>11913</th>\n",
       "      <td>Lincoln</td>\n",
       "      <td>Zephyr</td>\n",
       "      <td>2006</td>\n",
       "      <td>regular unleaded</td>\n",
       "      <td>221.0</td>\n",
       "      <td>6.0</td>\n",
       "      <td>AUTOMATIC</td>\n",
       "      <td>front wheel drive</td>\n",
       "      <td>4.0</td>\n",
       "      <td>Luxury</td>\n",
       "      <td>Midsize</td>\n",
       "      <td>Sedan</td>\n",
       "      <td>26</td>\n",
       "      <td>17</td>\n",
       "      <td>61</td>\n",
       "      <td>28995</td>\n",
       "    </tr>\n",
       "  </tbody>\n",
       "</table>\n",
       "</div>"
      ],
      "text/plain": [
       "          Make   Model  Year                Engine Fuel Type  Engine HP  \\\n",
       "11909    Acura     ZDX  2012     premium unleaded (required)      300.0   \n",
       "11910    Acura     ZDX  2012     premium unleaded (required)      300.0   \n",
       "11911    Acura     ZDX  2012     premium unleaded (required)      300.0   \n",
       "11912    Acura     ZDX  2013  premium unleaded (recommended)      300.0   \n",
       "11913  Lincoln  Zephyr  2006                regular unleaded      221.0   \n",
       "\n",
       "       Engine Cylinders Transmission Type      Driven_Wheels  Number of Doors  \\\n",
       "11909               6.0         AUTOMATIC    all wheel drive              4.0   \n",
       "11910               6.0         AUTOMATIC    all wheel drive              4.0   \n",
       "11911               6.0         AUTOMATIC    all wheel drive              4.0   \n",
       "11912               6.0         AUTOMATIC    all wheel drive              4.0   \n",
       "11913               6.0         AUTOMATIC  front wheel drive              4.0   \n",
       "\n",
       "                  Market Category Vehicle Size  Vehicle Style  highway MPG  \\\n",
       "11909  Crossover,Hatchback,Luxury      Midsize  4dr Hatchback           23   \n",
       "11910  Crossover,Hatchback,Luxury      Midsize  4dr Hatchback           23   \n",
       "11911  Crossover,Hatchback,Luxury      Midsize  4dr Hatchback           23   \n",
       "11912  Crossover,Hatchback,Luxury      Midsize  4dr Hatchback           23   \n",
       "11913                      Luxury      Midsize          Sedan           26   \n",
       "\n",
       "       city mpg  Popularity   MSRP  \n",
       "11909        16         204  46120  \n",
       "11910        16         204  56670  \n",
       "11911        16         204  50620  \n",
       "11912        16         204  50920  \n",
       "11913        17          61  28995  "
      ]
     },
     "execution_count": 7,
     "metadata": {},
     "output_type": "execute_result"
    }
   ],
   "source": [
    "df.tail(5)                        "
   ]
  },
  {
   "cell_type": "markdown",
   "metadata": {
    "id": "JjQnr4SPzaL5",
    "papermill": {
     "duration": 0.029003,
     "end_time": "2020-11-27T11:52:30.549371",
     "exception": false,
     "start_time": "2020-11-27T11:52:30.520368",
     "status": "completed"
    },
    "tags": []
   },
   "source": [
    "\n",
    "\n",
    "---\n",
    "\n"
   ]
  },
  {
   "cell_type": "markdown",
   "metadata": {
    "id": "vAmC369yTpMF",
    "papermill": {
     "duration": 0.029103,
     "end_time": "2020-11-27T11:52:30.608838",
     "exception": false,
     "start_time": "2020-11-27T11:52:30.579735",
     "status": "completed"
    },
    "tags": []
   },
   "source": [
    "## **Checking the types of data**"
   ]
  },
  {
   "cell_type": "code",
   "execution_count": 9,
   "metadata": {
    "colab": {
     "base_uri": "https://localhost:8080/"
    },
    "executionInfo": {
     "elapsed": 544,
     "status": "ok",
     "timestamp": 1688573011196,
     "user": {
      "displayName": "Muhammad Haris",
      "userId": "13172555328013255752"
     },
     "user_tz": -300
    },
    "id": "qPbKQ0noRptD",
    "outputId": "8f6d2c63-1408-4e57-881a-398fb47afbd2",
    "papermill": {
     "duration": 0.040549,
     "end_time": "2020-11-27T11:52:30.738002",
     "exception": false,
     "start_time": "2020-11-27T11:52:30.697453",
     "status": "completed"
    },
    "tags": []
   },
   "outputs": [
    {
     "data": {
      "text/plain": [
       "Make                  object\n",
       "Model                 object\n",
       "Year                   int64\n",
       "Engine Fuel Type      object\n",
       "Engine HP            float64\n",
       "Engine Cylinders     float64\n",
       "Transmission Type     object\n",
       "Driven_Wheels         object\n",
       "Number of Doors      float64\n",
       "Market Category       object\n",
       "Vehicle Size          object\n",
       "Vehicle Style         object\n",
       "highway MPG            int64\n",
       "city mpg               int64\n",
       "Popularity             int64\n",
       "MSRP                   int64\n",
       "dtype: object"
      ]
     },
     "execution_count": 9,
     "metadata": {},
     "output_type": "execute_result"
    }
   ],
   "source": [
    "df.dtypes"
   ]
  },
  {
   "cell_type": "markdown",
   "metadata": {
    "id": "beRJyQAezdX8",
    "papermill": {
     "duration": 0.029309,
     "end_time": "2020-11-27T11:52:30.797064",
     "exception": false,
     "start_time": "2020-11-27T11:52:30.767755",
     "status": "completed"
    },
    "tags": []
   },
   "source": [
    "\n",
    "\n",
    "---\n",
    "\n"
   ]
  },
  {
   "cell_type": "markdown",
   "metadata": {
    "id": "QoHuBhXxT5E9",
    "papermill": {
     "duration": 0.029086,
     "end_time": "2020-11-27T11:52:30.855758",
     "exception": false,
     "start_time": "2020-11-27T11:52:30.826672",
     "status": "completed"
    },
    "tags": []
   },
   "source": [
    "## **Dropping irrelevant columns**"
   ]
  },
  {
   "cell_type": "code",
   "execution_count": 11,
   "metadata": {
    "colab": {
     "base_uri": "https://localhost:8080/",
     "height": 478
    },
    "executionInfo": {
     "elapsed": 368,
     "status": "ok",
     "timestamp": 1688573136955,
     "user": {
      "displayName": "Muhammad Haris",
      "userId": "13172555328013255752"
     },
     "user_tz": -300
    },
    "id": "uvSkK8swTr9H",
    "outputId": "0fe0e2ed-eb02-4de5-b670-b501ae681111",
    "papermill": {
     "duration": 0.053265,
     "end_time": "2020-11-27T11:52:30.997635",
     "exception": false,
     "start_time": "2020-11-27T11:52:30.944370",
     "status": "completed"
    },
    "tags": []
   },
   "outputs": [
    {
     "data": {
      "text/html": [
       "<div>\n",
       "<style scoped>\n",
       "    .dataframe tbody tr th:only-of-type {\n",
       "        vertical-align: middle;\n",
       "    }\n",
       "\n",
       "    .dataframe tbody tr th {\n",
       "        vertical-align: top;\n",
       "    }\n",
       "\n",
       "    .dataframe thead th {\n",
       "        text-align: right;\n",
       "    }\n",
       "</style>\n",
       "<table border=\"1\" class=\"dataframe\">\n",
       "  <thead>\n",
       "    <tr style=\"text-align: right;\">\n",
       "      <th></th>\n",
       "      <th>Make</th>\n",
       "      <th>Model</th>\n",
       "      <th>Year</th>\n",
       "      <th>Engine Fuel Type</th>\n",
       "      <th>Engine HP</th>\n",
       "      <th>Engine Cylinders</th>\n",
       "      <th>Transmission Type</th>\n",
       "      <th>Driven_Wheels</th>\n",
       "      <th>Number of Doors</th>\n",
       "      <th>Market Category</th>\n",
       "      <th>Vehicle Style</th>\n",
       "      <th>highway MPG</th>\n",
       "      <th>city mpg</th>\n",
       "      <th>Popularity</th>\n",
       "      <th>MSRP</th>\n",
       "    </tr>\n",
       "  </thead>\n",
       "  <tbody>\n",
       "    <tr>\n",
       "      <th>0</th>\n",
       "      <td>BMW</td>\n",
       "      <td>1 Series M</td>\n",
       "      <td>2011</td>\n",
       "      <td>premium unleaded (required)</td>\n",
       "      <td>335.0</td>\n",
       "      <td>6.0</td>\n",
       "      <td>MANUAL</td>\n",
       "      <td>rear wheel drive</td>\n",
       "      <td>2.0</td>\n",
       "      <td>Factory Tuner,Luxury,High-Performance</td>\n",
       "      <td>Coupe</td>\n",
       "      <td>26</td>\n",
       "      <td>19</td>\n",
       "      <td>3916</td>\n",
       "      <td>46135</td>\n",
       "    </tr>\n",
       "    <tr>\n",
       "      <th>1</th>\n",
       "      <td>BMW</td>\n",
       "      <td>1 Series</td>\n",
       "      <td>2011</td>\n",
       "      <td>premium unleaded (required)</td>\n",
       "      <td>300.0</td>\n",
       "      <td>6.0</td>\n",
       "      <td>MANUAL</td>\n",
       "      <td>rear wheel drive</td>\n",
       "      <td>2.0</td>\n",
       "      <td>Luxury,Performance</td>\n",
       "      <td>Convertible</td>\n",
       "      <td>28</td>\n",
       "      <td>19</td>\n",
       "      <td>3916</td>\n",
       "      <td>40650</td>\n",
       "    </tr>\n",
       "    <tr>\n",
       "      <th>2</th>\n",
       "      <td>BMW</td>\n",
       "      <td>1 Series</td>\n",
       "      <td>2011</td>\n",
       "      <td>premium unleaded (required)</td>\n",
       "      <td>300.0</td>\n",
       "      <td>6.0</td>\n",
       "      <td>MANUAL</td>\n",
       "      <td>rear wheel drive</td>\n",
       "      <td>2.0</td>\n",
       "      <td>Luxury,High-Performance</td>\n",
       "      <td>Coupe</td>\n",
       "      <td>28</td>\n",
       "      <td>20</td>\n",
       "      <td>3916</td>\n",
       "      <td>36350</td>\n",
       "    </tr>\n",
       "    <tr>\n",
       "      <th>3</th>\n",
       "      <td>BMW</td>\n",
       "      <td>1 Series</td>\n",
       "      <td>2011</td>\n",
       "      <td>premium unleaded (required)</td>\n",
       "      <td>230.0</td>\n",
       "      <td>6.0</td>\n",
       "      <td>MANUAL</td>\n",
       "      <td>rear wheel drive</td>\n",
       "      <td>2.0</td>\n",
       "      <td>Luxury,Performance</td>\n",
       "      <td>Coupe</td>\n",
       "      <td>28</td>\n",
       "      <td>18</td>\n",
       "      <td>3916</td>\n",
       "      <td>29450</td>\n",
       "    </tr>\n",
       "    <tr>\n",
       "      <th>4</th>\n",
       "      <td>BMW</td>\n",
       "      <td>1 Series</td>\n",
       "      <td>2011</td>\n",
       "      <td>premium unleaded (required)</td>\n",
       "      <td>230.0</td>\n",
       "      <td>6.0</td>\n",
       "      <td>MANUAL</td>\n",
       "      <td>rear wheel drive</td>\n",
       "      <td>2.0</td>\n",
       "      <td>Luxury</td>\n",
       "      <td>Convertible</td>\n",
       "      <td>28</td>\n",
       "      <td>18</td>\n",
       "      <td>3916</td>\n",
       "      <td>34500</td>\n",
       "    </tr>\n",
       "  </tbody>\n",
       "</table>\n",
       "</div>"
      ],
      "text/plain": [
       "  Make       Model  Year             Engine Fuel Type  Engine HP  \\\n",
       "0  BMW  1 Series M  2011  premium unleaded (required)      335.0   \n",
       "1  BMW    1 Series  2011  premium unleaded (required)      300.0   \n",
       "2  BMW    1 Series  2011  premium unleaded (required)      300.0   \n",
       "3  BMW    1 Series  2011  premium unleaded (required)      230.0   \n",
       "4  BMW    1 Series  2011  premium unleaded (required)      230.0   \n",
       "\n",
       "   Engine Cylinders Transmission Type     Driven_Wheels  Number of Doors  \\\n",
       "0               6.0            MANUAL  rear wheel drive              2.0   \n",
       "1               6.0            MANUAL  rear wheel drive              2.0   \n",
       "2               6.0            MANUAL  rear wheel drive              2.0   \n",
       "3               6.0            MANUAL  rear wheel drive              2.0   \n",
       "4               6.0            MANUAL  rear wheel drive              2.0   \n",
       "\n",
       "                         Market Category Vehicle Style  highway MPG  city mpg  \\\n",
       "0  Factory Tuner,Luxury,High-Performance         Coupe           26        19   \n",
       "1                     Luxury,Performance   Convertible           28        19   \n",
       "2                Luxury,High-Performance         Coupe           28        20   \n",
       "3                     Luxury,Performance         Coupe           28        18   \n",
       "4                                 Luxury   Convertible           28        18   \n",
       "\n",
       "   Popularity   MSRP  \n",
       "0        3916  46135  \n",
       "1        3916  40650  \n",
       "2        3916  36350  \n",
       "3        3916  29450  \n",
       "4        3916  34500  "
      ]
     },
     "execution_count": 11,
     "metadata": {},
     "output_type": "execute_result"
    }
   ],
   "source": [
    "df = df.drop([ 'Vehicle Size'], axis=1)\n",
    "df.head(5)"
   ]
  },
  {
   "cell_type": "markdown",
   "metadata": {
    "id": "20OeQBpWz89v",
    "papermill": {
     "duration": 0.029929,
     "end_time": "2020-11-27T11:52:31.057925",
     "exception": false,
     "start_time": "2020-11-27T11:52:31.027996",
     "status": "completed"
    },
    "tags": []
   },
   "source": [
    "\n",
    "\n",
    "---\n",
    "\n"
   ]
  },
  {
   "cell_type": "markdown",
   "metadata": {
    "id": "caAownWdUZso",
    "papermill": {
     "duration": 0.030223,
     "end_time": "2020-11-27T11:52:31.118132",
     "exception": false,
     "start_time": "2020-11-27T11:52:31.087909",
     "status": "completed"
    },
    "tags": []
   },
   "source": [
    "## **Renaming the columns**"
   ]
  },
  {
   "cell_type": "code",
   "execution_count": 13,
   "metadata": {
    "colab": {
     "base_uri": "https://localhost:8080/",
     "height": 478
    },
    "executionInfo": {
     "elapsed": 582,
     "status": "ok",
     "timestamp": 1688573215668,
     "user": {
      "displayName": "Muhammad Haris",
      "userId": "13172555328013255752"
     },
     "user_tz": -300
    },
    "id": "1wHW41whURub",
    "outputId": "9c0210f3-a10a-4e8f-f2ba-b16509b44ca9",
    "papermill": {
     "duration": 0.05128,
     "end_time": "2020-11-27T11:52:31.260584",
     "exception": false,
     "start_time": "2020-11-27T11:52:31.209304",
     "status": "completed"
    },
    "tags": []
   },
   "outputs": [
    {
     "data": {
      "text/html": [
       "<div>\n",
       "<style scoped>\n",
       "    .dataframe tbody tr th:only-of-type {\n",
       "        vertical-align: middle;\n",
       "    }\n",
       "\n",
       "    .dataframe tbody tr th {\n",
       "        vertical-align: top;\n",
       "    }\n",
       "\n",
       "    .dataframe thead th {\n",
       "        text-align: right;\n",
       "    }\n",
       "</style>\n",
       "<table border=\"1\" class=\"dataframe\">\n",
       "  <thead>\n",
       "    <tr style=\"text-align: right;\">\n",
       "      <th></th>\n",
       "      <th>Make</th>\n",
       "      <th>Model</th>\n",
       "      <th>Year</th>\n",
       "      <th>Engine Fuel Type</th>\n",
       "      <th>HP</th>\n",
       "      <th>Cylinders</th>\n",
       "      <th>Transmission</th>\n",
       "      <th>Drive Mode</th>\n",
       "      <th>Number of Doors</th>\n",
       "      <th>Market Category</th>\n",
       "      <th>Vehicle Style</th>\n",
       "      <th>MPG-H</th>\n",
       "      <th>MPG-C</th>\n",
       "      <th>Popularity</th>\n",
       "      <th>Price</th>\n",
       "    </tr>\n",
       "  </thead>\n",
       "  <tbody>\n",
       "    <tr>\n",
       "      <th>0</th>\n",
       "      <td>BMW</td>\n",
       "      <td>1 Series M</td>\n",
       "      <td>2011</td>\n",
       "      <td>premium unleaded (required)</td>\n",
       "      <td>335.0</td>\n",
       "      <td>6.0</td>\n",
       "      <td>MANUAL</td>\n",
       "      <td>rear wheel drive</td>\n",
       "      <td>2.0</td>\n",
       "      <td>Factory Tuner,Luxury,High-Performance</td>\n",
       "      <td>Coupe</td>\n",
       "      <td>26</td>\n",
       "      <td>19</td>\n",
       "      <td>3916</td>\n",
       "      <td>46135</td>\n",
       "    </tr>\n",
       "    <tr>\n",
       "      <th>1</th>\n",
       "      <td>BMW</td>\n",
       "      <td>1 Series</td>\n",
       "      <td>2011</td>\n",
       "      <td>premium unleaded (required)</td>\n",
       "      <td>300.0</td>\n",
       "      <td>6.0</td>\n",
       "      <td>MANUAL</td>\n",
       "      <td>rear wheel drive</td>\n",
       "      <td>2.0</td>\n",
       "      <td>Luxury,Performance</td>\n",
       "      <td>Convertible</td>\n",
       "      <td>28</td>\n",
       "      <td>19</td>\n",
       "      <td>3916</td>\n",
       "      <td>40650</td>\n",
       "    </tr>\n",
       "    <tr>\n",
       "      <th>2</th>\n",
       "      <td>BMW</td>\n",
       "      <td>1 Series</td>\n",
       "      <td>2011</td>\n",
       "      <td>premium unleaded (required)</td>\n",
       "      <td>300.0</td>\n",
       "      <td>6.0</td>\n",
       "      <td>MANUAL</td>\n",
       "      <td>rear wheel drive</td>\n",
       "      <td>2.0</td>\n",
       "      <td>Luxury,High-Performance</td>\n",
       "      <td>Coupe</td>\n",
       "      <td>28</td>\n",
       "      <td>20</td>\n",
       "      <td>3916</td>\n",
       "      <td>36350</td>\n",
       "    </tr>\n",
       "    <tr>\n",
       "      <th>3</th>\n",
       "      <td>BMW</td>\n",
       "      <td>1 Series</td>\n",
       "      <td>2011</td>\n",
       "      <td>premium unleaded (required)</td>\n",
       "      <td>230.0</td>\n",
       "      <td>6.0</td>\n",
       "      <td>MANUAL</td>\n",
       "      <td>rear wheel drive</td>\n",
       "      <td>2.0</td>\n",
       "      <td>Luxury,Performance</td>\n",
       "      <td>Coupe</td>\n",
       "      <td>28</td>\n",
       "      <td>18</td>\n",
       "      <td>3916</td>\n",
       "      <td>29450</td>\n",
       "    </tr>\n",
       "    <tr>\n",
       "      <th>4</th>\n",
       "      <td>BMW</td>\n",
       "      <td>1 Series</td>\n",
       "      <td>2011</td>\n",
       "      <td>premium unleaded (required)</td>\n",
       "      <td>230.0</td>\n",
       "      <td>6.0</td>\n",
       "      <td>MANUAL</td>\n",
       "      <td>rear wheel drive</td>\n",
       "      <td>2.0</td>\n",
       "      <td>Luxury</td>\n",
       "      <td>Convertible</td>\n",
       "      <td>28</td>\n",
       "      <td>18</td>\n",
       "      <td>3916</td>\n",
       "      <td>34500</td>\n",
       "    </tr>\n",
       "  </tbody>\n",
       "</table>\n",
       "</div>"
      ],
      "text/plain": [
       "  Make       Model  Year             Engine Fuel Type     HP  Cylinders  \\\n",
       "0  BMW  1 Series M  2011  premium unleaded (required)  335.0        6.0   \n",
       "1  BMW    1 Series  2011  premium unleaded (required)  300.0        6.0   \n",
       "2  BMW    1 Series  2011  premium unleaded (required)  300.0        6.0   \n",
       "3  BMW    1 Series  2011  premium unleaded (required)  230.0        6.0   \n",
       "4  BMW    1 Series  2011  premium unleaded (required)  230.0        6.0   \n",
       "\n",
       "  Transmission        Drive Mode  Number of Doors  \\\n",
       "0       MANUAL  rear wheel drive              2.0   \n",
       "1       MANUAL  rear wheel drive              2.0   \n",
       "2       MANUAL  rear wheel drive              2.0   \n",
       "3       MANUAL  rear wheel drive              2.0   \n",
       "4       MANUAL  rear wheel drive              2.0   \n",
       "\n",
       "                         Market Category Vehicle Style  MPG-H  MPG-C  \\\n",
       "0  Factory Tuner,Luxury,High-Performance         Coupe     26     19   \n",
       "1                     Luxury,Performance   Convertible     28     19   \n",
       "2                Luxury,High-Performance         Coupe     28     20   \n",
       "3                     Luxury,Performance         Coupe     28     18   \n",
       "4                                 Luxury   Convertible     28     18   \n",
       "\n",
       "   Popularity  Price  \n",
       "0        3916  46135  \n",
       "1        3916  40650  \n",
       "2        3916  36350  \n",
       "3        3916  29450  \n",
       "4        3916  34500  "
      ]
     },
     "execution_count": 13,
     "metadata": {},
     "output_type": "execute_result"
    }
   ],
   "source": [
    "df = df.rename(columns={\"Engine HP\": \"HP\", \"Engine Cylinders\": \"Cylinders\", \"Transmission Type\": \"Transmission\", \"Driven_Wheels\": \"Drive Mode\",\"highway MPG\": \"MPG-H\", \"city mpg\": \"MPG-C\", \"MSRP\": \"Price\" })\n",
    "df.head(5)"
   ]
  },
  {
   "cell_type": "markdown",
   "metadata": {
    "id": "5tcGiOmV0afN",
    "papermill": {
     "duration": 0.030645,
     "end_time": "2020-11-27T11:52:31.323355",
     "exception": false,
     "start_time": "2020-11-27T11:52:31.292710",
     "status": "completed"
    },
    "tags": []
   },
   "source": [
    "\n",
    "\n",
    "---\n",
    "\n"
   ]
  },
  {
   "cell_type": "markdown",
   "metadata": {
    "id": "uiW7x_O4WIDX",
    "papermill": {
     "duration": 0.030638,
     "end_time": "2020-11-27T11:52:31.385353",
     "exception": false,
     "start_time": "2020-11-27T11:52:31.354715",
     "status": "completed"
    },
    "tags": []
   },
   "source": [
    "## **Check the duplicate rows**"
   ]
  },
  {
   "cell_type": "code",
   "execution_count": 15,
   "metadata": {
    "colab": {
     "base_uri": "https://localhost:8080/"
    },
    "executionInfo": {
     "elapsed": 662,
     "status": "ok",
     "timestamp": 1688573236111,
     "user": {
      "displayName": "Muhammad Haris",
      "userId": "13172555328013255752"
     },
     "user_tz": -300
    },
    "id": "1nBN_BCDWSmv",
    "outputId": "93d2a2f8-2179-4d64-8f15-5056803bfade",
    "papermill": {
     "duration": 0.039307,
     "end_time": "2020-11-27T11:52:31.516612",
     "exception": false,
     "start_time": "2020-11-27T11:52:31.477305",
     "status": "completed"
    },
    "tags": []
   },
   "outputs": [
    {
     "data": {
      "text/plain": [
       "(11914, 15)"
      ]
     },
     "execution_count": 15,
     "metadata": {},
     "output_type": "execute_result"
    }
   ],
   "source": [
    "df.shape"
   ]
  },
  {
   "cell_type": "code",
   "execution_count": 17,
   "metadata": {},
   "outputs": [
    {
     "data": {
      "text/plain": [
       "0        False\n",
       "1        False\n",
       "2        False\n",
       "3        False\n",
       "4        False\n",
       "         ...  \n",
       "11909    False\n",
       "11910    False\n",
       "11911    False\n",
       "11912    False\n",
       "11913    False\n",
       "Length: 11914, dtype: bool"
      ]
     },
     "execution_count": 17,
     "metadata": {},
     "output_type": "execute_result"
    }
   ],
   "source": [
    "df.duplicated()"
   ]
  },
  {
   "cell_type": "code",
   "execution_count": 19,
   "metadata": {},
   "outputs": [
    {
     "data": {
      "text/html": [
       "<div>\n",
       "<style scoped>\n",
       "    .dataframe tbody tr th:only-of-type {\n",
       "        vertical-align: middle;\n",
       "    }\n",
       "\n",
       "    .dataframe tbody tr th {\n",
       "        vertical-align: top;\n",
       "    }\n",
       "\n",
       "    .dataframe thead th {\n",
       "        text-align: right;\n",
       "    }\n",
       "</style>\n",
       "<table border=\"1\" class=\"dataframe\">\n",
       "  <thead>\n",
       "    <tr style=\"text-align: right;\">\n",
       "      <th></th>\n",
       "      <th>Make</th>\n",
       "      <th>Model</th>\n",
       "      <th>Year</th>\n",
       "      <th>Engine Fuel Type</th>\n",
       "      <th>HP</th>\n",
       "      <th>Cylinders</th>\n",
       "      <th>Transmission</th>\n",
       "      <th>Drive Mode</th>\n",
       "      <th>Number of Doors</th>\n",
       "      <th>Market Category</th>\n",
       "      <th>Vehicle Style</th>\n",
       "      <th>MPG-H</th>\n",
       "      <th>MPG-C</th>\n",
       "      <th>Popularity</th>\n",
       "      <th>Price</th>\n",
       "    </tr>\n",
       "  </thead>\n",
       "  <tbody>\n",
       "    <tr>\n",
       "      <th>14</th>\n",
       "      <td>BMW</td>\n",
       "      <td>1 Series</td>\n",
       "      <td>2013</td>\n",
       "      <td>premium unleaded (required)</td>\n",
       "      <td>230.0</td>\n",
       "      <td>6.0</td>\n",
       "      <td>MANUAL</td>\n",
       "      <td>rear wheel drive</td>\n",
       "      <td>2.0</td>\n",
       "      <td>Luxury,Performance</td>\n",
       "      <td>Coupe</td>\n",
       "      <td>28</td>\n",
       "      <td>19</td>\n",
       "      <td>3916</td>\n",
       "      <td>31500</td>\n",
       "    </tr>\n",
       "    <tr>\n",
       "      <th>18</th>\n",
       "      <td>Audi</td>\n",
       "      <td>100</td>\n",
       "      <td>1992</td>\n",
       "      <td>regular unleaded</td>\n",
       "      <td>172.0</td>\n",
       "      <td>6.0</td>\n",
       "      <td>MANUAL</td>\n",
       "      <td>front wheel drive</td>\n",
       "      <td>4.0</td>\n",
       "      <td>Luxury</td>\n",
       "      <td>Sedan</td>\n",
       "      <td>24</td>\n",
       "      <td>17</td>\n",
       "      <td>3105</td>\n",
       "      <td>2000</td>\n",
       "    </tr>\n",
       "    <tr>\n",
       "      <th>20</th>\n",
       "      <td>Audi</td>\n",
       "      <td>100</td>\n",
       "      <td>1992</td>\n",
       "      <td>regular unleaded</td>\n",
       "      <td>172.0</td>\n",
       "      <td>6.0</td>\n",
       "      <td>MANUAL</td>\n",
       "      <td>front wheel drive</td>\n",
       "      <td>4.0</td>\n",
       "      <td>Luxury</td>\n",
       "      <td>Sedan</td>\n",
       "      <td>24</td>\n",
       "      <td>17</td>\n",
       "      <td>3105</td>\n",
       "      <td>2000</td>\n",
       "    </tr>\n",
       "    <tr>\n",
       "      <th>24</th>\n",
       "      <td>Audi</td>\n",
       "      <td>100</td>\n",
       "      <td>1993</td>\n",
       "      <td>regular unleaded</td>\n",
       "      <td>172.0</td>\n",
       "      <td>6.0</td>\n",
       "      <td>MANUAL</td>\n",
       "      <td>front wheel drive</td>\n",
       "      <td>4.0</td>\n",
       "      <td>Luxury</td>\n",
       "      <td>Sedan</td>\n",
       "      <td>24</td>\n",
       "      <td>17</td>\n",
       "      <td>3105</td>\n",
       "      <td>2000</td>\n",
       "    </tr>\n",
       "    <tr>\n",
       "      <th>25</th>\n",
       "      <td>Audi</td>\n",
       "      <td>100</td>\n",
       "      <td>1993</td>\n",
       "      <td>regular unleaded</td>\n",
       "      <td>172.0</td>\n",
       "      <td>6.0</td>\n",
       "      <td>MANUAL</td>\n",
       "      <td>front wheel drive</td>\n",
       "      <td>4.0</td>\n",
       "      <td>Luxury</td>\n",
       "      <td>Sedan</td>\n",
       "      <td>24</td>\n",
       "      <td>17</td>\n",
       "      <td>3105</td>\n",
       "      <td>2000</td>\n",
       "    </tr>\n",
       "    <tr>\n",
       "      <th>...</th>\n",
       "      <td>...</td>\n",
       "      <td>...</td>\n",
       "      <td>...</td>\n",
       "      <td>...</td>\n",
       "      <td>...</td>\n",
       "      <td>...</td>\n",
       "      <td>...</td>\n",
       "      <td>...</td>\n",
       "      <td>...</td>\n",
       "      <td>...</td>\n",
       "      <td>...</td>\n",
       "      <td>...</td>\n",
       "      <td>...</td>\n",
       "      <td>...</td>\n",
       "      <td>...</td>\n",
       "    </tr>\n",
       "    <tr>\n",
       "      <th>11481</th>\n",
       "      <td>Suzuki</td>\n",
       "      <td>X-90</td>\n",
       "      <td>1998</td>\n",
       "      <td>regular unleaded</td>\n",
       "      <td>95.0</td>\n",
       "      <td>4.0</td>\n",
       "      <td>MANUAL</td>\n",
       "      <td>four wheel drive</td>\n",
       "      <td>2.0</td>\n",
       "      <td>NaN</td>\n",
       "      <td>2dr SUV</td>\n",
       "      <td>26</td>\n",
       "      <td>22</td>\n",
       "      <td>481</td>\n",
       "      <td>2000</td>\n",
       "    </tr>\n",
       "    <tr>\n",
       "      <th>11603</th>\n",
       "      <td>Volvo</td>\n",
       "      <td>XC60</td>\n",
       "      <td>2017</td>\n",
       "      <td>regular unleaded</td>\n",
       "      <td>302.0</td>\n",
       "      <td>4.0</td>\n",
       "      <td>AUTOMATIC</td>\n",
       "      <td>all wheel drive</td>\n",
       "      <td>4.0</td>\n",
       "      <td>Crossover,Luxury,Performance</td>\n",
       "      <td>4dr SUV</td>\n",
       "      <td>29</td>\n",
       "      <td>20</td>\n",
       "      <td>870</td>\n",
       "      <td>46350</td>\n",
       "    </tr>\n",
       "    <tr>\n",
       "      <th>11604</th>\n",
       "      <td>Volvo</td>\n",
       "      <td>XC60</td>\n",
       "      <td>2017</td>\n",
       "      <td>regular unleaded</td>\n",
       "      <td>240.0</td>\n",
       "      <td>4.0</td>\n",
       "      <td>AUTOMATIC</td>\n",
       "      <td>front wheel drive</td>\n",
       "      <td>4.0</td>\n",
       "      <td>Crossover,Luxury</td>\n",
       "      <td>4dr SUV</td>\n",
       "      <td>30</td>\n",
       "      <td>23</td>\n",
       "      <td>870</td>\n",
       "      <td>40950</td>\n",
       "    </tr>\n",
       "    <tr>\n",
       "      <th>11708</th>\n",
       "      <td>Suzuki</td>\n",
       "      <td>XL7</td>\n",
       "      <td>2008</td>\n",
       "      <td>regular unleaded</td>\n",
       "      <td>252.0</td>\n",
       "      <td>6.0</td>\n",
       "      <td>AUTOMATIC</td>\n",
       "      <td>all wheel drive</td>\n",
       "      <td>4.0</td>\n",
       "      <td>Crossover</td>\n",
       "      <td>4dr SUV</td>\n",
       "      <td>22</td>\n",
       "      <td>15</td>\n",
       "      <td>481</td>\n",
       "      <td>29149</td>\n",
       "    </tr>\n",
       "    <tr>\n",
       "      <th>11717</th>\n",
       "      <td>Suzuki</td>\n",
       "      <td>XL7</td>\n",
       "      <td>2008</td>\n",
       "      <td>regular unleaded</td>\n",
       "      <td>252.0</td>\n",
       "      <td>6.0</td>\n",
       "      <td>AUTOMATIC</td>\n",
       "      <td>front wheel drive</td>\n",
       "      <td>4.0</td>\n",
       "      <td>Crossover</td>\n",
       "      <td>4dr SUV</td>\n",
       "      <td>22</td>\n",
       "      <td>16</td>\n",
       "      <td>481</td>\n",
       "      <td>27499</td>\n",
       "    </tr>\n",
       "  </tbody>\n",
       "</table>\n",
       "<p>726 rows × 15 columns</p>\n",
       "</div>"
      ],
      "text/plain": [
       "         Make     Model  Year             Engine Fuel Type     HP  Cylinders  \\\n",
       "14        BMW  1 Series  2013  premium unleaded (required)  230.0        6.0   \n",
       "18       Audi       100  1992             regular unleaded  172.0        6.0   \n",
       "20       Audi       100  1992             regular unleaded  172.0        6.0   \n",
       "24       Audi       100  1993             regular unleaded  172.0        6.0   \n",
       "25       Audi       100  1993             regular unleaded  172.0        6.0   \n",
       "...       ...       ...   ...                          ...    ...        ...   \n",
       "11481  Suzuki      X-90  1998             regular unleaded   95.0        4.0   \n",
       "11603   Volvo      XC60  2017             regular unleaded  302.0        4.0   \n",
       "11604   Volvo      XC60  2017             regular unleaded  240.0        4.0   \n",
       "11708  Suzuki       XL7  2008             regular unleaded  252.0        6.0   \n",
       "11717  Suzuki       XL7  2008             regular unleaded  252.0        6.0   \n",
       "\n",
       "      Transmission         Drive Mode  Number of Doors  \\\n",
       "14          MANUAL   rear wheel drive              2.0   \n",
       "18          MANUAL  front wheel drive              4.0   \n",
       "20          MANUAL  front wheel drive              4.0   \n",
       "24          MANUAL  front wheel drive              4.0   \n",
       "25          MANUAL  front wheel drive              4.0   \n",
       "...            ...                ...              ...   \n",
       "11481       MANUAL   four wheel drive              2.0   \n",
       "11603    AUTOMATIC    all wheel drive              4.0   \n",
       "11604    AUTOMATIC  front wheel drive              4.0   \n",
       "11708    AUTOMATIC    all wheel drive              4.0   \n",
       "11717    AUTOMATIC  front wheel drive              4.0   \n",
       "\n",
       "                    Market Category Vehicle Style  MPG-H  MPG-C  Popularity  \\\n",
       "14               Luxury,Performance         Coupe     28     19        3916   \n",
       "18                           Luxury         Sedan     24     17        3105   \n",
       "20                           Luxury         Sedan     24     17        3105   \n",
       "24                           Luxury         Sedan     24     17        3105   \n",
       "25                           Luxury         Sedan     24     17        3105   \n",
       "...                             ...           ...    ...    ...         ...   \n",
       "11481                           NaN       2dr SUV     26     22         481   \n",
       "11603  Crossover,Luxury,Performance       4dr SUV     29     20         870   \n",
       "11604              Crossover,Luxury       4dr SUV     30     23         870   \n",
       "11708                     Crossover       4dr SUV     22     15         481   \n",
       "11717                     Crossover       4dr SUV     22     16         481   \n",
       "\n",
       "       Price  \n",
       "14     31500  \n",
       "18      2000  \n",
       "20      2000  \n",
       "24      2000  \n",
       "25      2000  \n",
       "...      ...  \n",
       "11481   2000  \n",
       "11603  46350  \n",
       "11604  40950  \n",
       "11708  29149  \n",
       "11717  27499  \n",
       "\n",
       "[726 rows x 15 columns]"
      ]
     },
     "execution_count": 19,
     "metadata": {},
     "output_type": "execute_result"
    }
   ],
   "source": [
    "df[df.duplicated()]"
   ]
  },
  {
   "cell_type": "code",
   "execution_count": 21,
   "metadata": {
    "colab": {
     "base_uri": "https://localhost:8080/"
    },
    "executionInfo": {
     "elapsed": 569,
     "status": "ok",
     "timestamp": 1688573275130,
     "user": {
      "displayName": "Muhammad Haris",
      "userId": "13172555328013255752"
     },
     "user_tz": -300
    },
    "id": "yB8t6o0wH7If",
    "outputId": "a77de926-e420-420f-d3d9-1002cc72b7d5",
    "papermill": {
     "duration": 0.053706,
     "end_time": "2020-11-27T11:52:31.602271",
     "exception": false,
     "start_time": "2020-11-27T11:52:31.548565",
     "status": "completed"
    },
    "tags": []
   },
   "outputs": [
    {
     "name": "stdout",
     "output_type": "stream",
     "text": [
      "number of duplicate rows:  (726, 15)\n"
     ]
    }
   ],
   "source": [
    "duplicate_rows_df = df[df.duplicated()]\n",
    "print(\"number of duplicate rows: \", duplicate_rows_df.shape)"
   ]
  },
  {
   "cell_type": "markdown",
   "metadata": {
    "id": "Eo381WISNIAJ"
   },
   "source": [
    "## **Counting the number of Rows**"
   ]
  },
  {
   "cell_type": "code",
   "execution_count": 23,
   "metadata": {
    "colab": {
     "base_uri": "https://localhost:8080/"
    },
    "executionInfo": {
     "elapsed": 678,
     "status": "ok",
     "timestamp": 1688573297272,
     "user": {
      "displayName": "Muhammad Haris",
      "userId": "13172555328013255752"
     },
     "user_tz": -300
    },
    "id": "kuobmetTV820",
    "outputId": "d22db5f5-5c7e-4d10-8b7b-f9ef888bab95",
    "papermill": {
     "duration": 0.045289,
     "end_time": "2020-11-27T11:52:31.741503",
     "exception": false,
     "start_time": "2020-11-27T11:52:31.696214",
     "status": "completed"
    },
    "tags": []
   },
   "outputs": [
    {
     "data": {
      "text/plain": [
       "Make                11914\n",
       "Model               11914\n",
       "Year                11914\n",
       "Engine Fuel Type    11911\n",
       "HP                  11845\n",
       "Cylinders           11884\n",
       "Transmission        11914\n",
       "Drive Mode          11914\n",
       "Number of Doors     11908\n",
       "Market Category      8172\n",
       "Vehicle Style       11914\n",
       "MPG-H               11914\n",
       "MPG-C               11914\n",
       "Popularity          11914\n",
       "Price               11914\n",
       "dtype: int64"
      ]
     },
     "execution_count": 23,
     "metadata": {},
     "output_type": "execute_result"
    }
   ],
   "source": [
    "df.count()      "
   ]
  },
  {
   "cell_type": "markdown",
   "metadata": {
    "id": "7-OQt2g3NMlR"
   },
   "source": [
    "## **Dropping the Duplicate Values**"
   ]
  },
  {
   "cell_type": "code",
   "execution_count": 25,
   "metadata": {
    "colab": {
     "base_uri": "https://localhost:8080/",
     "height": 478
    },
    "executionInfo": {
     "elapsed": 353,
     "status": "ok",
     "timestamp": 1688573351022,
     "user": {
      "displayName": "Muhammad Haris",
      "userId": "13172555328013255752"
     },
     "user_tz": -300
    },
    "id": "OiOsEF6WVTSj",
    "outputId": "92f80dd3-e33c-4f52-a2ad-7b2687cdda73",
    "papermill": {
     "duration": 0.058104,
     "end_time": "2020-11-27T11:52:31.896493",
     "exception": false,
     "start_time": "2020-11-27T11:52:31.838389",
     "status": "completed"
    },
    "tags": []
   },
   "outputs": [
    {
     "data": {
      "text/html": [
       "<div>\n",
       "<style scoped>\n",
       "    .dataframe tbody tr th:only-of-type {\n",
       "        vertical-align: middle;\n",
       "    }\n",
       "\n",
       "    .dataframe tbody tr th {\n",
       "        vertical-align: top;\n",
       "    }\n",
       "\n",
       "    .dataframe thead th {\n",
       "        text-align: right;\n",
       "    }\n",
       "</style>\n",
       "<table border=\"1\" class=\"dataframe\">\n",
       "  <thead>\n",
       "    <tr style=\"text-align: right;\">\n",
       "      <th></th>\n",
       "      <th>Make</th>\n",
       "      <th>Model</th>\n",
       "      <th>Year</th>\n",
       "      <th>Engine Fuel Type</th>\n",
       "      <th>HP</th>\n",
       "      <th>Cylinders</th>\n",
       "      <th>Transmission</th>\n",
       "      <th>Drive Mode</th>\n",
       "      <th>Number of Doors</th>\n",
       "      <th>Market Category</th>\n",
       "      <th>Vehicle Style</th>\n",
       "      <th>MPG-H</th>\n",
       "      <th>MPG-C</th>\n",
       "      <th>Popularity</th>\n",
       "      <th>Price</th>\n",
       "    </tr>\n",
       "  </thead>\n",
       "  <tbody>\n",
       "    <tr>\n",
       "      <th>0</th>\n",
       "      <td>BMW</td>\n",
       "      <td>1 Series M</td>\n",
       "      <td>2011</td>\n",
       "      <td>premium unleaded (required)</td>\n",
       "      <td>335.0</td>\n",
       "      <td>6.0</td>\n",
       "      <td>MANUAL</td>\n",
       "      <td>rear wheel drive</td>\n",
       "      <td>2.0</td>\n",
       "      <td>Factory Tuner,Luxury,High-Performance</td>\n",
       "      <td>Coupe</td>\n",
       "      <td>26</td>\n",
       "      <td>19</td>\n",
       "      <td>3916</td>\n",
       "      <td>46135</td>\n",
       "    </tr>\n",
       "    <tr>\n",
       "      <th>1</th>\n",
       "      <td>BMW</td>\n",
       "      <td>1 Series</td>\n",
       "      <td>2011</td>\n",
       "      <td>premium unleaded (required)</td>\n",
       "      <td>300.0</td>\n",
       "      <td>6.0</td>\n",
       "      <td>MANUAL</td>\n",
       "      <td>rear wheel drive</td>\n",
       "      <td>2.0</td>\n",
       "      <td>Luxury,Performance</td>\n",
       "      <td>Convertible</td>\n",
       "      <td>28</td>\n",
       "      <td>19</td>\n",
       "      <td>3916</td>\n",
       "      <td>40650</td>\n",
       "    </tr>\n",
       "    <tr>\n",
       "      <th>2</th>\n",
       "      <td>BMW</td>\n",
       "      <td>1 Series</td>\n",
       "      <td>2011</td>\n",
       "      <td>premium unleaded (required)</td>\n",
       "      <td>300.0</td>\n",
       "      <td>6.0</td>\n",
       "      <td>MANUAL</td>\n",
       "      <td>rear wheel drive</td>\n",
       "      <td>2.0</td>\n",
       "      <td>Luxury,High-Performance</td>\n",
       "      <td>Coupe</td>\n",
       "      <td>28</td>\n",
       "      <td>20</td>\n",
       "      <td>3916</td>\n",
       "      <td>36350</td>\n",
       "    </tr>\n",
       "    <tr>\n",
       "      <th>3</th>\n",
       "      <td>BMW</td>\n",
       "      <td>1 Series</td>\n",
       "      <td>2011</td>\n",
       "      <td>premium unleaded (required)</td>\n",
       "      <td>230.0</td>\n",
       "      <td>6.0</td>\n",
       "      <td>MANUAL</td>\n",
       "      <td>rear wheel drive</td>\n",
       "      <td>2.0</td>\n",
       "      <td>Luxury,Performance</td>\n",
       "      <td>Coupe</td>\n",
       "      <td>28</td>\n",
       "      <td>18</td>\n",
       "      <td>3916</td>\n",
       "      <td>29450</td>\n",
       "    </tr>\n",
       "    <tr>\n",
       "      <th>4</th>\n",
       "      <td>BMW</td>\n",
       "      <td>1 Series</td>\n",
       "      <td>2011</td>\n",
       "      <td>premium unleaded (required)</td>\n",
       "      <td>230.0</td>\n",
       "      <td>6.0</td>\n",
       "      <td>MANUAL</td>\n",
       "      <td>rear wheel drive</td>\n",
       "      <td>2.0</td>\n",
       "      <td>Luxury</td>\n",
       "      <td>Convertible</td>\n",
       "      <td>28</td>\n",
       "      <td>18</td>\n",
       "      <td>3916</td>\n",
       "      <td>34500</td>\n",
       "    </tr>\n",
       "    <tr>\n",
       "      <th>...</th>\n",
       "      <td>...</td>\n",
       "      <td>...</td>\n",
       "      <td>...</td>\n",
       "      <td>...</td>\n",
       "      <td>...</td>\n",
       "      <td>...</td>\n",
       "      <td>...</td>\n",
       "      <td>...</td>\n",
       "      <td>...</td>\n",
       "      <td>...</td>\n",
       "      <td>...</td>\n",
       "      <td>...</td>\n",
       "      <td>...</td>\n",
       "      <td>...</td>\n",
       "      <td>...</td>\n",
       "    </tr>\n",
       "    <tr>\n",
       "      <th>11909</th>\n",
       "      <td>Acura</td>\n",
       "      <td>ZDX</td>\n",
       "      <td>2012</td>\n",
       "      <td>premium unleaded (required)</td>\n",
       "      <td>300.0</td>\n",
       "      <td>6.0</td>\n",
       "      <td>AUTOMATIC</td>\n",
       "      <td>all wheel drive</td>\n",
       "      <td>4.0</td>\n",
       "      <td>Crossover,Hatchback,Luxury</td>\n",
       "      <td>4dr Hatchback</td>\n",
       "      <td>23</td>\n",
       "      <td>16</td>\n",
       "      <td>204</td>\n",
       "      <td>46120</td>\n",
       "    </tr>\n",
       "    <tr>\n",
       "      <th>11910</th>\n",
       "      <td>Acura</td>\n",
       "      <td>ZDX</td>\n",
       "      <td>2012</td>\n",
       "      <td>premium unleaded (required)</td>\n",
       "      <td>300.0</td>\n",
       "      <td>6.0</td>\n",
       "      <td>AUTOMATIC</td>\n",
       "      <td>all wheel drive</td>\n",
       "      <td>4.0</td>\n",
       "      <td>Crossover,Hatchback,Luxury</td>\n",
       "      <td>4dr Hatchback</td>\n",
       "      <td>23</td>\n",
       "      <td>16</td>\n",
       "      <td>204</td>\n",
       "      <td>56670</td>\n",
       "    </tr>\n",
       "    <tr>\n",
       "      <th>11911</th>\n",
       "      <td>Acura</td>\n",
       "      <td>ZDX</td>\n",
       "      <td>2012</td>\n",
       "      <td>premium unleaded (required)</td>\n",
       "      <td>300.0</td>\n",
       "      <td>6.0</td>\n",
       "      <td>AUTOMATIC</td>\n",
       "      <td>all wheel drive</td>\n",
       "      <td>4.0</td>\n",
       "      <td>Crossover,Hatchback,Luxury</td>\n",
       "      <td>4dr Hatchback</td>\n",
       "      <td>23</td>\n",
       "      <td>16</td>\n",
       "      <td>204</td>\n",
       "      <td>50620</td>\n",
       "    </tr>\n",
       "    <tr>\n",
       "      <th>11912</th>\n",
       "      <td>Acura</td>\n",
       "      <td>ZDX</td>\n",
       "      <td>2013</td>\n",
       "      <td>premium unleaded (recommended)</td>\n",
       "      <td>300.0</td>\n",
       "      <td>6.0</td>\n",
       "      <td>AUTOMATIC</td>\n",
       "      <td>all wheel drive</td>\n",
       "      <td>4.0</td>\n",
       "      <td>Crossover,Hatchback,Luxury</td>\n",
       "      <td>4dr Hatchback</td>\n",
       "      <td>23</td>\n",
       "      <td>16</td>\n",
       "      <td>204</td>\n",
       "      <td>50920</td>\n",
       "    </tr>\n",
       "    <tr>\n",
       "      <th>11913</th>\n",
       "      <td>Lincoln</td>\n",
       "      <td>Zephyr</td>\n",
       "      <td>2006</td>\n",
       "      <td>regular unleaded</td>\n",
       "      <td>221.0</td>\n",
       "      <td>6.0</td>\n",
       "      <td>AUTOMATIC</td>\n",
       "      <td>front wheel drive</td>\n",
       "      <td>4.0</td>\n",
       "      <td>Luxury</td>\n",
       "      <td>Sedan</td>\n",
       "      <td>26</td>\n",
       "      <td>17</td>\n",
       "      <td>61</td>\n",
       "      <td>28995</td>\n",
       "    </tr>\n",
       "  </tbody>\n",
       "</table>\n",
       "<p>11188 rows × 15 columns</p>\n",
       "</div>"
      ],
      "text/plain": [
       "          Make       Model  Year                Engine Fuel Type     HP  \\\n",
       "0          BMW  1 Series M  2011     premium unleaded (required)  335.0   \n",
       "1          BMW    1 Series  2011     premium unleaded (required)  300.0   \n",
       "2          BMW    1 Series  2011     premium unleaded (required)  300.0   \n",
       "3          BMW    1 Series  2011     premium unleaded (required)  230.0   \n",
       "4          BMW    1 Series  2011     premium unleaded (required)  230.0   \n",
       "...        ...         ...   ...                             ...    ...   \n",
       "11909    Acura         ZDX  2012     premium unleaded (required)  300.0   \n",
       "11910    Acura         ZDX  2012     premium unleaded (required)  300.0   \n",
       "11911    Acura         ZDX  2012     premium unleaded (required)  300.0   \n",
       "11912    Acura         ZDX  2013  premium unleaded (recommended)  300.0   \n",
       "11913  Lincoln      Zephyr  2006                regular unleaded  221.0   \n",
       "\n",
       "       Cylinders Transmission         Drive Mode  Number of Doors  \\\n",
       "0            6.0       MANUAL   rear wheel drive              2.0   \n",
       "1            6.0       MANUAL   rear wheel drive              2.0   \n",
       "2            6.0       MANUAL   rear wheel drive              2.0   \n",
       "3            6.0       MANUAL   rear wheel drive              2.0   \n",
       "4            6.0       MANUAL   rear wheel drive              2.0   \n",
       "...          ...          ...                ...              ...   \n",
       "11909        6.0    AUTOMATIC    all wheel drive              4.0   \n",
       "11910        6.0    AUTOMATIC    all wheel drive              4.0   \n",
       "11911        6.0    AUTOMATIC    all wheel drive              4.0   \n",
       "11912        6.0    AUTOMATIC    all wheel drive              4.0   \n",
       "11913        6.0    AUTOMATIC  front wheel drive              4.0   \n",
       "\n",
       "                             Market Category  Vehicle Style  MPG-H  MPG-C  \\\n",
       "0      Factory Tuner,Luxury,High-Performance          Coupe     26     19   \n",
       "1                         Luxury,Performance    Convertible     28     19   \n",
       "2                    Luxury,High-Performance          Coupe     28     20   \n",
       "3                         Luxury,Performance          Coupe     28     18   \n",
       "4                                     Luxury    Convertible     28     18   \n",
       "...                                      ...            ...    ...    ...   \n",
       "11909             Crossover,Hatchback,Luxury  4dr Hatchback     23     16   \n",
       "11910             Crossover,Hatchback,Luxury  4dr Hatchback     23     16   \n",
       "11911             Crossover,Hatchback,Luxury  4dr Hatchback     23     16   \n",
       "11912             Crossover,Hatchback,Luxury  4dr Hatchback     23     16   \n",
       "11913                                 Luxury          Sedan     26     17   \n",
       "\n",
       "       Popularity  Price  \n",
       "0            3916  46135  \n",
       "1            3916  40650  \n",
       "2            3916  36350  \n",
       "3            3916  29450  \n",
       "4            3916  34500  \n",
       "...           ...    ...  \n",
       "11909         204  46120  \n",
       "11910         204  56670  \n",
       "11911         204  50620  \n",
       "11912         204  50920  \n",
       "11913          61  28995  \n",
       "\n",
       "[11188 rows x 15 columns]"
      ]
     },
     "execution_count": 25,
     "metadata": {},
     "output_type": "execute_result"
    }
   ],
   "source": [
    "df = df.drop_duplicates()\n",
    "df"
   ]
  },
  {
   "cell_type": "code",
   "execution_count": 27,
   "metadata": {},
   "outputs": [
    {
     "data": {
      "text/plain": [
       "11188"
      ]
     },
     "execution_count": 27,
     "metadata": {},
     "output_type": "execute_result"
    }
   ],
   "source": [
    "11914-726"
   ]
  },
  {
   "cell_type": "code",
   "execution_count": 29,
   "metadata": {
    "colab": {
     "base_uri": "https://localhost:8080/"
    },
    "executionInfo": {
     "elapsed": 565,
     "status": "ok",
     "timestamp": 1688573357310,
     "user": {
      "displayName": "Muhammad Haris",
      "userId": "13172555328013255752"
     },
     "user_tz": -300
    },
    "id": "2gMM4lb0Vzor",
    "outputId": "32d02b68-9118-4dcb-dc34-f4d0e3febed9",
    "papermill": {
     "duration": 0.045247,
     "end_time": "2020-11-27T11:52:31.974315",
     "exception": false,
     "start_time": "2020-11-27T11:52:31.929068",
     "status": "completed"
    },
    "tags": []
   },
   "outputs": [
    {
     "data": {
      "text/plain": [
       "Make                11188\n",
       "Model               11188\n",
       "Year                11188\n",
       "Engine Fuel Type    11185\n",
       "HP                  11119\n",
       "Cylinders           11158\n",
       "Transmission        11188\n",
       "Drive Mode          11188\n",
       "Number of Doors     11182\n",
       "Market Category      7823\n",
       "Vehicle Style       11188\n",
       "MPG-H               11188\n",
       "MPG-C               11188\n",
       "Popularity          11188\n",
       "Price               11188\n",
       "dtype: int64"
      ]
     },
     "execution_count": 29,
     "metadata": {},
     "output_type": "execute_result"
    }
   ],
   "source": [
    "df.count()"
   ]
  },
  {
   "cell_type": "markdown",
   "metadata": {
    "id": "zCLUdZOQ1PDP",
    "papermill": {
     "duration": 0.032655,
     "end_time": "2020-11-27T11:52:32.040143",
     "exception": false,
     "start_time": "2020-11-27T11:52:32.007488",
     "status": "completed"
    },
    "tags": []
   },
   "source": [
    "\n",
    "\n",
    "---\n",
    "\n"
   ]
  },
  {
   "cell_type": "markdown",
   "metadata": {
    "id": "JkXUQtyQW3Dy",
    "papermill": {
     "duration": 0.033049,
     "end_time": "2020-11-27T11:52:32.106118",
     "exception": false,
     "start_time": "2020-11-27T11:52:32.073069",
     "status": "completed"
    },
    "tags": []
   },
   "source": [
    "## **Dropping the missing or null values.**"
   ]
  },
  {
   "cell_type": "code",
   "execution_count": 31,
   "metadata": {
    "colab": {
     "base_uri": "https://localhost:8080/"
    },
    "executionInfo": {
     "elapsed": 366,
     "status": "ok",
     "timestamp": 1688573413459,
     "user": {
      "displayName": "Muhammad Haris",
      "userId": "13172555328013255752"
     },
     "user_tz": -300
    },
    "id": "Tzdlg-1OWjMz",
    "outputId": "df2c506c-1345-4fe5-eb4e-bbab3c91c04b",
    "papermill": {
     "duration": 0.045703,
     "end_time": "2020-11-27T11:52:32.252054",
     "exception": false,
     "start_time": "2020-11-27T11:52:32.206351",
     "status": "completed"
    },
    "tags": []
   },
   "outputs": [
    {
     "name": "stdout",
     "output_type": "stream",
     "text": [
      "Make                   0\n",
      "Model                  0\n",
      "Year                   0\n",
      "Engine Fuel Type       3\n",
      "HP                    69\n",
      "Cylinders             30\n",
      "Transmission           0\n",
      "Drive Mode             0\n",
      "Number of Doors        6\n",
      "Market Category     3365\n",
      "Vehicle Style          0\n",
      "MPG-H                  0\n",
      "MPG-C                  0\n",
      "Popularity             0\n",
      "Price                  0\n",
      "dtype: int64\n"
     ]
    }
   ],
   "source": [
    "print(df.isnull().sum())"
   ]
  },
  {
   "cell_type": "code",
   "execution_count": 33,
   "metadata": {
    "colab": {
     "base_uri": "https://localhost:8080/"
    },
    "executionInfo": {
     "elapsed": 363,
     "status": "ok",
     "timestamp": 1688573514208,
     "user": {
      "displayName": "Muhammad Haris",
      "userId": "13172555328013255752"
     },
     "user_tz": -300
    },
    "id": "KbbV0xHPWoad",
    "outputId": "1ce9343f-cbd7-4c64-e429-7a85568ef1db",
    "papermill": {
     "duration": 0.071586,
     "end_time": "2020-11-27T11:52:32.424366",
     "exception": false,
     "start_time": "2020-11-27T11:52:32.352780",
     "status": "completed"
    },
    "tags": []
   },
   "outputs": [
    {
     "data": {
      "text/plain": [
       "Make                7735\n",
       "Model               7735\n",
       "Year                7735\n",
       "Engine Fuel Type    7735\n",
       "HP                  7735\n",
       "Cylinders           7735\n",
       "Transmission        7735\n",
       "Drive Mode          7735\n",
       "Number of Doors     7735\n",
       "Market Category     7735\n",
       "Vehicle Style       7735\n",
       "MPG-H               7735\n",
       "MPG-C               7735\n",
       "Popularity          7735\n",
       "Price               7735\n",
       "dtype: int64"
      ]
     },
     "execution_count": 33,
     "metadata": {},
     "output_type": "execute_result"
    }
   ],
   "source": [
    "df = df.dropna()    # Dropping the missing values.\n",
    "df.count()"
   ]
  },
  {
   "cell_type": "markdown",
   "metadata": {
    "id": "2t7L9l2mJSoX",
    "papermill": {
     "duration": 0.033726,
     "end_time": "2020-11-27T11:52:32.496715",
     "exception": false,
     "start_time": "2020-11-27T11:52:32.462989",
     "status": "completed"
    },
    "tags": []
   },
   "source": [
    "Now we have removed all the rows which contain the Null or N/A values (Cylinders and Horsepower (HP))."
   ]
  },
  {
   "cell_type": "code",
   "execution_count": 35,
   "metadata": {
    "colab": {
     "base_uri": "https://localhost:8080/"
    },
    "executionInfo": {
     "elapsed": 584,
     "status": "ok",
     "timestamp": 1688573528913,
     "user": {
      "displayName": "Muhammad Haris",
      "userId": "13172555328013255752"
     },
     "user_tz": -300
    },
    "id": "V-DmX1O4Wtox",
    "outputId": "6bda96db-91c9-4542-c8b3-614bfdfb96ee",
    "papermill": {
     "duration": 0.045646,
     "end_time": "2020-11-27T11:52:32.576197",
     "exception": false,
     "start_time": "2020-11-27T11:52:32.530551",
     "status": "completed"
    },
    "tags": []
   },
   "outputs": [
    {
     "name": "stdout",
     "output_type": "stream",
     "text": [
      "Make                0\n",
      "Model               0\n",
      "Year                0\n",
      "Engine Fuel Type    0\n",
      "HP                  0\n",
      "Cylinders           0\n",
      "Transmission        0\n",
      "Drive Mode          0\n",
      "Number of Doors     0\n",
      "Market Category     0\n",
      "Vehicle Style       0\n",
      "MPG-H               0\n",
      "MPG-C               0\n",
      "Popularity          0\n",
      "Price               0\n",
      "dtype: int64\n"
     ]
    }
   ],
   "source": [
    "print(df.isnull().sum())   # After dropping the values"
   ]
  },
  {
   "cell_type": "markdown",
   "metadata": {
    "id": "bk8RAHqQJVJK",
    "papermill": {
     "duration": 0.033656,
     "end_time": "2020-11-27T11:52:32.644093",
     "exception": false,
     "start_time": "2020-11-27T11:52:32.610437",
     "status": "completed"
    },
    "tags": []
   },
   "source": [
    "\n",
    "\n",
    "---\n",
    "\n"
   ]
  },
  {
   "cell_type": "markdown",
   "metadata": {
    "id": "8Py3sQc_ZxyU",
    "papermill": {
     "duration": 0.034018,
     "end_time": "2020-11-27T11:52:32.712147",
     "exception": false,
     "start_time": "2020-11-27T11:52:32.678129",
     "status": "completed"
    },
    "tags": []
   },
   "source": [
    "## **Detecting Outliers**"
   ]
  },
  {
   "cell_type": "code",
   "execution_count": 37,
   "metadata": {
    "colab": {
     "base_uri": "https://localhost:8080/",
     "height": 476
    },
    "executionInfo": {
     "elapsed": 1175,
     "status": "ok",
     "timestamp": 1688573582600,
     "user": {
      "displayName": "Muhammad Haris",
      "userId": "13172555328013255752"
     },
     "user_tz": -300
    },
    "id": "vtxX_y6zZ2ri",
    "outputId": "6d4d2d85-e432-4fc4-f693-73062c172bce",
    "papermill": {
     "duration": 0.283132,
     "end_time": "2020-11-27T11:52:33.097091",
     "exception": false,
     "start_time": "2020-11-27T11:52:32.813959",
     "status": "completed"
    },
    "tags": []
   },
   "outputs": [
    {
     "data": {
      "text/plain": [
       "<Axes: xlabel='Price'>"
      ]
     },
     "execution_count": 37,
     "metadata": {},
     "output_type": "execute_result"
    },
    {
     "data": {
      "image/png": "[encoded data removed]",
      "text/plain": [
       "<Figure size 640x480 with 1 Axes>"
      ]
     },
     "metadata": {},
     "output_type": "display_data"
    }
   ],
   "source": [
    "sns.boxplot(x=df['Price'])"
   ]
  },
  {
   "cell_type": "code",
   "execution_count": 39,
   "metadata": {
    "colab": {
     "base_uri": "https://localhost:8080/",
     "height": 476
    },
    "executionInfo": {
     "elapsed": 382,
     "status": "ok",
     "timestamp": 1688573594927,
     "user": {
      "displayName": "Muhammad Haris",
      "userId": "13172555328013255752"
     },
     "user_tz": -300
    },
    "id": "9HtvQYVHZ8u5",
    "outputId": "1090e2d4-f481-430b-e1e0-1ff81f38df9c",
    "papermill": {
     "duration": 0.237157,
     "end_time": "2020-11-27T11:52:33.370221",
     "exception": false,
     "start_time": "2020-11-27T11:52:33.133064",
     "status": "completed"
    },
    "tags": []
   },
   "outputs": [
    {
     "data": {
      "text/plain": [
       "<Axes: xlabel='HP'>"
      ]
     },
     "execution_count": 39,
     "metadata": {},
     "output_type": "execute_result"
    },
    {
     "data": {
      "image/png": "[encoded data removed]",
      "text/plain": [
       "<Figure size 640x480 with 1 Axes>"
      ]
     },
     "metadata": {},
     "output_type": "display_data"
    }
   ],
   "source": [
    "sns.boxplot(x=df['HP'])"
   ]
  },
  {
   "cell_type": "code",
   "execution_count": 41,
   "metadata": {
    "colab": {
     "base_uri": "https://localhost:8080/",
     "height": 476
    },
    "executionInfo": {
     "elapsed": 452,
     "status": "ok",
     "timestamp": 1688573769068,
     "user": {
      "displayName": "Muhammad Haris",
      "userId": "13172555328013255752"
     },
     "user_tz": -300
    },
    "id": "Xz3MwIjbaBUr",
    "outputId": "f50ea84a-b272-486c-9e7e-da84e65bb30c",
    "papermill": {
     "duration": 0.262939,
     "end_time": "2020-11-27T11:52:33.670253",
     "exception": false,
     "start_time": "2020-11-27T11:52:33.407314",
     "status": "completed"
    },
    "tags": []
   },
   "outputs": [
    {
     "data": {
      "text/plain": [
       "<Axes: xlabel='Cylinders'>"
      ]
     },
     "execution_count": 41,
     "metadata": {},
     "output_type": "execute_result"
    },
    {
     "data": {
      "image/png": "[encoded data removed]",
      "text/plain": [
       "<Figure size 640x480 with 1 Axes>"
      ]
     },
     "metadata": {},
     "output_type": "display_data"
    }
   ],
   "source": [
    "sns.boxplot(x=df['Cylinders'])"
   ]
  },
  {
   "cell_type": "code",
   "execution_count": 43,
   "metadata": {},
   "outputs": [
    {
     "data": {
      "text/plain": [
       "Make\n",
       "Chevrolet        608\n",
       "Ford             485\n",
       "Volkswagen       411\n",
       "Cadillac         396\n",
       "Mercedes-Benz    340\n",
       "Infiniti         328\n",
       "BMW              324\n",
       "Audi             321\n",
       "Nissan           308\n",
       "Dodge            298\n",
       "Toyota           295\n",
       "GMC              270\n",
       "Honda            269\n",
       "Volvo            266\n",
       "Acura            246\n",
       "Mazda            234\n",
       "Lexus            202\n",
       "Subaru           197\n",
       "Hyundai          190\n",
       "Lincoln          152\n",
       "Land Rover       139\n",
       "Porsche          136\n",
       "Buick            125\n",
       "Mitsubishi       120\n",
       "Saab             109\n",
       "Kia              109\n",
       "Chrysler         108\n",
       "Suzuki            96\n",
       "Aston Martin      91\n",
       "Pontiac           77\n",
       "Bentley           74\n",
       "Ferrari           68\n",
       "Maserati          55\n",
       "Lamborghini       52\n",
       "Scion             48\n",
       "FIAT              38\n",
       "Plymouth          37\n",
       "Rolls-Royce       31\n",
       "Lotus             28\n",
       "HUMMER            17\n",
       "Maybach           16\n",
       "McLaren            5\n",
       "Alfa Romeo         5\n",
       "Bugatti            3\n",
       "Genesis            3\n",
       "Oldsmobile         3\n",
       "Spyker             2\n",
       "Name: count, dtype: int64"
      ]
     },
     "execution_count": 43,
     "metadata": {},
     "output_type": "execute_result"
    }
   ],
   "source": [
    "df.Make.value_counts()"
   ]
  },
  {
   "cell_type": "code",
   "execution_count": 47,
   "metadata": {
    "id": "dAnd4DSyeHDb",
    "papermill": {
     "duration": 0.645152,
     "end_time": "2020-11-27T11:52:34.927853",
     "exception": false,
     "start_time": "2020-11-27T11:52:34.282701",
     "status": "completed"
    },
    "tags": []
   },
   "outputs": [
    {
     "data": {
      "image/png": "[encoded data removed]",
      "text/plain": [
       "<Figure size 1000x500 with 1 Axes>"
      ]
     },
     "metadata": {},
     "output_type": "display_data"
    }
   ],
   "source": [
    "df.Make.value_counts().plot(kind='bar', figsize=(10,5))\n",
    "plt.title(\"Number of cars by make\")\n",
    "plt.ylabel('Number of cars')\n",
    "plt.xlabel('Make')\n",
    "plt.show()"
   ]
  },
  {
   "cell_type": "code",
   "execution_count": 49,
   "metadata": {},
   "outputs": [
    {
     "data": {
      "image/png": "[encoded data removed]",
      "text/plain": [
       "<Figure size 640x480 with 1 Axes>"
      ]
     },
     "metadata": {},
     "output_type": "display_data"
    }
   ],
   "source": [
    "df.Year.value_counts().plot(kind='pie')\n",
    "plt.show()"
   ]
  },
  {
   "cell_type": "code",
   "execution_count": 51,
   "metadata": {
    "id": "Pj8Yp3ZeN6oC"
   },
   "outputs": [
    {
     "data": {
      "image/png": "[encoded data removed]",
      "text/plain": [
       "<Figure size 640x480 with 1 Axes>"
      ]
     },
     "metadata": {},
     "output_type": "display_data"
    }
   ],
   "source": [
    "df.Year.value_counts().plot(kind='bar')\n",
    "plt.show()"
   ]
  },
  {
   "cell_type": "code",
   "execution_count": null,
   "metadata": {
    "id": "xyYGlEsFOm4q"
   },
   "outputs": [],
   "source": [
    "df"
   ]
  },
  {
   "cell_type": "code",
   "execution_count": 53,
   "metadata": {},
   "outputs": [
    {
     "data": {
      "text/plain": [
       "Market Category\n",
       "Crossover                                          1068\n",
       "Flex Fuel                                           855\n",
       "Luxury                                              815\n",
       "Luxury,Performance                                  659\n",
       "Hatchback                                           547\n",
       "                                                   ... \n",
       "Crossover,Exotic,Luxury,High-Performance              1\n",
       "Crossover,Exotic,Luxury,Performance                   1\n",
       "Exotic,Luxury,High-Performance,Hybrid                 1\n",
       "Flex Fuel,Factory Tuner,Luxury,High-Performance       1\n",
       "Performance,Hybrid                                    1\n",
       "Name: count, Length: 70, dtype: int64"
      ]
     },
     "execution_count": 53,
     "metadata": {},
     "output_type": "execute_result"
    }
   ],
   "source": [
    "df[\"Market Category\"].value_counts()"
   ]
  },
  {
   "cell_type": "code",
   "execution_count": 63,
   "metadata": {
    "id": "CA_zFmDQOkox"
   },
   "outputs": [
    {
     "data": {
      "text/plain": [
       "<Axes: xlabel='Market Category'>"
      ]
     },
     "execution_count": 63,
     "metadata": {},
     "output_type": "execute_result"
    },
    {
     "data": {
      "image/png": "[encoded data removed]",
      "text/plain": [
       "<Figure size 1500x1000 with 1 Axes>"
      ]
     },
     "metadata": {},
     "output_type": "display_data"
    }
   ],
   "source": [
    "df[\"Market Category\"].value_counts().nlargest(10).plot(kind='bar', figsize=(15, 10)) # figsize=(15, 10)"
   ]
  },
  {
   "cell_type": "code",
   "execution_count": null,
   "metadata": {},
   "outputs": [],
   "source": []
  }
 ],
 "metadata": {
  "colab": {
   "provenance": []
  },
  "kernelspec": {
   "display_name": "Python 3 (ipykernel)",
   "language": "python",
   "name": "python3"
  },
  "language_info": {
   "codemirror_mode": {
    "name": "ipython",
    "version": 3
   },
   "file_extension": ".py",
   "mimetype": "text/x-python",
   "name": "python",
   "nbconvert_exporter": "python",
   "pygments_lexer": "ipython3",
   "version": "3.12.4"
  },
  "papermill": {
   "duration": 12.885345,
   "end_time": "2020-11-27T11:52:37.154623",
   "environment_variables": {},
   "exception": null,
   "input_path": "__notebook__.ipynb",
   "output_path": "__notebook__.ipynb",
   "parameters": {},
   "start_time": "2020-11-27T11:52:24.269278",
   "version": "2.1.0"
  }
 },
 "nbformat": 4,
 "nbformat_minor": 4
}
