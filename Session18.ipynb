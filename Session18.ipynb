{
 "cells": [
  {
   "cell_type": "markdown",
   "id": "98c22b59-7264-4755-ac55-360ed4fcad11",
   "metadata": {},
   "source": [
    "# Numpy"
   ]
  },
  {
   "cell_type": "code",
   "execution_count": 4,
   "id": "4bd4744b-82b1-4a52-867c-705cabe40828",
   "metadata": {},
   "outputs": [],
   "source": [
    "import math\n",
    "import os\n",
    "import sys\n",
    "import time"
   ]
  },
  {
   "cell_type": "code",
   "execution_count": 6,
   "id": "fa9bb3eb-7fac-493d-bb05-faba253706a8",
   "metadata": {},
   "outputs": [
    {
     "name": "stdout",
     "output_type": "stream",
     "text": [
      "[1, 2, 3, 4, 5]\n",
      "[1 2 3 4 5]\n"
     ]
    }
   ],
   "source": [
    "import numpy as np\n",
    "\n",
    "plist = [1,2,3,4,5]\n",
    "narr = np.array([1,2,3,4,5])\n",
    "\n",
    "print(plist)\n",
    "print(narr)"
   ]
  },
  {
   "cell_type": "code",
   "execution_count": 8,
   "id": "b24220c1-6804-4181-b3a8-8599562fbc7c",
   "metadata": {},
   "outputs": [
    {
     "name": "stdout",
     "output_type": "stream",
     "text": [
      "3\n",
      "[1 2 3]\n",
      "5\n"
     ]
    }
   ],
   "source": [
    "print(narr[2])\n",
    "print(narr[0:3])\n",
    "print(narr[4])"
   ]
  },
  {
   "cell_type": "code",
   "execution_count": 10,
   "id": "faa577e5-a8a4-420a-8bc0-5817d3189352",
   "metadata": {},
   "outputs": [
    {
     "data": {
      "text/plain": [
       "['T',\n",
       " '__abs__',\n",
       " '__add__',\n",
       " '__and__',\n",
       " '__array__',\n",
       " '__array_finalize__',\n",
       " '__array_function__',\n",
       " '__array_interface__',\n",
       " '__array_prepare__',\n",
       " '__array_priority__',\n",
       " '__array_struct__',\n",
       " '__array_ufunc__',\n",
       " '__array_wrap__',\n",
       " '__bool__',\n",
       " '__buffer__',\n",
       " '__class__',\n",
       " '__class_getitem__',\n",
       " '__complex__',\n",
       " '__contains__',\n",
       " '__copy__',\n",
       " '__deepcopy__',\n",
       " '__delattr__',\n",
       " '__delitem__',\n",
       " '__dir__',\n",
       " '__divmod__',\n",
       " '__dlpack__',\n",
       " '__dlpack_device__',\n",
       " '__doc__',\n",
       " '__eq__',\n",
       " '__float__',\n",
       " '__floordiv__',\n",
       " '__format__',\n",
       " '__ge__',\n",
       " '__getattribute__',\n",
       " '__getitem__',\n",
       " '__getstate__',\n",
       " '__gt__',\n",
       " '__hash__',\n",
       " '__iadd__',\n",
       " '__iand__',\n",
       " '__ifloordiv__',\n",
       " '__ilshift__',\n",
       " '__imatmul__',\n",
       " '__imod__',\n",
       " '__imul__',\n",
       " '__index__',\n",
       " '__init__',\n",
       " '__init_subclass__',\n",
       " '__int__',\n",
       " '__invert__',\n",
       " '__ior__',\n",
       " '__ipow__',\n",
       " '__irshift__',\n",
       " '__isub__',\n",
       " '__iter__',\n",
       " '__itruediv__',\n",
       " '__ixor__',\n",
       " '__le__',\n",
       " '__len__',\n",
       " '__lshift__',\n",
       " '__lt__',\n",
       " '__matmul__',\n",
       " '__mod__',\n",
       " '__mul__',\n",
       " '__ne__',\n",
       " '__neg__',\n",
       " '__new__',\n",
       " '__or__',\n",
       " '__pos__',\n",
       " '__pow__',\n",
       " '__radd__',\n",
       " '__rand__',\n",
       " '__rdivmod__',\n",
       " '__reduce__',\n",
       " '__reduce_ex__',\n",
       " '__repr__',\n",
       " '__rfloordiv__',\n",
       " '__rlshift__',\n",
       " '__rmatmul__',\n",
       " '__rmod__',\n",
       " '__rmul__',\n",
       " '__ror__',\n",
       " '__rpow__',\n",
       " '__rrshift__',\n",
       " '__rshift__',\n",
       " '__rsub__',\n",
       " '__rtruediv__',\n",
       " '__rxor__',\n",
       " '__setattr__',\n",
       " '__setitem__',\n",
       " '__setstate__',\n",
       " '__sizeof__',\n",
       " '__str__',\n",
       " '__sub__',\n",
       " '__subclasshook__',\n",
       " '__truediv__',\n",
       " '__xor__',\n",
       " 'all',\n",
       " 'any',\n",
       " 'argmax',\n",
       " 'argmin',\n",
       " 'argpartition',\n",
       " 'argsort',\n",
       " 'astype',\n",
       " 'base',\n",
       " 'byteswap',\n",
       " 'choose',\n",
       " 'clip',\n",
       " 'compress',\n",
       " 'conj',\n",
       " 'conjugate',\n",
       " 'copy',\n",
       " 'ctypes',\n",
       " 'cumprod',\n",
       " 'cumsum',\n",
       " 'data',\n",
       " 'diagonal',\n",
       " 'dot',\n",
       " 'dtype',\n",
       " 'dump',\n",
       " 'dumps',\n",
       " 'fill',\n",
       " 'flags',\n",
       " 'flat',\n",
       " 'flatten',\n",
       " 'getfield',\n",
       " 'imag',\n",
       " 'item',\n",
       " 'itemset',\n",
       " 'itemsize',\n",
       " 'max',\n",
       " 'mean',\n",
       " 'min',\n",
       " 'nbytes',\n",
       " 'ndim',\n",
       " 'newbyteorder',\n",
       " 'nonzero',\n",
       " 'partition',\n",
       " 'prod',\n",
       " 'ptp',\n",
       " 'put',\n",
       " 'ravel',\n",
       " 'real',\n",
       " 'repeat',\n",
       " 'reshape',\n",
       " 'resize',\n",
       " 'round',\n",
       " 'searchsorted',\n",
       " 'setfield',\n",
       " 'setflags',\n",
       " 'shape',\n",
       " 'size',\n",
       " 'sort',\n",
       " 'squeeze',\n",
       " 'std',\n",
       " 'strides',\n",
       " 'sum',\n",
       " 'swapaxes',\n",
       " 'take',\n",
       " 'tobytes',\n",
       " 'tofile',\n",
       " 'tolist',\n",
       " 'tostring',\n",
       " 'trace',\n",
       " 'transpose',\n",
       " 'var',\n",
       " 'view']"
      ]
     },
     "execution_count": 10,
     "metadata": {},
     "output_type": "execute_result"
    }
   ],
   "source": [
    "dir(narr)"
   ]
  },
  {
   "cell_type": "code",
   "execution_count": 12,
   "id": "08ec3bfd-582f-4fc4-b4a4-0dad1c1a9013",
   "metadata": {},
   "outputs": [
    {
     "data": {
      "text/plain": [
       "array([[1, 2, 3, 4],\n",
       "       [2, 4, 6, 8]])"
      ]
     },
     "execution_count": 12,
     "metadata": {},
     "output_type": "execute_result"
    }
   ],
   "source": [
    "m_dim2 = np.array([[1,2,3,4],\n",
    "                  [2,4,6,8]])\n",
    "\n",
    "m_dim2"
   ]
  },
  {
   "cell_type": "code",
   "execution_count": 14,
   "id": "109d9124-f9ea-463f-9f64-c08a48b8e96b",
   "metadata": {},
   "outputs": [
    {
     "data": {
      "text/plain": [
       "2"
      ]
     },
     "execution_count": 14,
     "metadata": {},
     "output_type": "execute_result"
    }
   ],
   "source": [
    "m_dim2.ndim"
   ]
  },
  {
   "cell_type": "code",
   "execution_count": 16,
   "id": "5c4c53d7-f2ae-495e-8de7-766bea791d42",
   "metadata": {},
   "outputs": [
    {
     "data": {
      "text/plain": [
       "1"
      ]
     },
     "execution_count": 16,
     "metadata": {},
     "output_type": "execute_result"
    }
   ],
   "source": [
    "narr.ndim"
   ]
  },
  {
   "cell_type": "code",
   "execution_count": 18,
   "id": "908a3719-4e51-497d-98ab-1e7f2e603a42",
   "metadata": {},
   "outputs": [
    {
     "data": {
      "text/plain": [
       "array([[[1, 2, 3],\n",
       "        [9, 7, 5]],\n",
       "\n",
       "       [[2, 4, 6],\n",
       "        [7, 6, 5]],\n",
       "\n",
       "       [[0, 0, 0],\n",
       "        [1, 1, 1]]])"
      ]
     },
     "execution_count": 18,
     "metadata": {},
     "output_type": "execute_result"
    }
   ],
   "source": [
    "n_dim3 = np.array([[[1,2,3],[9,7,5]],\n",
    "                  [[2,4,6],[7,6,5]],\n",
    "                  [[0,0,0],[1,1,1]]])\n",
    "\n",
    "n_dim3"
   ]
  },
  {
   "cell_type": "code",
   "execution_count": 20,
   "id": "2f09c579-33a5-4878-8eb7-22f5298168e9",
   "metadata": {},
   "outputs": [
    {
     "data": {
      "text/plain": [
       "3"
      ]
     },
     "execution_count": 20,
     "metadata": {},
     "output_type": "execute_result"
    }
   ],
   "source": [
    "n_dim3.ndim"
   ]
  },
  {
   "cell_type": "code",
   "execution_count": 22,
   "id": "1e726e5a-d1dc-4b8e-b1b6-b7e2be901893",
   "metadata": {},
   "outputs": [
    {
     "data": {
      "text/plain": [
       "array([1, 2, 3, 4])"
      ]
     },
     "execution_count": 22,
     "metadata": {},
     "output_type": "execute_result"
    }
   ],
   "source": [
    "m_dim2[0]"
   ]
  },
  {
   "cell_type": "code",
   "execution_count": 24,
   "id": "f8e66eb7-0fe0-4780-ac58-78c872fbebb5",
   "metadata": {},
   "outputs": [
    {
     "data": {
      "text/plain": [
       "array([2, 4, 6, 8])"
      ]
     },
     "execution_count": 24,
     "metadata": {},
     "output_type": "execute_result"
    }
   ],
   "source": [
    "m_dim2[1]"
   ]
  },
  {
   "cell_type": "code",
   "execution_count": 26,
   "id": "01124bd2-f0b5-4aa6-b1ec-37c9534c0379",
   "metadata": {},
   "outputs": [
    {
     "data": {
      "text/plain": [
       "6"
      ]
     },
     "execution_count": 26,
     "metadata": {},
     "output_type": "execute_result"
    }
   ],
   "source": [
    "m_dim2[1][2]"
   ]
  },
  {
   "cell_type": "code",
   "execution_count": 28,
   "id": "3eadee81-a1ec-483c-ab6b-784df7f65cfe",
   "metadata": {},
   "outputs": [
    {
     "name": "stdout",
     "output_type": "stream",
     "text": [
      "(5,)\n",
      "(2, 4)\n",
      "(3, 2, 3)\n"
     ]
    }
   ],
   "source": [
    "print(narr.shape)\n",
    "print(m_dim2.shape)\n",
    "print(n_dim3.shape)"
   ]
  },
  {
   "cell_type": "code",
   "execution_count": 30,
   "id": "08d4655a-dabf-44f7-a0af-de28fa0a6790",
   "metadata": {},
   "outputs": [
    {
     "data": {
      "text/plain": [
       "array([[[1, 2, 3],\n",
       "        [9, 7, 5]],\n",
       "\n",
       "       [[2, 4, 6],\n",
       "        [7, 6, 5]],\n",
       "\n",
       "       [[0, 0, 0],\n",
       "        [1, 1, 1]]])"
      ]
     },
     "execution_count": 30,
     "metadata": {},
     "output_type": "execute_result"
    }
   ],
   "source": [
    "n_dim3"
   ]
  },
  {
   "cell_type": "code",
   "execution_count": 32,
   "id": "dddb9635-4be1-46f2-abdd-eb2504da5cc0",
   "metadata": {},
   "outputs": [
    {
     "data": {
      "text/plain": [
       "15"
      ]
     },
     "execution_count": 32,
     "metadata": {},
     "output_type": "execute_result"
    }
   ],
   "source": [
    "narr.sum()"
   ]
  },
  {
   "cell_type": "code",
   "execution_count": 34,
   "id": "dcd0dc7d-1c8e-413b-a5a3-4c42f97c4d88",
   "metadata": {},
   "outputs": [
    {
     "data": {
      "text/plain": [
       "array([1, 2, 3, 4, 5])"
      ]
     },
     "execution_count": 34,
     "metadata": {},
     "output_type": "execute_result"
    }
   ],
   "source": [
    "narr"
   ]
  },
  {
   "cell_type": "code",
   "execution_count": 36,
   "id": "96da1151-349d-4d28-9f46-7201b3703a31",
   "metadata": {},
   "outputs": [
    {
     "data": {
      "text/plain": [
       "1"
      ]
     },
     "execution_count": 36,
     "metadata": {},
     "output_type": "execute_result"
    }
   ],
   "source": [
    "narr.min()"
   ]
  },
  {
   "cell_type": "code",
   "execution_count": 38,
   "id": "09860251-e3b5-4ce2-af69-257fa9bcd0e6",
   "metadata": {},
   "outputs": [
    {
     "data": {
      "text/plain": [
       "5"
      ]
     },
     "execution_count": 38,
     "metadata": {},
     "output_type": "execute_result"
    }
   ],
   "source": [
    "narr.max()"
   ]
  },
  {
   "cell_type": "code",
   "execution_count": 42,
   "id": "19f8874f-a1b2-4279-997c-fddd25f747b4",
   "metadata": {},
   "outputs": [
    {
     "data": {
      "text/plain": [
       "1.4142135623730951"
      ]
     },
     "execution_count": 42,
     "metadata": {},
     "output_type": "execute_result"
    }
   ],
   "source": [
    "narr.std()"
   ]
  },
  {
   "cell_type": "code",
   "execution_count": 44,
   "id": "bc4404f7-3d58-4976-8b9e-13ba0d951908",
   "metadata": {},
   "outputs": [
    {
     "data": {
      "text/plain": [
       "dtype('int32')"
      ]
     },
     "execution_count": 44,
     "metadata": {},
     "output_type": "execute_result"
    }
   ],
   "source": [
    "narr.dtype"
   ]
  },
  {
   "cell_type": "code",
   "execution_count": 52,
   "id": "31c49b73-2bd6-49ec-9c4a-185e50ff3067",
   "metadata": {},
   "outputs": [
    {
     "name": "stdout",
     "output_type": "stream",
     "text": [
      "[500, 505, 510, 515, 520, 525, 530, 535, 540, 545, 550, 555, 560, 565, 570, 575, 580, 585, 590, 595, 600, 605, 610, 615, 620, 625, 630, 635, 640, 645, 650, 655, 660, 665, 670, 675, 680, 685, 690, 695, 700, 705, 710, 715, 720, 725, 730, 735, 740, 745, 750, 755, 760, 765, 770, 775, 780, 785, 790, 795]\n",
      "[150 151 152 153 154 155 156 157 158 159]\n"
     ]
    }
   ],
   "source": [
    "p1 = range(500,800,5)\n",
    "n1 = np.arange(1000)\n",
    "\n",
    "print(list(p1))\n",
    "print(n1[150:160])"
   ]
  },
  {
   "cell_type": "code",
   "execution_count": 60,
   "id": "bd72e7a7-f504-4d68-ae56-1f90b7593f98",
   "metadata": {},
   "outputs": [
    {
     "name": "stdout",
     "output_type": "stream",
     "text": [
      "28\n",
      "28\n",
      "44\n",
      "42\n",
      "Python List consume:  28000\n",
      "Numpy Array consume:  4000\n"
     ]
    }
   ],
   "source": [
    "p1 = range(1000)\n",
    "n1 = np.arange(1000)\n",
    "\n",
    "\n",
    "print(sys.getsizeof(2))\n",
    "print(sys.getsizeof(245))\n",
    "print(sys.getsizeof('sdf'))\n",
    "print(sys.getsizeof('d'))\n",
    "\n",
    "print(\"Python List consume: \", sys.getsizeof(p1[2])*len(p1))\n",
    "print(\"Numpy Array consume: \", n1.itemsize * n1.size)"
   ]
  },
  {
   "cell_type": "code",
   "execution_count": 62,
   "id": "112187bf-3b3e-47f7-b3bf-7a96823f29ba",
   "metadata": {},
   "outputs": [
    {
     "data": {
      "text/plain": [
       "array([ 0,  2,  4,  6,  8, 10, 12, 14, 16, 18])"
      ]
     },
     "execution_count": 62,
     "metadata": {},
     "output_type": "execute_result"
    }
   ],
   "source": [
    "\n",
    "\n",
    "nt = n2 + n3\n",
    "print(nt[0:10])"
   ]
  },
  {
   "cell_type": "code",
   "execution_count": 66,
   "id": "0d909a45-11ac-4734-a367-7410b1dccff6",
   "metadata": {},
   "outputs": [
    {
     "data": {
      "text/plain": [
       "array([ 0,  1,  4,  9, 16, 25, 36, 49, 64, 81])"
      ]
     },
     "execution_count": 66,
     "metadata": {},
     "output_type": "execute_result"
    }
   ],
   "source": [
    "nmt = n2 * n3\n",
    "nmt[0:10]"
   ]
  },
  {
   "cell_type": "code",
   "execution_count": 70,
   "id": "5844389d-2bed-414f-9558-0b3dd64fdf11",
   "metadata": {},
   "outputs": [
    {
     "data": {
      "text/plain": [
       "array([0, 0, 0, 0, 0, 0, 0, 0, 0, 0, 0, 0, 0, 0, 0])"
      ]
     },
     "execution_count": 70,
     "metadata": {},
     "output_type": "execute_result"
    }
   ],
   "source": [
    "nst = n3 - n2\n",
    "nst[0:15]"
   ]
  },
  {
   "cell_type": "code",
   "execution_count": 72,
   "id": "23caddd6-917c-4f78-999e-f67896733d4d",
   "metadata": {},
   "outputs": [
    {
     "data": {
      "text/plain": [
       "array([ 5, 10, 15, 20, 25])"
      ]
     },
     "execution_count": 72,
     "metadata": {},
     "output_type": "execute_result"
    }
   ],
   "source": [
    "new_arr = narr * 5\n",
    "new_arr"
   ]
  },
  {
   "cell_type": "code",
   "execution_count": 84,
   "id": "54df7a9e-9c6c-44ea-9874-dfee325d7c52",
   "metadata": {},
   "outputs": [
    {
     "name": "stdout",
     "output_type": "stream",
     "text": [
      "1726922513.6268294\n",
      "1726922516.410715\n",
      "Python List took time: 2.7838857173919678\n",
      "Python List took time: 1.20078706741333\n",
      "Numpy Array took time: 0.019060134887695312\n"
     ]
    }
   ],
   "source": [
    "size = 10000000\n",
    "p2 = range(size)\n",
    "p3 = range(size)\n",
    "\n",
    "n2 = np.arange(size)\n",
    "n3 = np.arange(size)\n",
    "\n",
    "start_time = time.time()\n",
    "print(start_time)\n",
    "p5 = []\n",
    "for x,y in zip(p2, p3):\n",
    "    p5.append(x+y)\n",
    "print(time.time())\n",
    "print(\"Python List took time:\", (time.time() - start_time))\n",
    "\n",
    "start_time = time.time()\n",
    "p4 = [(x+y) for x,y in zip(p2, p3)]\n",
    "print(\"Python List took time:\", (time.time() - start_time))\n",
    "\n",
    "start_time = time.time()\n",
    "n5 = n2 + n3\n",
    "print(\"Numpy Array took time:\", (time.time() - start_time))\n",
    "    "
   ]
  },
  {
   "cell_type": "code",
   "execution_count": 82,
   "id": "5e49000a-b8df-43c1-bac6-3acccbca54bc",
   "metadata": {},
   "outputs": [
    {
     "name": "stdout",
     "output_type": "stream",
     "text": [
      "[0, 2, 4, 6, 8, 10, 12, 14, 16, 18, 20, 22, 24, 26, 28, 30, 32, 34, 36, 38]\n",
      "[ 0  2  4  6  8 10 12 14 16 18 20 22 24 26 28 30 32 34 36 38]\n"
     ]
    }
   ],
   "source": [
    "print(p5[0:20])\n",
    "print(n5[0:20])"
   ]
  },
  {
   "cell_type": "code",
   "execution_count": null,
   "id": "c962353c-7e10-452d-b8a3-8a100e525249",
   "metadata": {},
   "outputs": [],
   "source": [
    "dir(sys)"
   ]
  },
  {
   "cell_type": "code",
   "execution_count": null,
   "id": "14364b6d-f779-4e57-9a9b-dbf5aff9b289",
   "metadata": {},
   "outputs": [],
   "source": [
    "dir(math)"
   ]
  },
  {
   "cell_type": "code",
   "execution_count": null,
   "id": "99befc3a-69d7-4b18-a00b-e7aeb3cc6a2b",
   "metadata": {},
   "outputs": [],
   "source": [
    "dir(os)"
   ]
  },
  {
   "cell_type": "code",
   "execution_count": null,
   "id": "2e433ba6-0253-4096-8937-f77b4e1451ad",
   "metadata": {},
   "outputs": [],
   "source": [
    "dir(time)"
   ]
  }
 ],
 "metadata": {
  "kernelspec": {
   "display_name": "Python 3 (ipykernel)",
   "language": "python",
   "name": "python3"
  },
  "language_info": {
   "codemirror_mode": {
    "name": "ipython",
    "version": 3
   },
   "file_extension": ".py",
   "mimetype": "text/x-python",
   "name": "python",
   "nbconvert_exporter": "python",
   "pygments_lexer": "ipython3",
   "version": "3.12.4"
  }
 },
 "nbformat": 4,
 "nbformat_minor": 5
}
