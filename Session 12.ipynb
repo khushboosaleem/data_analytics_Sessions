{
 "cells": [
  {
   "cell_type": "markdown",
   "id": "f58c8a2f-decd-4e48-aea0-b8c5bd269dba",
   "metadata": {},
   "source": [
    "# Function"
   ]
  },
  {
   "cell_type": "code",
   "execution_count": 3,
   "id": "18e67846-bf37-4839-a6e8-79c6fd155859",
   "metadata": {},
   "outputs": [
    {
     "name": "stdout",
     "output_type": "stream",
     "text": [
      "greeting\n",
      "Mr. Zubair\n",
      "greeting\n",
      "Mr. Zubair\n",
      "greeting\n",
      "Mr. Zubair\n",
      "greeting\n",
      "Mr. Zubair\n"
     ]
    }
   ],
   "source": [
    "def user_greeting():\n",
    "    print(\"greeting\")\n",
    "    print(\"Mr. Zubair\")\n",
    "\n",
    "user_greeting()\n",
    "user_greeting()\n",
    "user_greeting()\n",
    "user_greeting()"
   ]
  },
  {
   "cell_type": "code",
   "execution_count": 4,
   "id": "3d80b4de-ce93-4d4e-a0fb-ab0324c7d00e",
   "metadata": {},
   "outputs": [
    {
     "name": "stdout",
     "output_type": "stream",
     "text": [
      "something\n",
      "something\n"
     ]
    }
   ],
   "source": [
    "print(\"something\")\n",
    "def user_greeting():\n",
    "    print(\"greeting\")\n",
    "    print(\"Mr. Zubair\")\n",
    "\n",
    "#user_greeting()\n",
    "print(\"something\")"
   ]
  },
  {
   "cell_type": "markdown",
   "id": "5b34fdfd-5a94-4ba7-8b6f-99f3614b6f00",
   "metadata": {},
   "source": [
    "# passing information to function"
   ]
  },
  {
   "cell_type": "code",
   "execution_count": 5,
   "id": "95960814-f7ae-4060-b381-d6eeb9366458",
   "metadata": {},
   "outputs": [
    {
     "name": "stdout",
     "output_type": "stream",
     "text": [
      "greeting\n",
      "waleed\n"
     ]
    }
   ],
   "source": [
    "def user_greeting(user_name): # parameter\n",
    "    print(\"greeting\")\n",
    "    print(user_name)\n",
    "\n",
    "user_greeting('waleed') # passing argument"
   ]
  },
  {
   "cell_type": "code",
   "execution_count": 8,
   "id": "67b49008-0a3b-4192-8af4-dc59546eccfe",
   "metadata": {},
   "outputs": [
    {
     "name": "stdout",
     "output_type": "stream",
     "text": [
      "Greeting noman\n",
      "Greeting Shakir\n",
      "Greeting Ali\n",
      "Greeting Hassan\n"
     ]
    }
   ],
   "source": [
    "def user_greeting(user_name):\n",
    "    print(\"Greeting\" + \" \" + user_name)\n",
    "\n",
    "user_greeting('noman')\n",
    "user_greeting('Shakir')\n",
    "user_greeting('Ali')\n",
    "user_greeting('Hassan')"
   ]
  },
  {
   "cell_type": "code",
   "execution_count": 11,
   "id": "d9596779-ca28-4ede-b96d-28eb5a14f3e2",
   "metadata": {},
   "outputs": [
    {
     "ename": "TypeError",
     "evalue": "full_name() missing 1 required positional argument: 'address'",
     "output_type": "error",
     "traceback": [
      "\u001b[1;31m---------------------------------------------------------------------------\u001b[0m",
      "\u001b[1;31mTypeError\u001b[0m                                 Traceback (most recent call last)",
      "Cell \u001b[1;32mIn[11], line 5\u001b[0m\n\u001b[0;32m      2\u001b[0m     f_name \u001b[38;5;241m=\u001b[39m first_name \u001b[38;5;241m+\u001b[39m \u001b[38;5;124m\"\u001b[39m\u001b[38;5;124m \u001b[39m\u001b[38;5;124m\"\u001b[39m \u001b[38;5;241m+\u001b[39m last_name\n\u001b[0;32m      3\u001b[0m     \u001b[38;5;28mprint\u001b[39m(f_name)\n\u001b[1;32m----> 5\u001b[0m full_name(\u001b[38;5;124m\"\u001b[39m\u001b[38;5;124mNouroz\u001b[39m\u001b[38;5;124m\"\u001b[39m, \u001b[38;5;124m\"\u001b[39m\u001b[38;5;124mKhan\u001b[39m\u001b[38;5;124m\"\u001b[39m)\n",
      "\u001b[1;31mTypeError\u001b[0m: full_name() missing 1 required positional argument: 'address'"
     ]
    }
   ],
   "source": [
    "def full_name(first_name, last_name, address):\n",
    "    f_name = first_name + \" \" + last_name\n",
    "    print(f_name)\n",
    "\n",
    "full_name(\"Nouroz\", \"Khan\")"
   ]
  },
  {
   "cell_type": "code",
   "execution_count": 12,
   "id": "3f6bd229-94a8-4830-bcb1-3993aeccb116",
   "metadata": {},
   "outputs": [
    {
     "ename": "TypeError",
     "evalue": "full_name() takes 2 positional arguments but 3 were given",
     "output_type": "error",
     "traceback": [
      "\u001b[1;31m---------------------------------------------------------------------------\u001b[0m",
      "\u001b[1;31mTypeError\u001b[0m                                 Traceback (most recent call last)",
      "Cell \u001b[1;32mIn[12], line 5\u001b[0m\n\u001b[0;32m      2\u001b[0m     f_name \u001b[38;5;241m=\u001b[39m first_name \u001b[38;5;241m+\u001b[39m \u001b[38;5;124m\"\u001b[39m\u001b[38;5;124m \u001b[39m\u001b[38;5;124m\"\u001b[39m \u001b[38;5;241m+\u001b[39m last_name\n\u001b[0;32m      3\u001b[0m     \u001b[38;5;28mprint\u001b[39m(f_name)\n\u001b[1;32m----> 5\u001b[0m full_name(\u001b[38;5;124m\"\u001b[39m\u001b[38;5;124mNouroz\u001b[39m\u001b[38;5;124m\"\u001b[39m, \u001b[38;5;124m\"\u001b[39m\u001b[38;5;124mKhan\u001b[39m\u001b[38;5;124m\"\u001b[39m, \u001b[38;5;124m'\u001b[39m\u001b[38;5;124mMalir\u001b[39m\u001b[38;5;124m'\u001b[39m)\n",
      "\u001b[1;31mTypeError\u001b[0m: full_name() takes 2 positional arguments but 3 were given"
     ]
    }
   ],
   "source": [
    "def full_name(first_name, last_name):\n",
    "    f_name = first_name + \" \" + last_name\n",
    "    print(f_name)\n",
    "\n",
    "full_name(\"Nouroz\", \"Khan\", 'Malir')"
   ]
  },
  {
   "cell_type": "markdown",
   "id": "808d342e-154e-4513-8d37-0690b5a0753f",
   "metadata": {},
   "source": [
    "# Positional Argument"
   ]
  },
  {
   "cell_type": "code",
   "execution_count": 10,
   "id": "e4066e8c-14b0-4826-9a1e-25eb4e740300",
   "metadata": {},
   "outputs": [
    {
     "name": "stdout",
     "output_type": "stream",
     "text": [
      "Nouroz Khan\n",
      "Noman Noor\n"
     ]
    }
   ],
   "source": [
    "def full_name(first_name, last_name):\n",
    "    f_name = first_name + \" \" + last_name\n",
    "    print(f_name)\n",
    "\n",
    "full_name(\"Nouroz\", \"Khan\")\n",
    "full_name(\"Noman\", \"Noor\")"
   ]
  },
  {
   "cell_type": "code",
   "execution_count": 13,
   "id": "61cf27fc-ce7e-49fc-96c4-8a6f9789fac1",
   "metadata": {},
   "outputs": [
    {
     "name": "stdout",
     "output_type": "stream",
     "text": [
      "Khan Nouroz\n",
      "Noor Noman\n"
     ]
    }
   ],
   "source": [
    "def full_name(last_name, first_name):\n",
    "    f_name = first_name + \" \" + last_name\n",
    "    print(f_name)\n",
    "\n",
    "full_name(\"Nouroz\", \"Khan\")\n",
    "full_name(\"Noman\", \"Noor\")"
   ]
  },
  {
   "cell_type": "markdown",
   "id": "b781e617-5630-4e56-9f4b-94f9a9fdff89",
   "metadata": {},
   "source": [
    "# keyword argument"
   ]
  },
  {
   "cell_type": "code",
   "execution_count": 14,
   "id": "595ac4ec-fbf2-4a8c-b9b9-117a748dd87b",
   "metadata": {},
   "outputs": [
    {
     "name": "stdout",
     "output_type": "stream",
     "text": [
      "Nouroz Khan\n"
     ]
    }
   ],
   "source": [
    "def full_name(last_name, first_name):\n",
    "    f_name = first_name + \" \" + last_name\n",
    "    print(f_name)\n",
    "\n",
    "full_name(first_name = \"Nouroz\", last_name = \"Khan\")"
   ]
  },
  {
   "cell_type": "markdown",
   "id": "1a7229d0-2c28-462d-80aa-05ddc580d8b9",
   "metadata": {},
   "source": [
    "# passing default parameter"
   ]
  },
  {
   "cell_type": "code",
   "execution_count": 16,
   "id": "6912c90e-bba7-4c3f-ad6a-4a09d5aca74a",
   "metadata": {},
   "outputs": [
    {
     "name": "stdout",
     "output_type": "stream",
     "text": [
      "This is my dog\n",
      "My dog name is Tom\n"
     ]
    }
   ],
   "source": [
    "def animal(name, spices = 'dog'):\n",
    "    print(\"This is my \" + spices)\n",
    "    print(f'My {spices} name is {name}')\n",
    "\n",
    "animal('Tom')"
   ]
  },
  {
   "cell_type": "markdown",
   "id": "47f99ab4-7da3-4464-a854-9e5503a71814",
   "metadata": {},
   "source": [
    "# global vs local variable"
   ]
  },
  {
   "cell_type": "code",
   "execution_count": 19,
   "id": "7cc0c37d-3d46-4004-ac56-607e93943b34",
   "metadata": {},
   "outputs": [
    {
     "name": "stdout",
     "output_type": "stream",
     "text": [
      "My name is zubair and my father name is Shafiq.\n",
      "    I'm in 2nd semester\n"
     ]
    }
   ],
   "source": [
    "# global scope\n",
    "father = 'Shafiq' # global variable\n",
    "\n",
    "def student(name, id):\n",
    "    # local scope\n",
    "    semester = '2nd'  # local variable\n",
    "    print(f'''My name is {name} and my father name is {father}.\n",
    "    I'm in {semester} semester''')\n",
    "\n",
    "student('zubair', 12004)"
   ]
  },
  {
   "cell_type": "code",
   "execution_count": 20,
   "id": "b080dd86-f5d2-40e9-be78-577d2d0b9d4f",
   "metadata": {},
   "outputs": [
    {
     "name": "stdout",
     "output_type": "stream",
     "text": [
      "My name is zubair and my father name is Shafiq.\n",
      "    I'm in 2nd semester\n",
      "my father name is Shafiq\n"
     ]
    },
    {
     "ename": "NameError",
     "evalue": "name 'name' is not defined",
     "output_type": "error",
     "traceback": [
      "\u001b[1;31m---------------------------------------------------------------------------\u001b[0m",
      "\u001b[1;31mNameError\u001b[0m                                 Traceback (most recent call last)",
      "Cell \u001b[1;32mIn[20], line 12\u001b[0m\n\u001b[0;32m     10\u001b[0m student(\u001b[38;5;124m'\u001b[39m\u001b[38;5;124mzubair\u001b[39m\u001b[38;5;124m'\u001b[39m, \u001b[38;5;241m12004\u001b[39m)\n\u001b[0;32m     11\u001b[0m \u001b[38;5;28mprint\u001b[39m(\u001b[38;5;124mf\u001b[39m\u001b[38;5;124m'''\u001b[39m\u001b[38;5;124mmy father name is \u001b[39m\u001b[38;5;132;01m{\u001b[39;00mfather\u001b[38;5;132;01m}\u001b[39;00m\u001b[38;5;124m'''\u001b[39m)\n\u001b[1;32m---> 12\u001b[0m \u001b[38;5;28mprint\u001b[39m(\u001b[38;5;124mf\u001b[39m\u001b[38;5;124m'''\u001b[39m\u001b[38;5;124mMy name is \u001b[39m\u001b[38;5;132;01m{\u001b[39;00mname\u001b[38;5;132;01m}\u001b[39;00m\u001b[38;5;124m'''\u001b[39m)\n\u001b[0;32m     13\u001b[0m \u001b[38;5;28mprint\u001b[39m(\u001b[38;5;124mf\u001b[39m\u001b[38;5;124m'''\u001b[39m\u001b[38;5;124mI\u001b[39m\u001b[38;5;124m'\u001b[39m\u001b[38;5;124mm in \u001b[39m\u001b[38;5;132;01m{\u001b[39;00msemester\u001b[38;5;132;01m}\u001b[39;00m\u001b[38;5;124m semester\u001b[39m\u001b[38;5;124m'''\u001b[39m)\n",
      "\u001b[1;31mNameError\u001b[0m: name 'name' is not defined"
     ]
    }
   ],
   "source": [
    "# global scope\n",
    "father = 'Shafiq' # global variable\n",
    "\n",
    "def student(name, id):\n",
    "    # local scope\n",
    "    semester = '2nd'  # local variable\n",
    "    print(f'''My name is {name} and my father name is {father}.\n",
    "    I'm in {semester} semester''')\n",
    "\n",
    "student('zubair', 12004)\n",
    "print(f'''my father name is {father}''')\n",
    "print(f'''My name is {name}''')\n",
    "print(f'''I'm in {semester} semester''')"
   ]
  },
  {
   "cell_type": "markdown",
   "id": "6d033b6b-c80f-41b5-99de-d306fd106e94",
   "metadata": {},
   "source": [
    "# retrning a value from function"
   ]
  },
  {
   "cell_type": "code",
   "execution_count": 21,
   "id": "8e367590-16b3-4792-81b2-e121b3ec3c35",
   "metadata": {},
   "outputs": [
    {
     "name": "stdout",
     "output_type": "stream",
     "text": [
      "My name is zubair and my father name is Shafiq.\n",
      "    I'm in 2nd semester\n",
      "my father name is Shafiq\n",
      "My name is zubair\n"
     ]
    }
   ],
   "source": [
    "# global scope\n",
    "father = 'Shafiq' # global variable\n",
    "\n",
    "def student(name, id):\n",
    "    # local scope\n",
    "    semester = '2nd'  # local variable\n",
    "    print(f'''My name is {name} and my father name is {father}.\n",
    "    I'm in {semester} semester''')\n",
    "    return name\n",
    "\n",
    "name1 = student('zubair', 12004)\n",
    "print(f'''my father name is {father}''')\n",
    "print(f'''My name is {name1}''')"
   ]
  },
  {
   "cell_type": "code",
   "execution_count": 27,
   "id": "852b7abb-bbd1-423d-8948-f1eee1670e36",
   "metadata": {},
   "outputs": [
    {
     "name": "stdout",
     "output_type": "stream",
     "text": [
      "11\n"
     ]
    }
   ],
   "source": [
    "def addtion(num1,num2):\n",
    "    total = num1 + num2\n",
    "    return total\n",
    "    \n",
    "total_amount = addtion(5,6)\n",
    "print(total_amount)\n",
    "    "
   ]
  },
  {
   "cell_type": "markdown",
   "id": "1a6c7813-e265-4fe2-bfc7-597d7f0cddb6",
   "metadata": {},
   "source": [
    "# function in function"
   ]
  },
  {
   "cell_type": "code",
   "execution_count": 28,
   "id": "c975b246-ae41-462b-89b6-c0e45d0b05a8",
   "metadata": {},
   "outputs": [
    {
     "name": "stdout",
     "output_type": "stream",
     "text": [
      "My name is zubair\n",
      "13\n"
     ]
    }
   ],
   "source": [
    "def add(num1,num2):\n",
    "    total = num1 + num2\n",
    "    print(total)\n",
    "    \n",
    "def student(name, id):\n",
    "    print(f'''My name is {name}''')\n",
    "    add(11,2)\n",
    "    return name\n",
    "\n",
    "name1 = student('zubair', 12004)"
   ]
  },
  {
   "cell_type": "code",
   "execution_count": 31,
   "id": "dedb90cd-16b5-4c7e-bfee-29df2d753c5a",
   "metadata": {},
   "outputs": [
    {
     "name": "stdout",
     "output_type": "stream",
     "text": [
      "My name is zubair\n"
     ]
    },
    {
     "data": {
      "text/plain": [
       "'zubair'"
      ]
     },
     "execution_count": 31,
     "metadata": {},
     "output_type": "execute_result"
    }
   ],
   "source": [
    "def add(num1,num2):\n",
    "    total = num1 + num2\n",
    "    return total\n",
    "    \n",
    "def student(name, id):\n",
    "    print(f'''My name is {name}''')\n",
    "    add(11,2)\n",
    "    return name\n",
    "\n",
    "student('zubair', 12004)"
   ]
  },
  {
   "cell_type": "code",
   "execution_count": 35,
   "id": "dab261ba-b22c-4347-9b61-a605e5fd12d4",
   "metadata": {},
   "outputs": [
    {
     "name": "stdout",
     "output_type": "stream",
     "text": [
      "----------> mujhy yahan ki nishadhi karni hai----------<\n"
     ]
    },
    {
     "data": {
      "text/plain": [
       "47"
      ]
     },
     "execution_count": 35,
     "metadata": {},
     "output_type": "execute_result"
    }
   ],
   "source": [
    "def add(num1,num2):\n",
    "    total = num1 + num2\n",
    "    print('----------> mujhy yahan ki nishadhi karni hai----------<')\n",
    "    return total\n",
    "\n",
    "add(13,34)"
   ]
  },
  {
   "cell_type": "code",
   "execution_count": null,
   "id": "16825288-94d8-4856-b0e4-8d73f5f0686a",
   "metadata": {},
   "outputs": [],
   "source": []
  }
 ],
 "metadata": {
  "kernelspec": {
   "display_name": "Python 3 (ipykernel)",
   "language": "python",
   "name": "python3"
  },
  "language_info": {
   "codemirror_mode": {
    "name": "ipython",
    "version": 3
   },
   "file_extension": ".py",
   "mimetype": "text/x-python",
   "name": "python",
   "nbconvert_exporter": "python",
   "pygments_lexer": "ipython3",
   "version": "3.12.4"
  }
 },
 "nbformat": 4,
 "nbformat_minor": 5
}
