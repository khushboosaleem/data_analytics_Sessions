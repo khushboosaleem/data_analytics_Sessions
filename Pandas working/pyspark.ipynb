{
  "nbformat": 4,
  "nbformat_minor": 0,
  "metadata": {
    "colab": {
      "provenance": [],
      "gpuType": "T4"
    },
    "kernelspec": {
      "name": "python3",
      "display_name": "Python 3"
    },
    "language_info": {
      "name": "python"
    },
    "accelerator": "GPU"
  },
  "cells": [
    {
      "cell_type": "code",
      "execution_count": 6,
      "metadata": {
        "colab": {
          "base_uri": "https://localhost:8080/"
        },
        "id": "rZC8dC1PnS3a",
        "outputId": "fe8dc73c-35f2-4662-ff88-115567bbdc7f"
      },
      "outputs": [
        {
          "output_type": "stream",
          "name": "stdout",
          "text": [
            "Requirement already satisfied: pyspark in /usr/local/lib/python3.10/dist-packages (3.5.2)\n",
            "Requirement already satisfied: py4j==0.10.9.7 in /usr/local/lib/python3.10/dist-packages (from pyspark) (0.10.9.7)\n"
          ]
        }
      ],
      "source": [
        "!pip install pyspark"
      ]
    },
    {
      "cell_type": "code",
      "source": [
        "from pyspark.sql import SparkSession"
      ],
      "metadata": {
        "id": "W5RDpAhDnc9J"
      },
      "execution_count": 7,
      "outputs": []
    },
    {
      "cell_type": "code",
      "source": [
        "spark = SparkSession.builder.appName('Pyspark').getOrCreate()"
      ],
      "metadata": {
        "id": "_TzBAf-qnx7G"
      },
      "execution_count": 8,
      "outputs": []
    },
    {
      "cell_type": "code",
      "source": [
        "spark"
      ],
      "metadata": {
        "colab": {
          "base_uri": "https://localhost:8080/",
          "height": 219
        },
        "id": "g83OiuACn13m",
        "outputId": "66e67c5c-a7ce-48f4-c0bc-1dda7f974972"
      },
      "execution_count": 48,
      "outputs": [
        {
          "output_type": "execute_result",
          "data": {
            "text/plain": [
              "<pyspark.sql.session.SparkSession at 0x7b430b64f160>"
            ],
            "text/html": [
              "\n",
              "            <div>\n",
              "                <p><b>SparkSession - in-memory</b></p>\n",
              "                \n",
              "        <div>\n",
              "            <p><b>SparkContext</b></p>\n",
              "\n",
              "            <p><a href=\"http://e3b149663535:4040\">Spark UI</a></p>\n",
              "\n",
              "            <dl>\n",
              "              <dt>Version</dt>\n",
              "                <dd><code>v3.5.2</code></dd>\n",
              "              <dt>Master</dt>\n",
              "                <dd><code>local[*]</code></dd>\n",
              "              <dt>AppName</dt>\n",
              "                <dd><code>Pyspark</code></dd>\n",
              "            </dl>\n",
              "        </div>\n",
              "        \n",
              "            </div>\n",
              "        "
            ]
          },
          "metadata": {},
          "execution_count": 48
        }
      ]
    },
    {
      "cell_type": "code",
      "source": [
        "df = spark.read.csv(\"/content/data_m1.csv\",header=True,inferSchema=True)"
      ],
      "metadata": {
        "id": "vay1MRNYn58G"
      },
      "execution_count": 12,
      "outputs": []
    },
    {
      "cell_type": "code",
      "source": [
        "df.show()"
      ],
      "metadata": {
        "colab": {
          "base_uri": "https://localhost:8080/"
        },
        "id": "7SC_VQUYorz-",
        "outputId": "c92d1052-2a27-4b55-dbef-7cb86ec31416"
      },
      "execution_count": 13,
      "outputs": [
        {
          "output_type": "stream",
          "name": "stdout",
          "text": [
            "+-------+-----+-------------+\n",
            "|   Name|Marks|       Grades|\n",
            "+-------+-----+-------------+\n",
            "|Priyang|   98|not available|\n",
            "| Aadhya|   89|           AB|\n",
            "| Krisha|   99|           AA|\n",
            "| Vedant|   87|           NA|\n",
            "| Parshv|   90|           AC|\n",
            "| Mittal|   36|           BA|\n",
            "|Archana|   82|           BB|\n",
            "+-------+-----+-------------+\n",
            "\n"
          ]
        }
      ]
    },
    {
      "cell_type": "markdown",
      "source": [
        "## ***1. Display Top 3 Rows of the Dataset***"
      ],
      "metadata": {
        "id": "pOeKSRJxoa0Q"
      }
    },
    {
      "cell_type": "code",
      "source": [
        "df.show(3)"
      ],
      "metadata": {
        "colab": {
          "base_uri": "https://localhost:8080/"
        },
        "id": "ak6PbGNgoXVY",
        "outputId": "e4538ea0-5fc0-4b00-cecc-27090d0c95a7"
      },
      "execution_count": 14,
      "outputs": [
        {
          "output_type": "stream",
          "name": "stdout",
          "text": [
            "+-------+-----+-------------+\n",
            "|   Name|Marks|       Grades|\n",
            "+-------+-----+-------------+\n",
            "|Priyang|   98|not available|\n",
            "| Aadhya|   89|           AB|\n",
            "| Krisha|   99|           AA|\n",
            "+-------+-----+-------------+\n",
            "only showing top 3 rows\n",
            "\n"
          ]
        }
      ]
    },
    {
      "cell_type": "markdown",
      "source": [
        "## ***2. Display DataTypes of Each column***"
      ],
      "metadata": {
        "id": "3LxQTlFlvwmG"
      }
    },
    {
      "cell_type": "code",
      "source": [
        "df.printSchema()"
      ],
      "metadata": {
        "colab": {
          "base_uri": "https://localhost:8080/"
        },
        "id": "F97K7NYTvhEX",
        "outputId": "d7e97571-57e9-4f7c-9034-4f2e596cc8de"
      },
      "execution_count": 15,
      "outputs": [
        {
          "output_type": "stream",
          "name": "stdout",
          "text": [
            "root\n",
            " |-- Name: string (nullable = true)\n",
            " |-- Marks: integer (nullable = true)\n",
            " |-- Grades: string (nullable = true)\n",
            "\n"
          ]
        }
      ]
    },
    {
      "cell_type": "markdown",
      "source": [
        "## ***3. Display Column Names***"
      ],
      "metadata": {
        "id": "2M4xzFPp1hSe"
      }
    },
    {
      "cell_type": "code",
      "source": [
        "df.columns"
      ],
      "metadata": {
        "colab": {
          "base_uri": "https://localhost:8080/"
        },
        "id": "RuAYjIubwFKG",
        "outputId": "8818bf13-3ca4-42e9-a6f7-aaeee360ff93"
      },
      "execution_count": 16,
      "outputs": [
        {
          "output_type": "execute_result",
          "data": {
            "text/plain": [
              "['Name', 'Marks', 'Grades']"
            ]
          },
          "metadata": {},
          "execution_count": 16
        }
      ]
    },
    {
      "cell_type": "markdown",
      "source": [
        "## ***4. Count Number of Rows and Columns of the Dataset***"
      ],
      "metadata": {
        "id": "21mKHzdy1wHF"
      }
    },
    {
      "cell_type": "code",
      "source": [
        "df.count() # 7 Rows"
      ],
      "metadata": {
        "colab": {
          "base_uri": "https://localhost:8080/"
        },
        "id": "xjd1v8bs1sbk",
        "outputId": "219c2872-209e-41b3-a306-e44b36fda357"
      },
      "execution_count": 17,
      "outputs": [
        {
          "output_type": "execute_result",
          "data": {
            "text/plain": [
              "7"
            ]
          },
          "metadata": {},
          "execution_count": 17
        }
      ]
    },
    {
      "cell_type": "code",
      "source": [
        "len(df.columns)"
      ],
      "metadata": {
        "colab": {
          "base_uri": "https://localhost:8080/"
        },
        "id": "fGCmERX419uT",
        "outputId": "bac3f0ea-91da-482d-9378-29e017e91faa"
      },
      "execution_count": 18,
      "outputs": [
        {
          "output_type": "execute_result",
          "data": {
            "text/plain": [
              "3"
            ]
          },
          "metadata": {},
          "execution_count": 18
        }
      ]
    },
    {
      "cell_type": "markdown",
      "source": [
        "## ***5. Get Overall Statistics About the Dataset***"
      ],
      "metadata": {
        "id": "Zl2z7PgN2XYV"
      }
    },
    {
      "cell_type": "code",
      "source": [
        "df.describe().show()"
      ],
      "metadata": {
        "colab": {
          "base_uri": "https://localhost:8080/"
        },
        "id": "-59cuD5Z2V6z",
        "outputId": "62f573b4-3991-4438-d1c8-070e6176677f"
      },
      "execution_count": 19,
      "outputs": [
        {
          "output_type": "stream",
          "name": "stdout",
          "text": [
            "+-------+------+------------------+-------------+\n",
            "|summary|  Name|             Marks|       Grades|\n",
            "+-------+------+------------------+-------------+\n",
            "|  count|     7|                 7|            7|\n",
            "|   mean|  NULL|              83.0|         NULL|\n",
            "| stddev|  NULL|21.571586249817912|         NULL|\n",
            "|    min|Aadhya|                36|           AA|\n",
            "|    max|Vedant|                99|not available|\n",
            "+-------+------+------------------+-------------+\n",
            "\n"
          ]
        }
      ]
    },
    {
      "cell_type": "markdown",
      "source": [
        "## ***6. Find Unique Values Available in the Grades column***"
      ],
      "metadata": {
        "id": "zKQetG9Z20N9"
      }
    },
    {
      "cell_type": "code",
      "source": [
        "df.columns"
      ],
      "metadata": {
        "colab": {
          "base_uri": "https://localhost:8080/"
        },
        "id": "EKly-mf62qVj",
        "outputId": "66b2ccdb-872e-4914-9b00-8f35b54cb6be"
      },
      "execution_count": 20,
      "outputs": [
        {
          "output_type": "execute_result",
          "data": {
            "text/plain": [
              "['Name', 'Marks', 'Grades']"
            ]
          },
          "metadata": {},
          "execution_count": 20
        }
      ]
    },
    {
      "cell_type": "code",
      "source": [
        "\n",
        "df.toPandas()"
      ],
      "metadata": {
        "colab": {
          "base_uri": "https://localhost:8080/",
          "height": 269
        },
        "id": "HA6gPRAO3ITT",
        "outputId": "ff7d341d-3b9f-4b55-9428-725371ecbc7e"
      },
      "execution_count": 21,
      "outputs": [
        {
          "output_type": "execute_result",
          "data": {
            "text/plain": [
              "      Name  Marks         Grades\n",
              "0  Priyang     98  not available\n",
              "1   Aadhya     89             AB\n",
              "2   Krisha     99             AA\n",
              "3   Vedant     87             NA\n",
              "4   Parshv     90             AC\n",
              "5   Mittal     36             BA\n",
              "6  Archana     82             BB"
            ],
            "text/html": [
              "\n",
              "  <div id=\"df-cab9d440-8e96-4668-a73d-05a4263f1ac9\" class=\"colab-df-container\">\n",
              "    <div>\n",
              "<style scoped>\n",
              "    .dataframe tbody tr th:only-of-type {\n",
              "        vertical-align: middle;\n",
              "    }\n",
              "\n",
              "    .dataframe tbody tr th {\n",
              "        vertical-align: top;\n",
              "    }\n",
              "\n",
              "    .dataframe thead th {\n",
              "        text-align: right;\n",
              "    }\n",
              "</style>\n",
              "<table border=\"1\" class=\"dataframe\">\n",
              "  <thead>\n",
              "    <tr style=\"text-align: right;\">\n",
              "      <th></th>\n",
              "      <th>Name</th>\n",
              "      <th>Marks</th>\n",
              "      <th>Grades</th>\n",
              "    </tr>\n",
              "  </thead>\n",
              "  <tbody>\n",
              "    <tr>\n",
              "      <th>0</th>\n",
              "      <td>Priyang</td>\n",
              "      <td>98</td>\n",
              "      <td>not available</td>\n",
              "    </tr>\n",
              "    <tr>\n",
              "      <th>1</th>\n",
              "      <td>Aadhya</td>\n",
              "      <td>89</td>\n",
              "      <td>AB</td>\n",
              "    </tr>\n",
              "    <tr>\n",
              "      <th>2</th>\n",
              "      <td>Krisha</td>\n",
              "      <td>99</td>\n",
              "      <td>AA</td>\n",
              "    </tr>\n",
              "    <tr>\n",
              "      <th>3</th>\n",
              "      <td>Vedant</td>\n",
              "      <td>87</td>\n",
              "      <td>NA</td>\n",
              "    </tr>\n",
              "    <tr>\n",
              "      <th>4</th>\n",
              "      <td>Parshv</td>\n",
              "      <td>90</td>\n",
              "      <td>AC</td>\n",
              "    </tr>\n",
              "    <tr>\n",
              "      <th>5</th>\n",
              "      <td>Mittal</td>\n",
              "      <td>36</td>\n",
              "      <td>BA</td>\n",
              "    </tr>\n",
              "    <tr>\n",
              "      <th>6</th>\n",
              "      <td>Archana</td>\n",
              "      <td>82</td>\n",
              "      <td>BB</td>\n",
              "    </tr>\n",
              "  </tbody>\n",
              "</table>\n",
              "</div>\n",
              "    <div class=\"colab-df-buttons\">\n",
              "\n",
              "  <div class=\"colab-df-container\">\n",
              "    <button class=\"colab-df-convert\" onclick=\"convertToInteractive('df-cab9d440-8e96-4668-a73d-05a4263f1ac9')\"\n",
              "            title=\"Convert this dataframe to an interactive table.\"\n",
              "            style=\"display:none;\">\n",
              "\n",
              "  <svg xmlns=\"http://www.w3.org/2000/svg\" height=\"24px\" viewBox=\"0 -960 960 960\">\n",
              "    <path d=\"M120-120v-720h720v720H120Zm60-500h600v-160H180v160Zm220 220h160v-160H400v160Zm0 220h160v-160H400v160ZM180-400h160v-160H180v160Zm440 0h160v-160H620v160ZM180-180h160v-160H180v160Zm440 0h160v-160H620v160Z\"/>\n",
              "  </svg>\n",
              "    </button>\n",
              "\n",
              "  <style>\n",
              "    .colab-df-container {\n",
              "      display:flex;\n",
              "      gap: 12px;\n",
              "    }\n",
              "\n",
              "    .colab-df-convert {\n",
              "      background-color: #E8F0FE;\n",
              "      border: none;\n",
              "      border-radius: 50%;\n",
              "      cursor: pointer;\n",
              "      display: none;\n",
              "      fill: #1967D2;\n",
              "      height: 32px;\n",
              "      padding: 0 0 0 0;\n",
              "      width: 32px;\n",
              "    }\n",
              "\n",
              "    .colab-df-convert:hover {\n",
              "      background-color: #E2EBFA;\n",
              "      box-shadow: 0px 1px 2px rgba(60, 64, 67, 0.3), 0px 1px 3px 1px rgba(60, 64, 67, 0.15);\n",
              "      fill: #174EA6;\n",
              "    }\n",
              "\n",
              "    .colab-df-buttons div {\n",
              "      margin-bottom: 4px;\n",
              "    }\n",
              "\n",
              "    [theme=dark] .colab-df-convert {\n",
              "      background-color: #3B4455;\n",
              "      fill: #D2E3FC;\n",
              "    }\n",
              "\n",
              "    [theme=dark] .colab-df-convert:hover {\n",
              "      background-color: #434B5C;\n",
              "      box-shadow: 0px 1px 3px 1px rgba(0, 0, 0, 0.15);\n",
              "      filter: drop-shadow(0px 1px 2px rgba(0, 0, 0, 0.3));\n",
              "      fill: #FFFFFF;\n",
              "    }\n",
              "  </style>\n",
              "\n",
              "    <script>\n",
              "      const buttonEl =\n",
              "        document.querySelector('#df-cab9d440-8e96-4668-a73d-05a4263f1ac9 button.colab-df-convert');\n",
              "      buttonEl.style.display =\n",
              "        google.colab.kernel.accessAllowed ? 'block' : 'none';\n",
              "\n",
              "      async function convertToInteractive(key) {\n",
              "        const element = document.querySelector('#df-cab9d440-8e96-4668-a73d-05a4263f1ac9');\n",
              "        const dataTable =\n",
              "          await google.colab.kernel.invokeFunction('convertToInteractive',\n",
              "                                                    [key], {});\n",
              "        if (!dataTable) return;\n",
              "\n",
              "        const docLinkHtml = 'Like what you see? Visit the ' +\n",
              "          '<a target=\"_blank\" href=https://colab.research.google.com/notebooks/data_table.ipynb>data table notebook</a>'\n",
              "          + ' to learn more about interactive tables.';\n",
              "        element.innerHTML = '';\n",
              "        dataTable['output_type'] = 'display_data';\n",
              "        await google.colab.output.renderOutput(dataTable, element);\n",
              "        const docLink = document.createElement('div');\n",
              "        docLink.innerHTML = docLinkHtml;\n",
              "        element.appendChild(docLink);\n",
              "      }\n",
              "    </script>\n",
              "  </div>\n",
              "\n",
              "\n",
              "<div id=\"df-bb7538ce-cc9a-47aa-8c7e-5a2f969a662d\">\n",
              "  <button class=\"colab-df-quickchart\" onclick=\"quickchart('df-bb7538ce-cc9a-47aa-8c7e-5a2f969a662d')\"\n",
              "            title=\"Suggest charts\"\n",
              "            style=\"display:none;\">\n",
              "\n",
              "<svg xmlns=\"http://www.w3.org/2000/svg\" height=\"24px\"viewBox=\"0 0 24 24\"\n",
              "     width=\"24px\">\n",
              "    <g>\n",
              "        <path d=\"M19 3H5c-1.1 0-2 .9-2 2v14c0 1.1.9 2 2 2h14c1.1 0 2-.9 2-2V5c0-1.1-.9-2-2-2zM9 17H7v-7h2v7zm4 0h-2V7h2v10zm4 0h-2v-4h2v4z\"/>\n",
              "    </g>\n",
              "</svg>\n",
              "  </button>\n",
              "\n",
              "<style>\n",
              "  .colab-df-quickchart {\n",
              "      --bg-color: #E8F0FE;\n",
              "      --fill-color: #1967D2;\n",
              "      --hover-bg-color: #E2EBFA;\n",
              "      --hover-fill-color: #174EA6;\n",
              "      --disabled-fill-color: #AAA;\n",
              "      --disabled-bg-color: #DDD;\n",
              "  }\n",
              "\n",
              "  [theme=dark] .colab-df-quickchart {\n",
              "      --bg-color: #3B4455;\n",
              "      --fill-color: #D2E3FC;\n",
              "      --hover-bg-color: #434B5C;\n",
              "      --hover-fill-color: #FFFFFF;\n",
              "      --disabled-bg-color: #3B4455;\n",
              "      --disabled-fill-color: #666;\n",
              "  }\n",
              "\n",
              "  .colab-df-quickchart {\n",
              "    background-color: var(--bg-color);\n",
              "    border: none;\n",
              "    border-radius: 50%;\n",
              "    cursor: pointer;\n",
              "    display: none;\n",
              "    fill: var(--fill-color);\n",
              "    height: 32px;\n",
              "    padding: 0;\n",
              "    width: 32px;\n",
              "  }\n",
              "\n",
              "  .colab-df-quickchart:hover {\n",
              "    background-color: var(--hover-bg-color);\n",
              "    box-shadow: 0 1px 2px rgba(60, 64, 67, 0.3), 0 1px 3px 1px rgba(60, 64, 67, 0.15);\n",
              "    fill: var(--button-hover-fill-color);\n",
              "  }\n",
              "\n",
              "  .colab-df-quickchart-complete:disabled,\n",
              "  .colab-df-quickchart-complete:disabled:hover {\n",
              "    background-color: var(--disabled-bg-color);\n",
              "    fill: var(--disabled-fill-color);\n",
              "    box-shadow: none;\n",
              "  }\n",
              "\n",
              "  .colab-df-spinner {\n",
              "    border: 2px solid var(--fill-color);\n",
              "    border-color: transparent;\n",
              "    border-bottom-color: var(--fill-color);\n",
              "    animation:\n",
              "      spin 1s steps(1) infinite;\n",
              "  }\n",
              "\n",
              "  @keyframes spin {\n",
              "    0% {\n",
              "      border-color: transparent;\n",
              "      border-bottom-color: var(--fill-color);\n",
              "      border-left-color: var(--fill-color);\n",
              "    }\n",
              "    20% {\n",
              "      border-color: transparent;\n",
              "      border-left-color: var(--fill-color);\n",
              "      border-top-color: var(--fill-color);\n",
              "    }\n",
              "    30% {\n",
              "      border-color: transparent;\n",
              "      border-left-color: var(--fill-color);\n",
              "      border-top-color: var(--fill-color);\n",
              "      border-right-color: var(--fill-color);\n",
              "    }\n",
              "    40% {\n",
              "      border-color: transparent;\n",
              "      border-right-color: var(--fill-color);\n",
              "      border-top-color: var(--fill-color);\n",
              "    }\n",
              "    60% {\n",
              "      border-color: transparent;\n",
              "      border-right-color: var(--fill-color);\n",
              "    }\n",
              "    80% {\n",
              "      border-color: transparent;\n",
              "      border-right-color: var(--fill-color);\n",
              "      border-bottom-color: var(--fill-color);\n",
              "    }\n",
              "    90% {\n",
              "      border-color: transparent;\n",
              "      border-bottom-color: var(--fill-color);\n",
              "    }\n",
              "  }\n",
              "</style>\n",
              "\n",
              "  <script>\n",
              "    async function quickchart(key) {\n",
              "      const quickchartButtonEl =\n",
              "        document.querySelector('#' + key + ' button');\n",
              "      quickchartButtonEl.disabled = true;  // To prevent multiple clicks.\n",
              "      quickchartButtonEl.classList.add('colab-df-spinner');\n",
              "      try {\n",
              "        const charts = await google.colab.kernel.invokeFunction(\n",
              "            'suggestCharts', [key], {});\n",
              "      } catch (error) {\n",
              "        console.error('Error during call to suggestCharts:', error);\n",
              "      }\n",
              "      quickchartButtonEl.classList.remove('colab-df-spinner');\n",
              "      quickchartButtonEl.classList.add('colab-df-quickchart-complete');\n",
              "    }\n",
              "    (() => {\n",
              "      let quickchartButtonEl =\n",
              "        document.querySelector('#df-bb7538ce-cc9a-47aa-8c7e-5a2f969a662d button');\n",
              "      quickchartButtonEl.style.display =\n",
              "        google.colab.kernel.accessAllowed ? 'block' : 'none';\n",
              "    })();\n",
              "  </script>\n",
              "</div>\n",
              "\n",
              "    </div>\n",
              "  </div>\n"
            ],
            "application/vnd.google.colaboratory.intrinsic+json": {
              "type": "dataframe",
              "summary": "{\n  \"name\": \"df\",\n  \"rows\": 7,\n  \"fields\": [\n    {\n      \"column\": \"Name\",\n      \"properties\": {\n        \"dtype\": \"string\",\n        \"num_unique_values\": 7,\n        \"samples\": [\n          \"Priyang\",\n          \"Aadhya\",\n          \"Mittal\"\n        ],\n        \"semantic_type\": \"\",\n        \"description\": \"\"\n      }\n    },\n    {\n      \"column\": \"Marks\",\n      \"properties\": {\n        \"dtype\": \"int32\",\n        \"num_unique_values\": 7,\n        \"samples\": [\n          98,\n          89,\n          36\n        ],\n        \"semantic_type\": \"\",\n        \"description\": \"\"\n      }\n    },\n    {\n      \"column\": \"Grades\",\n      \"properties\": {\n        \"dtype\": \"string\",\n        \"num_unique_values\": 7,\n        \"samples\": [\n          \"not available\",\n          \"AB\",\n          \"BA\"\n        ],\n        \"semantic_type\": \"\",\n        \"description\": \"\"\n      }\n    }\n  ]\n}"
            }
          },
          "metadata": {},
          "execution_count": 21
        }
      ]
    },
    {
      "cell_type": "code",
      "source": [
        "\n",
        "df.toPandas()['Grades'].unique()"
      ],
      "metadata": {
        "colab": {
          "base_uri": "https://localhost:8080/"
        },
        "id": "iumadCV_3M6j",
        "outputId": "7eaa920e-3461-44a2-b1c7-9d386ff4e2cd"
      },
      "execution_count": 22,
      "outputs": [
        {
          "output_type": "execute_result",
          "data": {
            "text/plain": [
              "array(['not available', 'AB', 'AA', 'NA', 'AC', 'BA', 'BB'], dtype=object)"
            ]
          },
          "metadata": {},
          "execution_count": 22
        }
      ]
    },
    {
      "cell_type": "markdown",
      "source": [
        "## ***7. How to Select Single Column?***"
      ],
      "metadata": {
        "id": "dv5s45067Z0k"
      }
    },
    {
      "cell_type": "code",
      "source": [
        "\n",
        "df.select('Name').show()"
      ],
      "metadata": {
        "colab": {
          "base_uri": "https://localhost:8080/"
        },
        "id": "YOIWqMen6Hr0",
        "outputId": "07538f58-4f60-4130-e44c-140cc607ccd9"
      },
      "execution_count": 23,
      "outputs": [
        {
          "output_type": "stream",
          "name": "stdout",
          "text": [
            "+-------+\n",
            "|   Name|\n",
            "+-------+\n",
            "|Priyang|\n",
            "| Aadhya|\n",
            "| Krisha|\n",
            "| Vedant|\n",
            "| Parshv|\n",
            "| Mittal|\n",
            "|Archana|\n",
            "+-------+\n",
            "\n"
          ]
        }
      ]
    },
    {
      "cell_type": "markdown",
      "source": [
        "## ***8. How to Select Multiple Columns?***"
      ],
      "metadata": {
        "id": "VbMESrtw9rWG"
      }
    },
    {
      "cell_type": "code",
      "source": [
        "df.select(['Name','Grades']).show()"
      ],
      "metadata": {
        "colab": {
          "base_uri": "https://localhost:8080/"
        },
        "id": "-l0phT-p8mMi",
        "outputId": "cee6b0fc-100c-4c10-b117-4a26f4bd9805"
      },
      "execution_count": 24,
      "outputs": [
        {
          "output_type": "stream",
          "name": "stdout",
          "text": [
            "+-------+-------------+\n",
            "|   Name|       Grades|\n",
            "+-------+-------------+\n",
            "|Priyang|not available|\n",
            "| Aadhya|           AB|\n",
            "| Krisha|           AA|\n",
            "| Vedant|           NA|\n",
            "| Parshv|           AC|\n",
            "| Mittal|           BA|\n",
            "|Archana|           BB|\n",
            "+-------+-------------+\n",
            "\n"
          ]
        }
      ]
    },
    {
      "cell_type": "markdown",
      "source": [
        "## ***9.Create New Column With Marks + 1 And Also Update Existing DataFrame***"
      ],
      "metadata": {
        "id": "Xd66mSkX-I_K"
      }
    },
    {
      "cell_type": "code",
      "source": [
        "df = df.withColumn('New_Marks',df.Marks + 1)"
      ],
      "metadata": {
        "id": "ENdk58di-DhD"
      },
      "execution_count": 26,
      "outputs": []
    },
    {
      "cell_type": "code",
      "source": [
        "df.show()"
      ],
      "metadata": {
        "colab": {
          "base_uri": "https://localhost:8080/"
        },
        "id": "S70cwXJB_Ilx",
        "outputId": "6da8f150-9364-452d-f97c-63475db38523"
      },
      "execution_count": 27,
      "outputs": [
        {
          "output_type": "stream",
          "name": "stdout",
          "text": [
            "+-------+-----+-------------+---------+\n",
            "|   Name|Marks|       Grades|New_Marks|\n",
            "+-------+-----+-------------+---------+\n",
            "|Priyang|   98|not available|       99|\n",
            "| Aadhya|   89|           AB|       90|\n",
            "| Krisha|   99|           AA|      100|\n",
            "| Vedant|   87|           NA|       88|\n",
            "| Parshv|   90|           AC|       91|\n",
            "| Mittal|   36|           BA|       37|\n",
            "|Archana|   82|           BB|       83|\n",
            "+-------+-----+-------------+---------+\n",
            "\n"
          ]
        }
      ]
    },
    {
      "cell_type": "markdown",
      "source": [
        "## ***10. Rename Name Column And Give New Name \"Student_Name\"***"
      ],
      "metadata": {
        "id": "0Uyx1AqnDXUS"
      }
    },
    {
      "cell_type": "code",
      "source": [
        "df.columns"
      ],
      "metadata": {
        "colab": {
          "base_uri": "https://localhost:8080/"
        },
        "id": "ZU94FbiLC-Uw",
        "outputId": "f99e1703-e389-4ebd-f913-33fe39c44647"
      },
      "execution_count": 28,
      "outputs": [
        {
          "output_type": "execute_result",
          "data": {
            "text/plain": [
              "['Name', 'Marks', 'Grades', 'New_Marks']"
            ]
          },
          "metadata": {},
          "execution_count": 28
        }
      ]
    },
    {
      "cell_type": "code",
      "source": [
        "df= df.withColumnRenamed('Name','Student_Name')"
      ],
      "metadata": {
        "id": "qmqTnZEeDrYg"
      },
      "execution_count": 29,
      "outputs": []
    },
    {
      "cell_type": "code",
      "source": [
        "df.show()"
      ],
      "metadata": {
        "colab": {
          "base_uri": "https://localhost:8080/"
        },
        "id": "I673iJiND3ZQ",
        "outputId": "8b4046fe-222c-4082-9f28-8982e42e769f"
      },
      "execution_count": 30,
      "outputs": [
        {
          "output_type": "stream",
          "name": "stdout",
          "text": [
            "+------------+-----+-------------+---------+\n",
            "|Student_Name|Marks|       Grades|New_Marks|\n",
            "+------------+-----+-------------+---------+\n",
            "|     Priyang|   98|not available|       99|\n",
            "|      Aadhya|   89|           AB|       90|\n",
            "|      Krisha|   99|           AA|      100|\n",
            "|      Vedant|   87|           NA|       88|\n",
            "|      Parshv|   90|           AC|       91|\n",
            "|      Mittal|   36|           BA|       37|\n",
            "|     Archana|   82|           BB|       83|\n",
            "+------------+-----+-------------+---------+\n",
            "\n"
          ]
        }
      ]
    },
    {
      "cell_type": "markdown",
      "source": [
        "## ***11. Display Name of The Students Having Marks Greater Than 90***"
      ],
      "metadata": {
        "id": "4VlC1MH8bJXT"
      }
    },
    {
      "cell_type": "code",
      "source": [
        "df.filter(df['Marks']>90).show()"
      ],
      "metadata": {
        "id": "Ydrl_JObEVsA",
        "colab": {
          "base_uri": "https://localhost:8080/"
        },
        "outputId": "9d0a5829-c2ef-4070-c6a6-93c99f308ccc"
      },
      "execution_count": 34,
      "outputs": [
        {
          "output_type": "stream",
          "name": "stdout",
          "text": [
            "+------------+-----+-------------+---------+\n",
            "|Student_Name|Marks|       Grades|New_Marks|\n",
            "+------------+-----+-------------+---------+\n",
            "|     Priyang|   98|not available|       99|\n",
            "|      Krisha|   99|           AA|      100|\n",
            "+------------+-----+-------------+---------+\n",
            "\n"
          ]
        }
      ]
    },
    {
      "cell_type": "code",
      "source": [
        "df.filter(df['Marks']>90).select('Student_Name').show()"
      ],
      "metadata": {
        "id": "dEVNB0-bceAb",
        "outputId": "52e9accc-1da3-448a-f596-fe3147067f9e",
        "colab": {
          "base_uri": "https://localhost:8080/"
        }
      },
      "execution_count": 36,
      "outputs": [
        {
          "output_type": "stream",
          "name": "stdout",
          "text": [
            "+------------+\n",
            "|Student_Name|\n",
            "+------------+\n",
            "|     Priyang|\n",
            "|      Krisha|\n",
            "+------------+\n",
            "\n"
          ]
        }
      ]
    },
    {
      "cell_type": "markdown",
      "source": [
        "## ***12. Display Name and Grade column Having Marks Greater Than 90***"
      ],
      "metadata": {
        "id": "O1Y4BSild3RT"
      }
    },
    {
      "cell_type": "code",
      "source": [
        "df.filter(df['Marks']>90).select(['Student_Name','Grades']).show()"
      ],
      "metadata": {
        "id": "kxekZ2rPdy1J",
        "outputId": "b00d234f-d203-461b-b68f-6fa4511f8b01",
        "colab": {
          "base_uri": "https://localhost:8080/"
        }
      },
      "execution_count": 38,
      "outputs": [
        {
          "output_type": "stream",
          "name": "stdout",
          "text": [
            "+------------+-------------+\n",
            "|Student_Name|       Grades|\n",
            "+------------+-------------+\n",
            "|     Priyang|not available|\n",
            "|      Krisha|           AA|\n",
            "+------------+-------------+\n",
            "\n"
          ]
        }
      ]
    },
    {
      "cell_type": "markdown",
      "source": [
        "## ***13. Sort Every Row of The Dataset into Descending Order***"
      ],
      "metadata": {
        "id": "UWkII2dDgGEC"
      }
    },
    {
      "cell_type": "code",
      "source": [
        "df.columns"
      ],
      "metadata": {
        "id": "iq1ccGLze9cf",
        "outputId": "cbd53688-70a7-4f35-8511-7cf3b0a4efb9",
        "colab": {
          "base_uri": "https://localhost:8080/"
        }
      },
      "execution_count": 39,
      "outputs": [
        {
          "output_type": "execute_result",
          "data": {
            "text/plain": [
              "['Student_Name', 'Marks', 'Grades', 'New_Marks']"
            ]
          },
          "metadata": {},
          "execution_count": 39
        }
      ]
    },
    {
      "cell_type": "code",
      "source": [
        "df.orderBy(df['Marks']).show()"
      ],
      "metadata": {
        "id": "dtXNlhOkgeG5",
        "outputId": "701ddc83-df26-455c-d89a-3702944bdffc",
        "colab": {
          "base_uri": "https://localhost:8080/"
        }
      },
      "execution_count": 40,
      "outputs": [
        {
          "output_type": "stream",
          "name": "stdout",
          "text": [
            "+------------+-----+-------------+---------+\n",
            "|Student_Name|Marks|       Grades|New_Marks|\n",
            "+------------+-----+-------------+---------+\n",
            "|      Mittal|   36|           BA|       37|\n",
            "|     Archana|   82|           BB|       83|\n",
            "|      Vedant|   87|           NA|       88|\n",
            "|      Aadhya|   89|           AB|       90|\n",
            "|      Parshv|   90|           AC|       91|\n",
            "|     Priyang|   98|not available|       99|\n",
            "|      Krisha|   99|           AA|      100|\n",
            "+------------+-----+-------------+---------+\n",
            "\n"
          ]
        }
      ]
    },
    {
      "cell_type": "code",
      "source": [
        "df.orderBy(df['Marks'].desc()).show()"
      ],
      "metadata": {
        "id": "PjbXzhalgmqp",
        "outputId": "526816eb-b1a3-49b4-d42e-92eef47d98c3",
        "colab": {
          "base_uri": "https://localhost:8080/"
        }
      },
      "execution_count": 41,
      "outputs": [
        {
          "output_type": "stream",
          "name": "stdout",
          "text": [
            "+------------+-----+-------------+---------+\n",
            "|Student_Name|Marks|       Grades|New_Marks|\n",
            "+------------+-----+-------------+---------+\n",
            "|      Krisha|   99|           AA|      100|\n",
            "|     Priyang|   98|not available|       99|\n",
            "|      Parshv|   90|           AC|       91|\n",
            "|      Aadhya|   89|           AB|       90|\n",
            "|      Vedant|   87|           NA|       88|\n",
            "|     Archana|   82|           BB|       83|\n",
            "|      Mittal|   36|           BA|       37|\n",
            "+------------+-----+-------------+---------+\n",
            "\n"
          ]
        }
      ]
    },
    {
      "cell_type": "markdown",
      "source": [
        "## ***14. Handling Missing Values***"
      ],
      "metadata": {
        "id": "tKTtVavHg8GT"
      }
    },
    {
      "cell_type": "code",
      "source": [
        "df.show()"
      ],
      "metadata": {
        "id": "sQLtpnw3g0L5",
        "outputId": "627574d5-6610-4cf8-c2bf-3aecd7968d56",
        "colab": {
          "base_uri": "https://localhost:8080/"
        }
      },
      "execution_count": 42,
      "outputs": [
        {
          "output_type": "stream",
          "name": "stdout",
          "text": [
            "+------------+-----+-------------+---------+\n",
            "|Student_Name|Marks|       Grades|New_Marks|\n",
            "+------------+-----+-------------+---------+\n",
            "|     Priyang|   98|not available|       99|\n",
            "|      Aadhya|   89|           AB|       90|\n",
            "|      Krisha|   99|           AA|      100|\n",
            "|      Vedant|   87|           NA|       88|\n",
            "|      Parshv|   90|           AC|       91|\n",
            "|      Mittal|   36|           BA|       37|\n",
            "|     Archana|   82|           BB|       83|\n",
            "+------------+-----+-------------+---------+\n",
            "\n"
          ]
        }
      ]
    },
    {
      "cell_type": "code",
      "source": [
        "from pyspark.sql import functions as F\n",
        "\n",
        "# Replace 'NA' and 'not available' with None (null)\n",
        "df_cleaned = df.replace(['NA', 'not available'], None, subset=['Grades'])\n",
        "\n",
        "# Show the cleaned DataFrame\n",
        "df_cleaned.show()\n"
      ],
      "metadata": {
        "id": "TaEaxj7zhIMI",
        "outputId": "5514f489-e733-4ff1-cf9a-e4bbdbed250d",
        "colab": {
          "base_uri": "https://localhost:8080/"
        }
      },
      "execution_count": 46,
      "outputs": [
        {
          "output_type": "stream",
          "name": "stdout",
          "text": [
            "+------------+-----+------+---------+\n",
            "|Student_Name|Marks|Grades|New_Marks|\n",
            "+------------+-----+------+---------+\n",
            "|     Priyang|   98|  NULL|       99|\n",
            "|      Aadhya|   89|    AB|       90|\n",
            "|      Krisha|   99|    AA|      100|\n",
            "|      Vedant|   87|  NULL|       88|\n",
            "|      Parshv|   90|    AC|       91|\n",
            "|      Mittal|   36|    BA|       37|\n",
            "|     Archana|   82|    BB|       83|\n",
            "+------------+-----+------+---------+\n",
            "\n"
          ]
        }
      ]
    },
    {
      "cell_type": "code",
      "source": [
        "# Fill NULL values in the 'Grades' column with 'Unknown'\n",
        "df_filled = df.fillna(value='Unknown', subset=['Grades'])\n",
        "\n",
        "# Show the DataFrame after filling NULL values\n",
        "df_filled.show()\n"
      ],
      "metadata": {
        "id": "jwugPB_7iQ_4",
        "outputId": "6805bc63-d021-4134-b55b-6864b3352522",
        "colab": {
          "base_uri": "https://localhost:8080/"
        }
      },
      "execution_count": 47,
      "outputs": [
        {
          "output_type": "stream",
          "name": "stdout",
          "text": [
            "+------------+-----+-------------+---------+\n",
            "|Student_Name|Marks|       Grades|New_Marks|\n",
            "+------------+-----+-------------+---------+\n",
            "|     Priyang|   98|not available|       99|\n",
            "|      Aadhya|   89|           AB|       90|\n",
            "|      Krisha|   99|           AA|      100|\n",
            "|      Vedant|   87|           NA|       88|\n",
            "|      Parshv|   90|           AC|       91|\n",
            "|      Mittal|   36|           BA|       37|\n",
            "|     Archana|   82|           BB|       83|\n",
            "+------------+-----+-------------+---------+\n",
            "\n"
          ]
        }
      ]
    }
  ]
}