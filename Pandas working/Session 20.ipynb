{
 "cells": [
  {
   "cell_type": "markdown",
   "id": "c716903a-359b-46f0-931e-f1dc7a674af9",
   "metadata": {},
   "source": [
    "## ***1. Display Top 10 5 Rows of The Dataset***"
   ]
  },
  {
   "cell_type": "markdown",
   "id": "f2504440-97b5-4fbf-b9cf-cd751738e4f7",
   "metadata": {},
   "source": [
    "## ***2.Check Last 10 Rows of The Dataset***"
   ]
  },
  {
   "cell_type": "markdown",
   "id": "19f82c89-4b61-4e4f-93db-47479c77932a",
   "metadata": {},
   "source": [
    "## ***3. Find Shape our Dataset (Number of Rows and Number of Columns)***"
   ]
  },
  {
   "cell_type": "markdown",
   "id": "44074f96-cefb-4a76-bc76-c9dcfa704854",
   "metadata": {},
   "source": [
    "## ***4. Getting ALl Information About Our Dataset***"
   ]
  },
  {
   "cell_type": "markdown",
   "id": "f49ce940-2e7b-4bc3-831d-e4fd5439daca",
   "metadata": {},
   "source": [
    "## ***5. Check Null Values In the Dataset***"
   ]
  },
  {
   "cell_type": "markdown",
   "id": "e696842b-30bb-4ca3-9cd5-93df780232ea",
   "metadata": {},
   "source": [
    "## ***6. Drop ID, Notes, Agency and Status Columns***"
   ]
  },
  {
   "cell_type": "markdown",
   "id": "b9ed8fac-26cd-4755-94ff-66b617c1956b",
   "metadata": {},
   "source": [
    "## ***7. Get Overall Statistics About the Dataframe***"
   ]
  },
  {
   "cell_type": "markdown",
   "id": "e1ad0569-5a09-4352-870c-069b56da2a97",
   "metadata": {},
   "source": [
    "## ***8. Find Occurrence of The Employee Names (Top 5)***"
   ]
  },
  {
   "cell_type": "markdown",
   "id": "1f625ef4-4acd-4c7b-bd4c-34a289fcd8cb",
   "metadata": {},
   "source": [
    "## ***9. Find The Number of Unique Job Titles***"
   ]
  },
  {
   "cell_type": "markdown",
   "id": "a96d1e6f-6d26-4eee-af48-b77c23b957b1",
   "metadata": {},
   "source": [
    "## ***10. Total Number of Job Titles Contain Captain***"
   ]
  },
  {
   "cell_type": "markdown",
   "id": "3bb8a70f-6b14-42b5-9097-fc6a5fb2da28",
   "metadata": {},
   "source": [
    "## ***11. Display All The Employee Names From Fire Department***"
   ]
  },
  {
   "cell_type": "markdown",
   "id": "f11fe7c2-058c-4539-bf25-f05a17d4e818",
   "metadata": {},
   "source": [
    "## ***12. Find Minimum, Maximum, Average BasepPay***"
   ]
  },
  {
   "cell_type": "markdown",
   "id": "550a3654-d04b-4e13-b92d-af3777d8763a",
   "metadata": {},
   "source": [
    "## ***13. Replace 'Not Provided' in EmployeeName Column to Nan***"
   ]
  },
  {
   "cell_type": "markdown",
   "id": "839e2e22-4bc7-4f88-8d89-d6ce996c07fa",
   "metadata": {},
   "source": [
    "## ***14. Find Job Title of ALBERT PARDINI***"
   ]
  },
  {
   "cell_type": "markdown",
   "id": "2aa15fce-20bf-47f1-af9b-1dfa208b8537",
   "metadata": {},
   "source": [
    "## ***15. How Much ALBERT PARDINI Make (Include TotalPayBenefits)?***"
   ]
  },
  {
   "cell_type": "markdown",
   "id": "d9e7f308-2430-433d-bffe-d9094f897075",
   "metadata": {},
   "source": [
    "## ***16. Display Name of The Person Having The Highest BasePay***"
   ]
  },
  {
   "cell_type": "markdown",
   "id": "c83d0e19-3c86-482a-9ece-d1251be7bd9b",
   "metadata": {},
   "source": [
    "## ***17. Find Average BasePay Of All Employee Per Year***"
   ]
  },
  {
   "cell_type": "markdown",
   "id": "5a777d08-453c-4ebd-8d77-17a8b3d6b046",
   "metadata": {},
   "source": [
    "## ***18. Find Average BasePay Of All Employee Per Job Title***"
   ]
  },
  {
   "cell_type": "markdown",
   "id": "b5a15bed-89d4-4b5e-8a94-f9bf20baa4de",
   "metadata": {},
   "source": [
    "## ***19. Find Average BasePay Of Employee Having Job Title ACCOUNTANT***"
   ]
  },
  {
   "cell_type": "markdown",
   "id": "2c256ada-9d15-4f30-805b-3ff84dbc6a68",
   "metadata": {},
   "source": [
    "## ***20. Find Top 5 Most Common Jobs***"
   ]
  }
 ],
 "metadata": {
  "kernelspec": {
   "display_name": "Python 3 (ipykernel)",
   "language": "python",
   "name": "python3"
  },
  "language_info": {
   "codemirror_mode": {
    "name": "ipython",
    "version": 3
   },
   "file_extension": ".py",
   "mimetype": "text/x-python",
   "name": "python",
   "nbconvert_exporter": "python",
   "pygments_lexer": "ipython3",
   "version": "3.12.4"
  }
 },
 "nbformat": 4,
 "nbformat_minor": 5
}
